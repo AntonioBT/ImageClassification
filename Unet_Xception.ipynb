{
 "cells": [
  {
   "cell_type": "markdown",
   "metadata": {
    "id": "em2oUIpK9bBQ"
   },
   "source": [
    "## Xception U-Net\n",
    "\n",
    "The idea was about transfer learning of Xception in imagenet. After the feature extraction it upsamples the prediction using skip connections like in U-Net.\n",
    "\n"
   ]
  },
  {
   "cell_type": "code",
   "execution_count": null,
   "metadata": {
    "id": "I5FnwOggnFIl"
   },
   "outputs": [],
   "source": [
    "from IPython.core.interactiveshell import InteractiveShell\n",
    "InteractiveShell.ast_node_interactivity = \"all\""
   ]
  },
  {
   "cell_type": "code",
   "execution_count": null,
   "metadata": {
    "id": "tOBDSA9BnFIx"
   },
   "outputs": [],
   "source": [
    "import os\n",
    "\n",
    "# os.environ[\"CUDA_VISIBLE_DEVICES\"]=\"-1\" \n",
    "import tensorflow as tf\n",
    "import numpy as np\n",
    "\n",
    "# Set the seed for random operations. \n",
    "# This let our experiments to be reproducible. \n",
    "SEED = 1234\n",
    "tf.random.set_seed(SEED)  "
   ]
  },
  {
   "cell_type": "code",
   "execution_count": null,
   "metadata": {
    "id": "bns18Nm7oORk"
   },
   "outputs": [],
   "source": [
    "cwd = os.getcwd()"
   ]
  },
  {
   "cell_type": "code",
   "execution_count": null,
   "metadata": {
    "colab": {
     "base_uri": "https://localhost:8080/"
    },
    "id": "Z8bhsWQnnU-i",
    "outputId": "d080000a-340f-4cb7-bdcf-5d2a66eb25db"
   },
   "outputs": [
    {
     "name": "stdout",
     "output_type": "stream",
     "text": [
      "Mounted at /content/drive\n"
     ]
    }
   ],
   "source": [
    "from google.colab import drive\n",
    "drive.mount('/content/drive')"
   ]
  },
  {
   "cell_type": "code",
   "execution_count": null,
   "metadata": {
    "id": "Uw-loJ73n0eS"
   },
   "outputs": [],
   "source": [
    "# !unzip '/content/drive/My Drive/Development_Dataset/Test_Dev/AllTest.zip'"
   ]
  },
  {
   "cell_type": "code",
   "execution_count": null,
   "metadata": {
    "id": "z3gCzJ2NP3Rl"
   },
   "outputs": [],
   "source": [
    "# !ls /content/VOCDataset/Images"
   ]
  },
  {
   "cell_type": "markdown",
   "metadata": {
    "id": "1nTvGxsY4f8W"
   },
   "source": [
    "# **Preparing data for training**\n",
    "1) Copying haricot and maize images from selected teams to a single folder. The structure should be \n",
    "\n",
    "```\n",
    "___/\n",
    "______ Challenge2            # Copy destionation dir\n",
    "_________ Training\n",
    "____________ Images\n",
    "____________ Masks\n",
    "____________ Splits\n",
    "_________ Results\n",
    "____________ submission.json\n",
    "...\n",
    "______ Development_dataset\n",
    "_________ Training\n",
    "____________ Bipbip\n",
    "_______________ Haricot\n",
    "__________________ Images\n",
    "__________________ Masks\n",
    "_______________ Mais\n",
    "____________ Roseau [...]\n",
    "_________ Test_Dev\n",
    "____________ Bipbip\n",
    "____________ Roseau [...]\n",
    "```\n",
    "\n"
   ]
  },
  {
   "cell_type": "code",
   "execution_count": null,
   "metadata": {
    "colab": {
     "base_uri": "https://localhost:8080/",
     "height": 35
    },
    "id": "o4CM5HnHuaIf",
    "outputId": "30669eb1-838e-4855-9795-45c122966740"
   },
   "outputs": [
    {
     "data": {
      "application/vnd.google.colaboratory.intrinsic+json": {
       "type": "string"
      },
      "text/plain": [
       "'/content/drive/My Drive/Challenge2/Training'"
      ]
     },
     "execution_count": 7,
     "metadata": {
      "tags": []
     },
     "output_type": "execute_result"
    }
   ],
   "source": [
    "import shutil\n",
    "\n",
    "# If you want to remove a team or a colture you have to delete all files of dest_train_img and dest_train_mask \n",
    "\n",
    "selected_teams = ['Bipbip'] # Selectable Bipbip, Pead, Roseau, Weedelec\n",
    "\n",
    "original_dataset_dir = '/content/drive/My Drive/Development_Dataset'\n",
    "orig_training_dir = os.path.join(original_dataset_dir, 'Training')\n",
    "\n",
    "dest_dir = '/content/drive/My Drive/Challenge2'\n",
    "dest_training_dir = os.path.join(dest_dir, 'Training')\n",
    "dest_training_dir\n",
    "\n",
    "if not os.path.exists(dest_training_dir):\n",
    "    os.makedirs(dest_training_dir)\n",
    "\n",
    "dest_train_img = os.path.join(dest_training_dir, 'Images')\n",
    "if not os.path.exists(dest_train_img):\n",
    "    os.makedirs(dest_train_img)\n",
    "\n",
    "dest_train_mask = os.path.join(dest_training_dir, 'Masks')\n",
    "if not os.path.exists(dest_train_mask):\n",
    "    os.makedirs(dest_train_mask)\n",
    "\n",
    "colture_types = ['Haricot', 'Mais'] # Selectable Haricot, Mais\n",
    "\n",
    "# Copying files from selected_teams into a single training folder, both Haricot and Maize\n",
    "for team in selected_teams:\n",
    "  curr_team_dir = os.path.join(orig_training_dir, team)\n",
    "  for colture in colture_types:\n",
    "    folder_types = ['Images', 'Masks']\n",
    "    for folder in folder_types:\n",
    "      current_dir = os.path.join(curr_team_dir,colture,folder)\n",
    "      current_dest_dir = os.path.join(dest_training_dir, folder)\n",
    "      src_files = os.listdir(current_dir)\n",
    "      for file_name in src_files:\n",
    "          full_file_name = os.path.join(current_dir, file_name)\n",
    "          if os.path.isfile(full_file_name):\n",
    "            if not os.path.exists(full_file_name):\n",
    "              shutil.copy(full_file_name, current_dest_dir)\n"
   ]
  },
  {
   "cell_type": "markdown",
   "metadata": {
    "id": "OzcRwV-848pW"
   },
   "source": [
    "2) Split training data into two subset training and validation set, creating the txt file in order to reuse function from Lattari's notebook"
   ]
  },
  {
   "cell_type": "code",
   "execution_count": null,
   "metadata": {
    "colab": {
     "base_uri": "https://localhost:8080/"
    },
    "id": "3hgTCYBW5VJW",
    "outputId": "3392e0c2-77ba-45a9-8438-3254bd094979"
   },
   "outputs": [
    {
     "data": {
      "text/plain": [
       "24"
      ]
     },
     "execution_count": 8,
     "metadata": {
      "tags": []
     },
     "output_type": "execute_result"
    },
    {
     "data": {
      "text/plain": [
       "24"
      ]
     },
     "execution_count": 8,
     "metadata": {
      "tags": []
     },
     "output_type": "execute_result"
    },
    {
     "data": {
      "text/plain": [
       "24"
      ]
     },
     "execution_count": 8,
     "metadata": {
      "tags": []
     },
     "output_type": "execute_result"
    },
    {
     "data": {
      "text/plain": [
       "24"
      ]
     },
     "execution_count": 8,
     "metadata": {
      "tags": []
     },
     "output_type": "execute_result"
    },
    {
     "data": {
      "text/plain": [
       "21"
      ]
     },
     "execution_count": 8,
     "metadata": {
      "tags": []
     },
     "output_type": "execute_result"
    },
    {
     "data": {
      "text/plain": [
       "21"
      ]
     },
     "execution_count": 8,
     "metadata": {
      "tags": []
     },
     "output_type": "execute_result"
    },
    {
     "data": {
      "text/plain": [
       "24"
      ]
     },
     "execution_count": 8,
     "metadata": {
      "tags": []
     },
     "output_type": "execute_result"
    },
    {
     "data": {
      "text/plain": [
       "21"
      ]
     },
     "execution_count": 8,
     "metadata": {
      "tags": []
     },
     "output_type": "execute_result"
    },
    {
     "data": {
      "text/plain": [
       "21"
      ]
     },
     "execution_count": 8,
     "metadata": {
      "tags": []
     },
     "output_type": "execute_result"
    },
    {
     "data": {
      "text/plain": [
       "24"
      ]
     },
     "execution_count": 8,
     "metadata": {
      "tags": []
     },
     "output_type": "execute_result"
    },
    {
     "data": {
      "text/plain": [
       "24"
      ]
     },
     "execution_count": 8,
     "metadata": {
      "tags": []
     },
     "output_type": "execute_result"
    },
    {
     "data": {
      "text/plain": [
       "21"
      ]
     },
     "execution_count": 8,
     "metadata": {
      "tags": []
     },
     "output_type": "execute_result"
    },
    {
     "data": {
      "text/plain": [
       "24"
      ]
     },
     "execution_count": 8,
     "metadata": {
      "tags": []
     },
     "output_type": "execute_result"
    },
    {
     "data": {
      "text/plain": [
       "21"
      ]
     },
     "execution_count": 8,
     "metadata": {
      "tags": []
     },
     "output_type": "execute_result"
    },
    {
     "data": {
      "text/plain": [
       "24"
      ]
     },
     "execution_count": 8,
     "metadata": {
      "tags": []
     },
     "output_type": "execute_result"
    },
    {
     "data": {
      "text/plain": [
       "24"
      ]
     },
     "execution_count": 8,
     "metadata": {
      "tags": []
     },
     "output_type": "execute_result"
    },
    {
     "data": {
      "text/plain": [
       "21"
      ]
     },
     "execution_count": 8,
     "metadata": {
      "tags": []
     },
     "output_type": "execute_result"
    },
    {
     "data": {
      "text/plain": [
       "21"
      ]
     },
     "execution_count": 8,
     "metadata": {
      "tags": []
     },
     "output_type": "execute_result"
    },
    {
     "data": {
      "text/plain": [
       "21"
      ]
     },
     "execution_count": 8,
     "metadata": {
      "tags": []
     },
     "output_type": "execute_result"
    },
    {
     "data": {
      "text/plain": [
       "21"
      ]
     },
     "execution_count": 8,
     "metadata": {
      "tags": []
     },
     "output_type": "execute_result"
    },
    {
     "data": {
      "text/plain": [
       "24"
      ]
     },
     "execution_count": 8,
     "metadata": {
      "tags": []
     },
     "output_type": "execute_result"
    },
    {
     "data": {
      "text/plain": [
       "21"
      ]
     },
     "execution_count": 8,
     "metadata": {
      "tags": []
     },
     "output_type": "execute_result"
    },
    {
     "data": {
      "text/plain": [
       "21"
      ]
     },
     "execution_count": 8,
     "metadata": {
      "tags": []
     },
     "output_type": "execute_result"
    },
    {
     "data": {
      "text/plain": [
       "24"
      ]
     },
     "execution_count": 8,
     "metadata": {
      "tags": []
     },
     "output_type": "execute_result"
    },
    {
     "data": {
      "text/plain": [
       "21"
      ]
     },
     "execution_count": 8,
     "metadata": {
      "tags": []
     },
     "output_type": "execute_result"
    },
    {
     "data": {
      "text/plain": [
       "24"
      ]
     },
     "execution_count": 8,
     "metadata": {
      "tags": []
     },
     "output_type": "execute_result"
    },
    {
     "data": {
      "text/plain": [
       "21"
      ]
     },
     "execution_count": 8,
     "metadata": {
      "tags": []
     },
     "output_type": "execute_result"
    },
    {
     "data": {
      "text/plain": [
       "21"
      ]
     },
     "execution_count": 8,
     "metadata": {
      "tags": []
     },
     "output_type": "execute_result"
    },
    {
     "data": {
      "text/plain": [
       "24"
      ]
     },
     "execution_count": 8,
     "metadata": {
      "tags": []
     },
     "output_type": "execute_result"
    },
    {
     "data": {
      "text/plain": [
       "21"
      ]
     },
     "execution_count": 8,
     "metadata": {
      "tags": []
     },
     "output_type": "execute_result"
    },
    {
     "data": {
      "text/plain": [
       "21"
      ]
     },
     "execution_count": 8,
     "metadata": {
      "tags": []
     },
     "output_type": "execute_result"
    },
    {
     "data": {
      "text/plain": [
       "21"
      ]
     },
     "execution_count": 8,
     "metadata": {
      "tags": []
     },
     "output_type": "execute_result"
    },
    {
     "data": {
      "text/plain": [
       "21"
      ]
     },
     "execution_count": 8,
     "metadata": {
      "tags": []
     },
     "output_type": "execute_result"
    },
    {
     "data": {
      "text/plain": [
       "24"
      ]
     },
     "execution_count": 8,
     "metadata": {
      "tags": []
     },
     "output_type": "execute_result"
    },
    {
     "data": {
      "text/plain": [
       "21"
      ]
     },
     "execution_count": 8,
     "metadata": {
      "tags": []
     },
     "output_type": "execute_result"
    },
    {
     "data": {
      "text/plain": [
       "21"
      ]
     },
     "execution_count": 8,
     "metadata": {
      "tags": []
     },
     "output_type": "execute_result"
    },
    {
     "data": {
      "text/plain": [
       "21"
      ]
     },
     "execution_count": 8,
     "metadata": {
      "tags": []
     },
     "output_type": "execute_result"
    },
    {
     "data": {
      "text/plain": [
       "21"
      ]
     },
     "execution_count": 8,
     "metadata": {
      "tags": []
     },
     "output_type": "execute_result"
    },
    {
     "data": {
      "text/plain": [
       "21"
      ]
     },
     "execution_count": 8,
     "metadata": {
      "tags": []
     },
     "output_type": "execute_result"
    },
    {
     "data": {
      "text/plain": [
       "21"
      ]
     },
     "execution_count": 8,
     "metadata": {
      "tags": []
     },
     "output_type": "execute_result"
    },
    {
     "data": {
      "text/plain": [
       "21"
      ]
     },
     "execution_count": 8,
     "metadata": {
      "tags": []
     },
     "output_type": "execute_result"
    },
    {
     "data": {
      "text/plain": [
       "24"
      ]
     },
     "execution_count": 8,
     "metadata": {
      "tags": []
     },
     "output_type": "execute_result"
    },
    {
     "data": {
      "text/plain": [
       "24"
      ]
     },
     "execution_count": 8,
     "metadata": {
      "tags": []
     },
     "output_type": "execute_result"
    },
    {
     "data": {
      "text/plain": [
       "24"
      ]
     },
     "execution_count": 8,
     "metadata": {
      "tags": []
     },
     "output_type": "execute_result"
    },
    {
     "data": {
      "text/plain": [
       "24"
      ]
     },
     "execution_count": 8,
     "metadata": {
      "tags": []
     },
     "output_type": "execute_result"
    },
    {
     "data": {
      "text/plain": [
       "24"
      ]
     },
     "execution_count": 8,
     "metadata": {
      "tags": []
     },
     "output_type": "execute_result"
    },
    {
     "data": {
      "text/plain": [
       "21"
      ]
     },
     "execution_count": 8,
     "metadata": {
      "tags": []
     },
     "output_type": "execute_result"
    },
    {
     "data": {
      "text/plain": [
       "21"
      ]
     },
     "execution_count": 8,
     "metadata": {
      "tags": []
     },
     "output_type": "execute_result"
    },
    {
     "data": {
      "text/plain": [
       "21"
      ]
     },
     "execution_count": 8,
     "metadata": {
      "tags": []
     },
     "output_type": "execute_result"
    },
    {
     "data": {
      "text/plain": [
       "24"
      ]
     },
     "execution_count": 8,
     "metadata": {
      "tags": []
     },
     "output_type": "execute_result"
    },
    {
     "data": {
      "text/plain": [
       "24"
      ]
     },
     "execution_count": 8,
     "metadata": {
      "tags": []
     },
     "output_type": "execute_result"
    },
    {
     "data": {
      "text/plain": [
       "24"
      ]
     },
     "execution_count": 8,
     "metadata": {
      "tags": []
     },
     "output_type": "execute_result"
    },
    {
     "data": {
      "text/plain": [
       "21"
      ]
     },
     "execution_count": 8,
     "metadata": {
      "tags": []
     },
     "output_type": "execute_result"
    },
    {
     "data": {
      "text/plain": [
       "24"
      ]
     },
     "execution_count": 8,
     "metadata": {
      "tags": []
     },
     "output_type": "execute_result"
    },
    {
     "data": {
      "text/plain": [
       "24"
      ]
     },
     "execution_count": 8,
     "metadata": {
      "tags": []
     },
     "output_type": "execute_result"
    },
    {
     "data": {
      "text/plain": [
       "24"
      ]
     },
     "execution_count": 8,
     "metadata": {
      "tags": []
     },
     "output_type": "execute_result"
    },
    {
     "data": {
      "text/plain": [
       "21"
      ]
     },
     "execution_count": 8,
     "metadata": {
      "tags": []
     },
     "output_type": "execute_result"
    },
    {
     "data": {
      "text/plain": [
       "21"
      ]
     },
     "execution_count": 8,
     "metadata": {
      "tags": []
     },
     "output_type": "execute_result"
    },
    {
     "data": {
      "text/plain": [
       "21"
      ]
     },
     "execution_count": 8,
     "metadata": {
      "tags": []
     },
     "output_type": "execute_result"
    },
    {
     "data": {
      "text/plain": [
       "21"
      ]
     },
     "execution_count": 8,
     "metadata": {
      "tags": []
     },
     "output_type": "execute_result"
    },
    {
     "data": {
      "text/plain": [
       "21"
      ]
     },
     "execution_count": 8,
     "metadata": {
      "tags": []
     },
     "output_type": "execute_result"
    },
    {
     "data": {
      "text/plain": [
       "24"
      ]
     },
     "execution_count": 8,
     "metadata": {
      "tags": []
     },
     "output_type": "execute_result"
    },
    {
     "data": {
      "text/plain": [
       "24"
      ]
     },
     "execution_count": 8,
     "metadata": {
      "tags": []
     },
     "output_type": "execute_result"
    },
    {
     "data": {
      "text/plain": [
       "21"
      ]
     },
     "execution_count": 8,
     "metadata": {
      "tags": []
     },
     "output_type": "execute_result"
    },
    {
     "data": {
      "text/plain": [
       "24"
      ]
     },
     "execution_count": 8,
     "metadata": {
      "tags": []
     },
     "output_type": "execute_result"
    },
    {
     "data": {
      "text/plain": [
       "21"
      ]
     },
     "execution_count": 8,
     "metadata": {
      "tags": []
     },
     "output_type": "execute_result"
    },
    {
     "data": {
      "text/plain": [
       "24"
      ]
     },
     "execution_count": 8,
     "metadata": {
      "tags": []
     },
     "output_type": "execute_result"
    },
    {
     "data": {
      "text/plain": [
       "24"
      ]
     },
     "execution_count": 8,
     "metadata": {
      "tags": []
     },
     "output_type": "execute_result"
    },
    {
     "data": {
      "text/plain": [
       "24"
      ]
     },
     "execution_count": 8,
     "metadata": {
      "tags": []
     },
     "output_type": "execute_result"
    },
    {
     "data": {
      "text/plain": [
       "24"
      ]
     },
     "execution_count": 8,
     "metadata": {
      "tags": []
     },
     "output_type": "execute_result"
    },
    {
     "data": {
      "text/plain": [
       "24"
      ]
     },
     "execution_count": 8,
     "metadata": {
      "tags": []
     },
     "output_type": "execute_result"
    },
    {
     "data": {
      "text/plain": [
       "24"
      ]
     },
     "execution_count": 8,
     "metadata": {
      "tags": []
     },
     "output_type": "execute_result"
    },
    {
     "data": {
      "text/plain": [
       "21"
      ]
     },
     "execution_count": 8,
     "metadata": {
      "tags": []
     },
     "output_type": "execute_result"
    },
    {
     "data": {
      "text/plain": [
       "24"
      ]
     },
     "execution_count": 8,
     "metadata": {
      "tags": []
     },
     "output_type": "execute_result"
    },
    {
     "data": {
      "text/plain": [
       "21"
      ]
     },
     "execution_count": 8,
     "metadata": {
      "tags": []
     },
     "output_type": "execute_result"
    },
    {
     "data": {
      "text/plain": [
       "21"
      ]
     },
     "execution_count": 8,
     "metadata": {
      "tags": []
     },
     "output_type": "execute_result"
    },
    {
     "data": {
      "text/plain": [
       "21"
      ]
     },
     "execution_count": 8,
     "metadata": {
      "tags": []
     },
     "output_type": "execute_result"
    },
    {
     "data": {
      "text/plain": [
       "24"
      ]
     },
     "execution_count": 8,
     "metadata": {
      "tags": []
     },
     "output_type": "execute_result"
    },
    {
     "data": {
      "text/plain": [
       "24"
      ]
     },
     "execution_count": 8,
     "metadata": {
      "tags": []
     },
     "output_type": "execute_result"
    },
    {
     "data": {
      "text/plain": [
       "21"
      ]
     },
     "execution_count": 8,
     "metadata": {
      "tags": []
     },
     "output_type": "execute_result"
    },
    {
     "data": {
      "text/plain": [
       "21"
      ]
     },
     "execution_count": 8,
     "metadata": {
      "tags": []
     },
     "output_type": "execute_result"
    },
    {
     "data": {
      "text/plain": [
       "21"
      ]
     },
     "execution_count": 8,
     "metadata": {
      "tags": []
     },
     "output_type": "execute_result"
    },
    {
     "data": {
      "text/plain": [
       "24"
      ]
     },
     "execution_count": 8,
     "metadata": {
      "tags": []
     },
     "output_type": "execute_result"
    },
    {
     "data": {
      "text/plain": [
       "24"
      ]
     },
     "execution_count": 8,
     "metadata": {
      "tags": []
     },
     "output_type": "execute_result"
    },
    {
     "data": {
      "text/plain": [
       "21"
      ]
     },
     "execution_count": 8,
     "metadata": {
      "tags": []
     },
     "output_type": "execute_result"
    },
    {
     "data": {
      "text/plain": [
       "21"
      ]
     },
     "execution_count": 8,
     "metadata": {
      "tags": []
     },
     "output_type": "execute_result"
    },
    {
     "data": {
      "text/plain": [
       "21"
      ]
     },
     "execution_count": 8,
     "metadata": {
      "tags": []
     },
     "output_type": "execute_result"
    },
    {
     "data": {
      "text/plain": [
       "21"
      ]
     },
     "execution_count": 8,
     "metadata": {
      "tags": []
     },
     "output_type": "execute_result"
    },
    {
     "data": {
      "text/plain": [
       "21"
      ]
     },
     "execution_count": 8,
     "metadata": {
      "tags": []
     },
     "output_type": "execute_result"
    },
    {
     "data": {
      "text/plain": [
       "24"
      ]
     },
     "execution_count": 8,
     "metadata": {
      "tags": []
     },
     "output_type": "execute_result"
    },
    {
     "data": {
      "text/plain": [
       "24"
      ]
     },
     "execution_count": 8,
     "metadata": {
      "tags": []
     },
     "output_type": "execute_result"
    },
    {
     "data": {
      "text/plain": [
       "21"
      ]
     },
     "execution_count": 8,
     "metadata": {
      "tags": []
     },
     "output_type": "execute_result"
    },
    {
     "data": {
      "text/plain": [
       "21"
      ]
     },
     "execution_count": 8,
     "metadata": {
      "tags": []
     },
     "output_type": "execute_result"
    },
    {
     "data": {
      "text/plain": [
       "21"
      ]
     },
     "execution_count": 8,
     "metadata": {
      "tags": []
     },
     "output_type": "execute_result"
    },
    {
     "data": {
      "text/plain": [
       "24"
      ]
     },
     "execution_count": 8,
     "metadata": {
      "tags": []
     },
     "output_type": "execute_result"
    },
    {
     "data": {
      "text/plain": [
       "24"
      ]
     },
     "execution_count": 8,
     "metadata": {
      "tags": []
     },
     "output_type": "execute_result"
    },
    {
     "data": {
      "text/plain": [
       "21"
      ]
     },
     "execution_count": 8,
     "metadata": {
      "tags": []
     },
     "output_type": "execute_result"
    },
    {
     "data": {
      "text/plain": [
       "24"
      ]
     },
     "execution_count": 8,
     "metadata": {
      "tags": []
     },
     "output_type": "execute_result"
    },
    {
     "data": {
      "text/plain": [
       "21"
      ]
     },
     "execution_count": 8,
     "metadata": {
      "tags": []
     },
     "output_type": "execute_result"
    },
    {
     "data": {
      "text/plain": [
       "24"
      ]
     },
     "execution_count": 8,
     "metadata": {
      "tags": []
     },
     "output_type": "execute_result"
    },
    {
     "data": {
      "text/plain": [
       "24"
      ]
     },
     "execution_count": 8,
     "metadata": {
      "tags": []
     },
     "output_type": "execute_result"
    },
    {
     "data": {
      "text/plain": [
       "24"
      ]
     },
     "execution_count": 8,
     "metadata": {
      "tags": []
     },
     "output_type": "execute_result"
    },
    {
     "data": {
      "text/plain": [
       "21"
      ]
     },
     "execution_count": 8,
     "metadata": {
      "tags": []
     },
     "output_type": "execute_result"
    },
    {
     "data": {
      "text/plain": [
       "24"
      ]
     },
     "execution_count": 8,
     "metadata": {
      "tags": []
     },
     "output_type": "execute_result"
    },
    {
     "data": {
      "text/plain": [
       "24"
      ]
     },
     "execution_count": 8,
     "metadata": {
      "tags": []
     },
     "output_type": "execute_result"
    },
    {
     "data": {
      "text/plain": [
       "21"
      ]
     },
     "execution_count": 8,
     "metadata": {
      "tags": []
     },
     "output_type": "execute_result"
    },
    {
     "data": {
      "text/plain": [
       "24"
      ]
     },
     "execution_count": 8,
     "metadata": {
      "tags": []
     },
     "output_type": "execute_result"
    },
    {
     "data": {
      "text/plain": [
       "21"
      ]
     },
     "execution_count": 8,
     "metadata": {
      "tags": []
     },
     "output_type": "execute_result"
    },
    {
     "data": {
      "text/plain": [
       "24"
      ]
     },
     "execution_count": 8,
     "metadata": {
      "tags": []
     },
     "output_type": "execute_result"
    },
    {
     "data": {
      "text/plain": [
       "24"
      ]
     },
     "execution_count": 8,
     "metadata": {
      "tags": []
     },
     "output_type": "execute_result"
    },
    {
     "data": {
      "text/plain": [
       "24"
      ]
     },
     "execution_count": 8,
     "metadata": {
      "tags": []
     },
     "output_type": "execute_result"
    },
    {
     "data": {
      "text/plain": [
       "24"
      ]
     },
     "execution_count": 8,
     "metadata": {
      "tags": []
     },
     "output_type": "execute_result"
    },
    {
     "data": {
      "text/plain": [
       "24"
      ]
     },
     "execution_count": 8,
     "metadata": {
      "tags": []
     },
     "output_type": "execute_result"
    },
    {
     "data": {
      "text/plain": [
       "24"
      ]
     },
     "execution_count": 8,
     "metadata": {
      "tags": []
     },
     "output_type": "execute_result"
    },
    {
     "data": {
      "text/plain": [
       "24"
      ]
     },
     "execution_count": 8,
     "metadata": {
      "tags": []
     },
     "output_type": "execute_result"
    },
    {
     "data": {
      "text/plain": [
       "24"
      ]
     },
     "execution_count": 8,
     "metadata": {
      "tags": []
     },
     "output_type": "execute_result"
    },
    {
     "data": {
      "text/plain": [
       "24"
      ]
     },
     "execution_count": 8,
     "metadata": {
      "tags": []
     },
     "output_type": "execute_result"
    },
    {
     "data": {
      "text/plain": [
       "21"
      ]
     },
     "execution_count": 8,
     "metadata": {
      "tags": []
     },
     "output_type": "execute_result"
    },
    {
     "data": {
      "text/plain": [
       "24"
      ]
     },
     "execution_count": 8,
     "metadata": {
      "tags": []
     },
     "output_type": "execute_result"
    },
    {
     "data": {
      "text/plain": [
       "24"
      ]
     },
     "execution_count": 8,
     "metadata": {
      "tags": []
     },
     "output_type": "execute_result"
    },
    {
     "data": {
      "text/plain": [
       "24"
      ]
     },
     "execution_count": 8,
     "metadata": {
      "tags": []
     },
     "output_type": "execute_result"
    },
    {
     "data": {
      "text/plain": [
       "24"
      ]
     },
     "execution_count": 8,
     "metadata": {
      "tags": []
     },
     "output_type": "execute_result"
    },
    {
     "data": {
      "text/plain": [
       "21"
      ]
     },
     "execution_count": 8,
     "metadata": {
      "tags": []
     },
     "output_type": "execute_result"
    },
    {
     "data": {
      "text/plain": [
       "24"
      ]
     },
     "execution_count": 8,
     "metadata": {
      "tags": []
     },
     "output_type": "execute_result"
    },
    {
     "data": {
      "text/plain": [
       "21"
      ]
     },
     "execution_count": 8,
     "metadata": {
      "tags": []
     },
     "output_type": "execute_result"
    },
    {
     "data": {
      "text/plain": [
       "21"
      ]
     },
     "execution_count": 8,
     "metadata": {
      "tags": []
     },
     "output_type": "execute_result"
    },
    {
     "data": {
      "text/plain": [
       "21"
      ]
     },
     "execution_count": 8,
     "metadata": {
      "tags": []
     },
     "output_type": "execute_result"
    },
    {
     "data": {
      "text/plain": [
       "21"
      ]
     },
     "execution_count": 8,
     "metadata": {
      "tags": []
     },
     "output_type": "execute_result"
    },
    {
     "data": {
      "text/plain": [
       "21"
      ]
     },
     "execution_count": 8,
     "metadata": {
      "tags": []
     },
     "output_type": "execute_result"
    },
    {
     "data": {
      "text/plain": [
       "24"
      ]
     },
     "execution_count": 8,
     "metadata": {
      "tags": []
     },
     "output_type": "execute_result"
    },
    {
     "data": {
      "text/plain": [
       "24"
      ]
     },
     "execution_count": 8,
     "metadata": {
      "tags": []
     },
     "output_type": "execute_result"
    },
    {
     "data": {
      "text/plain": [
       "21"
      ]
     },
     "execution_count": 8,
     "metadata": {
      "tags": []
     },
     "output_type": "execute_result"
    },
    {
     "data": {
      "text/plain": [
       "21"
      ]
     },
     "execution_count": 8,
     "metadata": {
      "tags": []
     },
     "output_type": "execute_result"
    },
    {
     "data": {
      "text/plain": [
       "21"
      ]
     },
     "execution_count": 8,
     "metadata": {
      "tags": []
     },
     "output_type": "execute_result"
    },
    {
     "data": {
      "text/plain": [
       "24"
      ]
     },
     "execution_count": 8,
     "metadata": {
      "tags": []
     },
     "output_type": "execute_result"
    },
    {
     "data": {
      "text/plain": [
       "21"
      ]
     },
     "execution_count": 8,
     "metadata": {
      "tags": []
     },
     "output_type": "execute_result"
    },
    {
     "data": {
      "text/plain": [
       "24"
      ]
     },
     "execution_count": 8,
     "metadata": {
      "tags": []
     },
     "output_type": "execute_result"
    },
    {
     "data": {
      "text/plain": [
       "21"
      ]
     },
     "execution_count": 8,
     "metadata": {
      "tags": []
     },
     "output_type": "execute_result"
    },
    {
     "data": {
      "text/plain": [
       "24"
      ]
     },
     "execution_count": 8,
     "metadata": {
      "tags": []
     },
     "output_type": "execute_result"
    },
    {
     "data": {
      "text/plain": [
       "24"
      ]
     },
     "execution_count": 8,
     "metadata": {
      "tags": []
     },
     "output_type": "execute_result"
    },
    {
     "data": {
      "text/plain": [
       "24"
      ]
     },
     "execution_count": 8,
     "metadata": {
      "tags": []
     },
     "output_type": "execute_result"
    },
    {
     "data": {
      "text/plain": [
       "24"
      ]
     },
     "execution_count": 8,
     "metadata": {
      "tags": []
     },
     "output_type": "execute_result"
    },
    {
     "data": {
      "text/plain": [
       "21"
      ]
     },
     "execution_count": 8,
     "metadata": {
      "tags": []
     },
     "output_type": "execute_result"
    },
    {
     "data": {
      "text/plain": [
       "21"
      ]
     },
     "execution_count": 8,
     "metadata": {
      "tags": []
     },
     "output_type": "execute_result"
    },
    {
     "data": {
      "text/plain": [
       "21"
      ]
     },
     "execution_count": 8,
     "metadata": {
      "tags": []
     },
     "output_type": "execute_result"
    },
    {
     "data": {
      "text/plain": [
       "24"
      ]
     },
     "execution_count": 8,
     "metadata": {
      "tags": []
     },
     "output_type": "execute_result"
    },
    {
     "data": {
      "text/plain": [
       "21"
      ]
     },
     "execution_count": 8,
     "metadata": {
      "tags": []
     },
     "output_type": "execute_result"
    },
    {
     "data": {
      "text/plain": [
       "24"
      ]
     },
     "execution_count": 8,
     "metadata": {
      "tags": []
     },
     "output_type": "execute_result"
    },
    {
     "data": {
      "text/plain": [
       "21"
      ]
     },
     "execution_count": 8,
     "metadata": {
      "tags": []
     },
     "output_type": "execute_result"
    },
    {
     "data": {
      "text/plain": [
       "21"
      ]
     },
     "execution_count": 8,
     "metadata": {
      "tags": []
     },
     "output_type": "execute_result"
    },
    {
     "data": {
      "text/plain": [
       "21"
      ]
     },
     "execution_count": 8,
     "metadata": {
      "tags": []
     },
     "output_type": "execute_result"
    },
    {
     "data": {
      "text/plain": [
       "24"
      ]
     },
     "execution_count": 8,
     "metadata": {
      "tags": []
     },
     "output_type": "execute_result"
    },
    {
     "data": {
      "text/plain": [
       "24"
      ]
     },
     "execution_count": 8,
     "metadata": {
      "tags": []
     },
     "output_type": "execute_result"
    },
    {
     "data": {
      "text/plain": [
       "24"
      ]
     },
     "execution_count": 8,
     "metadata": {
      "tags": []
     },
     "output_type": "execute_result"
    },
    {
     "data": {
      "text/plain": [
       "21"
      ]
     },
     "execution_count": 8,
     "metadata": {
      "tags": []
     },
     "output_type": "execute_result"
    },
    {
     "data": {
      "text/plain": [
       "24"
      ]
     },
     "execution_count": 8,
     "metadata": {
      "tags": []
     },
     "output_type": "execute_result"
    },
    {
     "data": {
      "text/plain": [
       "24"
      ]
     },
     "execution_count": 8,
     "metadata": {
      "tags": []
     },
     "output_type": "execute_result"
    },
    {
     "data": {
      "text/plain": [
       "21"
      ]
     },
     "execution_count": 8,
     "metadata": {
      "tags": []
     },
     "output_type": "execute_result"
    },
    {
     "data": {
      "text/plain": [
       "24"
      ]
     },
     "execution_count": 8,
     "metadata": {
      "tags": []
     },
     "output_type": "execute_result"
    },
    {
     "data": {
      "text/plain": [
       "21"
      ]
     },
     "execution_count": 8,
     "metadata": {
      "tags": []
     },
     "output_type": "execute_result"
    },
    {
     "data": {
      "text/plain": [
       "24"
      ]
     },
     "execution_count": 8,
     "metadata": {
      "tags": []
     },
     "output_type": "execute_result"
    },
    {
     "data": {
      "text/plain": [
       "24"
      ]
     },
     "execution_count": 8,
     "metadata": {
      "tags": []
     },
     "output_type": "execute_result"
    },
    {
     "data": {
      "text/plain": [
       "24"
      ]
     },
     "execution_count": 8,
     "metadata": {
      "tags": []
     },
     "output_type": "execute_result"
    },
    {
     "data": {
      "text/plain": [
       "24"
      ]
     },
     "execution_count": 8,
     "metadata": {
      "tags": []
     },
     "output_type": "execute_result"
    },
    {
     "data": {
      "text/plain": [
       "21"
      ]
     },
     "execution_count": 8,
     "metadata": {
      "tags": []
     },
     "output_type": "execute_result"
    },
    {
     "data": {
      "text/plain": [
       "24"
      ]
     },
     "execution_count": 8,
     "metadata": {
      "tags": []
     },
     "output_type": "execute_result"
    },
    {
     "data": {
      "text/plain": [
       "21"
      ]
     },
     "execution_count": 8,
     "metadata": {
      "tags": []
     },
     "output_type": "execute_result"
    },
    {
     "data": {
      "text/plain": [
       "21"
      ]
     },
     "execution_count": 8,
     "metadata": {
      "tags": []
     },
     "output_type": "execute_result"
    },
    {
     "data": {
      "text/plain": [
       "21"
      ]
     },
     "execution_count": 8,
     "metadata": {
      "tags": []
     },
     "output_type": "execute_result"
    },
    {
     "data": {
      "text/plain": [
       "21"
      ]
     },
     "execution_count": 8,
     "metadata": {
      "tags": []
     },
     "output_type": "execute_result"
    },
    {
     "data": {
      "text/plain": [
       "24"
      ]
     },
     "execution_count": 8,
     "metadata": {
      "tags": []
     },
     "output_type": "execute_result"
    },
    {
     "data": {
      "text/plain": [
       "24"
      ]
     },
     "execution_count": 8,
     "metadata": {
      "tags": []
     },
     "output_type": "execute_result"
    },
    {
     "data": {
      "text/plain": [
       "24"
      ]
     },
     "execution_count": 8,
     "metadata": {
      "tags": []
     },
     "output_type": "execute_result"
    },
    {
     "data": {
      "text/plain": [
       "21"
      ]
     },
     "execution_count": 8,
     "metadata": {
      "tags": []
     },
     "output_type": "execute_result"
    },
    {
     "data": {
      "text/plain": [
       "21"
      ]
     },
     "execution_count": 8,
     "metadata": {
      "tags": []
     },
     "output_type": "execute_result"
    },
    {
     "data": {
      "text/plain": [
       "21"
      ]
     },
     "execution_count": 8,
     "metadata": {
      "tags": []
     },
     "output_type": "execute_result"
    },
    {
     "data": {
      "text/plain": [
       "21"
      ]
     },
     "execution_count": 8,
     "metadata": {
      "tags": []
     },
     "output_type": "execute_result"
    },
    {
     "data": {
      "text/plain": [
       "21"
      ]
     },
     "execution_count": 8,
     "metadata": {
      "tags": []
     },
     "output_type": "execute_result"
    },
    {
     "data": {
      "text/plain": [
       "24"
      ]
     },
     "execution_count": 8,
     "metadata": {
      "tags": []
     },
     "output_type": "execute_result"
    },
    {
     "data": {
      "text/plain": [
       "21"
      ]
     },
     "execution_count": 8,
     "metadata": {
      "tags": []
     },
     "output_type": "execute_result"
    }
   ],
   "source": [
    "training_all_files = os.listdir(dest_train_img)\n",
    "np.random.shuffle(training_all_files)\n",
    "validation_split = 0.1\n",
    "\n",
    "train_files, val_files = np.split(training_all_files, [int(len(training_all_files)*(1-validation_split))])\n",
    "dest_split_dir = os.path.join(dest_training_dir, 'Splits')\n",
    "train_txt_file = os.path.join(dest_split_dir, 'train.txt')\n",
    "val_txt_file = os.path.join(dest_split_dir, 'val.txt')\n",
    "\n",
    "f = open(train_txt_file, \"w\")\n",
    "for single_file in train_files:\n",
    "  f.write(single_file[:-4] + '\\n')\n",
    "f.close()\n",
    "\n",
    "f = open(val_txt_file, \"w\")\n",
    "for single_file in val_files:\n",
    "  f.write(single_file[:-4] + '\\n')\n",
    "f.close()"
   ]
  },
  {
   "cell_type": "markdown",
   "metadata": {
    "id": "mH3lzlVqnFI2"
   },
   "source": [
    "# Example: Image Segmentation\n",
    "## Build segmentation"
   ]
  },
  {
   "cell_type": "code",
   "execution_count": null,
   "metadata": {
    "id": "4N88wG50nFI3"
   },
   "outputs": [],
   "source": [
    "# ImageDataGenerator\n",
    "# ------------------\n",
    "\n",
    "from tensorflow.keras.preprocessing.image import ImageDataGenerator\n",
    "\n",
    "apply_data_augmentation = True\n",
    "\n",
    "# Create training ImageDataGenerator object\n",
    "# We need two different generators for images and corresponding masks\n",
    "if apply_data_augmentation:\n",
    "    img_data_gen = ImageDataGenerator(rotation_range=10,\n",
    "                                      width_shift_range=10,\n",
    "                                      height_shift_range=10,\n",
    "                                      zoom_range=0.3,\n",
    "                                      horizontal_flip=True,\n",
    "                                      vertical_flip=True,\n",
    "                                      fill_mode='reflect')\n",
    "    mask_data_gen = ImageDataGenerator(rotation_range=10,\n",
    "                                       width_shift_range=10,\n",
    "                                       height_shift_range=10,\n",
    "                                       zoom_range=0.3,\n",
    "                                       horizontal_flip=True,\n",
    "                                       vertical_flip=True,\n",
    "                                       fill_mode='reflect')"
   ]
  },
  {
   "cell_type": "code",
   "execution_count": null,
   "metadata": {
    "id": "hsieZk4aKhm6"
   },
   "outputs": [],
   "source": [
    "from PIL import Image\n",
    "\n",
    "def read_rgb_mask(img_path, out_shape):\n",
    "    '''\n",
    "    img_path: path to the mask file\n",
    "    Returns the numpy array containing target values\n",
    "    '''\n",
    "\n",
    "    mask_img = Image.open(img_path)\n",
    "    if (out_shape is not None):\n",
    "      mask_img = mask_img.resize(out_shape)\n",
    "    mask_arr = np.array(mask_img)\n",
    "\n",
    "    new_mask_arr = np.zeros(mask_arr.shape[:2], dtype=mask_arr.dtype)\n",
    "\n",
    "    # Use RGB dictionary in 'RGBtoTarget.txt' to convert RGB to target \n",
    "    # new_mask_arr[np.where(np.all(mask_arr == [216, 124, 18], axis=-1))] = 0 #background \n",
    "    new_mask_arr[np.where(np.all(mask_arr == [254, 124, 18], axis=-1))] = 0 #background \n",
    "    new_mask_arr[np.where(np.all(mask_arr == [255, 255, 255], axis=-1))] = 1 #crop\n",
    "    new_mask_arr[np.where(np.all(mask_arr == [216, 67, 82], axis=-1))] = 2 #weed\n",
    "\n",
    "    return new_mask_arr\n",
    "\n",
    "class CustomDataset(tf.keras.utils.Sequence):\n",
    "\n",
    "  \"\"\"\n",
    "    CustomDataset inheriting from tf.keras.utils.Sequence.\n",
    "\n",
    "    3 main methods:\n",
    "      - __init__: save dataset params like directory, filenames..\n",
    "      - __len__: return the total number of samples in the dataset\n",
    "      - __getitem__: return a sample from the dataset\n",
    "\n",
    "    Note: \n",
    "      - the custom dataset return a single sample from the dataset. Then, we use \n",
    "        a tf.data.Dataset object to group samples into batches.\n",
    "      - in this case we have a different structure of the dataset in memory. \n",
    "        We have all the images in the same folder and the training and validation splits\n",
    "        are defined in text files.\n",
    "\n",
    "  \"\"\"\n",
    "\n",
    "  def __init__(self, dataset_dir, which_subset, img_generator=None, mask_generator=None, \n",
    "               preprocessing_function=None, out_shape=[256, 256], backward_step = 20):\n",
    "    if which_subset == 'training':\n",
    "      subset_file = os.path.join(dataset_dir, 'Splits', 'train.txt')\n",
    "    elif which_subset == 'validation':\n",
    "      subset_file = os.path.join(dataset_dir, 'Splits', 'val.txt')\n",
    "    \n",
    "    with open(subset_file, 'r') as f:\n",
    "      lines = f.readlines()\n",
    "    \n",
    "    subset_filenames = []\n",
    "    for line in lines:\n",
    "      subset_filenames.append(line.strip()) \n",
    "\n",
    "    self.which_subset = which_subset\n",
    "    self.dataset_dir = dataset_dir\n",
    "    self.subset_filenames = subset_filenames\n",
    "    self.img_generator = img_generator\n",
    "    self.mask_generator = mask_generator\n",
    "    self.preprocessing_function = preprocessing_function\n",
    "    self.out_shape = out_shape\n",
    "    self.backward_step = backward_step\n",
    "\n",
    "  def __len__(self):\n",
    "    return len(self.subset_filenames)\n",
    "\n",
    "  def __iter__(self):\n",
    "    \"\"\"Create a generator that iterate over the Sequence.\"\"\"\n",
    "    for item in (self[i] for i in range(len(self))):\n",
    "      # dir(item)\n",
    "      for j in range(len(item[0])):\n",
    "        yield item[0][j], item[1][j]\n",
    "\n",
    "  def __getoriginal__(self,index):\n",
    "    curr_filename = self.subset_filenames[index]\n",
    "    \n",
    "    img = Image.open(os.path.join(self.dataset_dir, 'Images', curr_filename + '.jpg'))\n",
    "    # img_arr = np.array(img)\n",
    "\n",
    "    return img\n",
    "\n",
    "  def __getoriginalmask__(self,index):\n",
    "    curr_filename = self.subset_filenames[index]\n",
    "    \n",
    "    img = Image.open(os.path.join(self.dataset_dir, 'Masks', curr_filename + '.png'))\n",
    "    # img_arr = np.array(img)\n",
    "\n",
    "    return img\n",
    "\n",
    "  def __getitem__(self, index):\n",
    "    # Read Image\n",
    "    curr_filename = self.subset_filenames[index]\n",
    "    img = Image.open(os.path.join(self.dataset_dir, 'Images', curr_filename + '.jpg'))\n",
    "\n",
    "    # Resize image and mask\n",
    "    # img = img.resize(self.out_shape)\n",
    "    \n",
    "    img_arr = np.array(img)\n",
    "    mask_arr = read_rgb_mask(os.path.join(self.dataset_dir, 'Masks', curr_filename + '.png'), None)\n",
    "    # img_arr.shape()\n",
    "    # mask_arr.shape()\n",
    "\n",
    "    # in this dataset 255 mask label is assigned to an additional class, which corresponds \n",
    "    # to the contours of the objects. We remove it for simplicity.\n",
    "    mask_arr[mask_arr == 255] = 0  \n",
    "\n",
    "    mask_arr = np.expand_dims(mask_arr, -1)\n",
    "\n",
    "    if self.which_subset == 'training':\n",
    "      if self.img_generator is not None and self.mask_generator is not None:\n",
    "        # Perform data augmentation\n",
    "        # We can get a random transformation from the ImageDataGenerator using get_random_transform\n",
    "        # and we can apply it to the image using apply_transform\n",
    "        img_t = self.img_generator.get_random_transform(img_arr.shape, seed=SEED)\n",
    "        mask_t = self.mask_generator.get_random_transform(mask_arr.shape, seed=SEED)\n",
    "        img_arr = self.img_generator.apply_transform(img_arr, img_t)\n",
    "        # ImageDataGenerator use bilinear interpolation for augmenting the images.\n",
    "        # Thus, when applied to the masks it will output 'interpolated classes', which\n",
    "        # is an unwanted behaviour. As a trick, we can transform each class mask \n",
    "        # separately and then we can cast to integer values (as in the binary segmentation notebook).\n",
    "        # Finally, we merge the augmented binary masks to obtain the final segmentation mask.\n",
    "        out_mask = np.zeros_like(mask_arr)\n",
    "        for c in np.unique(mask_arr):\n",
    "          if c > 0:\n",
    "            curr_class_arr = np.float32(mask_arr == c)\n",
    "            curr_class_arr = self.mask_generator.apply_transform(curr_class_arr, mask_t)\n",
    "            # from [0, 1] to {0, 1}\n",
    "            curr_class_arr = np.uint8(curr_class_arr)\n",
    "            # recover original class\n",
    "            curr_class_arr = curr_class_arr * c \n",
    "            out_mask += curr_class_arr\n",
    "    else:\n",
    "      out_mask = mask_arr\n",
    "    \n",
    "    if self.preprocessing_function is not None:\n",
    "        img_arr = self.preprocessing_function(img_arr)\n",
    "    \n",
    "    img_arr = img_arr / 255\n",
    "\n",
    "    batch_img = []\n",
    "    batch_mask = []\n",
    "\n",
    "    curr_x = 0\n",
    "    curr_y = 0\n",
    "    source_width = img_arr.shape[1]\n",
    "    source_height = img_arr.shape[0]\n",
    "    out_width = self.out_shape[1]\n",
    "    out_height = self.out_shape[0]\n",
    "    # print(img_arr.shape)\n",
    "\n",
    "    while (curr_y < source_height):\n",
    "      curr_y = curr_y - self.backward_step\n",
    "      if (curr_y < 0):\n",
    "        curr_y = 0\n",
    "      if (curr_y + out_height > source_height):\n",
    "        curr_y = source_height - out_height\n",
    "      curr_x = 0\n",
    "      while (curr_x < source_width):\n",
    "        curr_x = curr_x - self.backward_step\n",
    "        if (curr_x < 0):\n",
    "          curr_x = 0\n",
    "        if (curr_x + out_width > source_width):\n",
    "          curr_x = source_width - out_width\n",
    "        curr_img_arr = img_arr[curr_y : curr_y+out_height, curr_x : curr_x+out_width]\n",
    "        curr_out_mask = out_mask[curr_y : curr_y+out_height, curr_x : curr_x+out_width]\n",
    "        # print(curr_img_arr.shape)\n",
    "        batch_img.append(curr_img_arr)\n",
    "        batch_mask.append(np.float32(curr_out_mask))\n",
    "        curr_x = curr_x + out_width\n",
    "        # yield curr_img_arr, curr_out_mask\n",
    "      curr_y = curr_y + out_height\n",
    "\n",
    "    return batch_img, batch_mask"
   ]
  },
  {
   "cell_type": "code",
   "execution_count": null,
   "metadata": {
    "id": "TyrdiIh_PWjB"
   },
   "outputs": [],
   "source": [
    "from tensorflow.keras.applications.vgg16 import preprocess_input \n",
    "\n",
    "# Bipbip original size 2048 x 1536 [4:3]\n",
    "# Pead original size 3280 x 2464 [4:3]\n",
    "# Roseau original size 1227 x 820 [3:2]\n",
    "# Bipbip original size 5184 x 3456 [3:2]\n",
    "img_h = 832\n",
    "img_w = 832\n",
    "num_classes = 3\n",
    "\n",
    "backstep = 200\n",
    "\n",
    "\n",
    "dataset = CustomDataset(dest_training_dir, 'training', \n",
    "                        img_generator=img_data_gen, mask_generator=mask_data_gen,\n",
    "                        preprocessing_function=None, out_shape=[img_w,img_h], backward_step = backstep)\n",
    "dataset_valid = CustomDataset(dest_training_dir, 'validation', \n",
    "                              preprocessing_function=None, out_shape=[img_w,img_h], backward_step = backstep)\n"
   ]
  },
  {
   "cell_type": "code",
   "execution_count": null,
   "metadata": {
    "id": "usz5SKPeQrOE"
   },
   "outputs": [],
   "source": [
    "batch_size = 4\n",
    "\n",
    "train_dataset = tf.data.Dataset.from_generator(lambda: dataset,\n",
    "                                               output_types=(tf.float32, tf.float32),\n",
    "                                               output_shapes=([img_h, img_w, 3], [img_h, img_w, 1]))\n",
    "\n",
    "train_dataset = train_dataset.batch(batch_size)\n",
    "\n",
    "train_dataset = train_dataset.repeat()\n",
    "\n",
    "valid_dataset = tf.data.Dataset.from_generator(lambda: dataset_valid,\n",
    "                                               output_types=(tf.float32, tf.float32),\n",
    "                                               output_shapes=([img_h, img_w, 3], [img_h, img_w, 1]))\n",
    "valid_dataset = valid_dataset.batch(batch_size)\n",
    "\n",
    "valid_dataset = valid_dataset.repeat()"
   ]
  },
  {
   "cell_type": "code",
   "execution_count": null,
   "metadata": {
    "id": "HOBabUbmnFJE"
   },
   "outputs": [],
   "source": [
    "# Let's test data generator\n",
    "# -------------------------\n",
    "import time\n",
    "from matplotlib import cm\n",
    "import matplotlib.pyplot as plt\n",
    "\n",
    "%matplotlib inline\n",
    "\n",
    "# Assign a color to each class\n",
    "evenly_spaced_interval = np.linspace(0, 1, 20)\n",
    "colors = [cm.rainbow(x) for x in evenly_spaced_interval]\n",
    "\n",
    "iterator = iter(valid_dataset)"
   ]
  },
  {
   "cell_type": "code",
   "execution_count": null,
   "metadata": {
    "colab": {
     "base_uri": "https://localhost:8080/",
     "height": 238
    },
    "id": "9eunbPwWqPnB",
    "outputId": "5b0015f3-51df-4a8c-a5a4-ebf04675780b"
   },
   "outputs": [
    {
     "name": "stdout",
     "output_type": "stream",
     "text": [
      "[0. 2.]\n"
     ]
    },
    {
     "data": {
      "text/plain": [
       "<matplotlib.image.AxesImage at 0x7f806412a1d0>"
      ]
     },
     "execution_count": 14,
     "metadata": {
      "tags": []
     },
     "output_type": "execute_result"
    },
    {
     "data": {
      "text/plain": [
       "<matplotlib.image.AxesImage at 0x7f80c3af67f0>"
      ]
     },
     "execution_count": 14,
     "metadata": {
      "tags": []
     },
     "output_type": "execute_result"
    },
    {
     "data": {
      "image/png": "[encoded data removed]",
      "text/plain": [
       "<Figure size 432x288 with 2 Axes>"
      ]
     },
     "metadata": {
      "needs_background": "light",
      "tags": []
     },
     "output_type": "display_data"
    }
   ],
   "source": [
    "fig, ax = plt.subplots(1, 2)\n",
    "augmented_img, target = next(iterator)\n",
    "augmented_img = augmented_img[0]   # First element\n",
    "augmented_img = augmented_img  # denormalize\n",
    "augmented_img = augmented_img * 255\n",
    "target = np.array(target[0, ..., 0])   # First element (squeezing channel dimension)\n",
    "\n",
    "print(np.unique(target))\n",
    "\n",
    "target_img = np.zeros([target.shape[0], target.shape[1], 3])\n",
    "\n",
    "target_img[np.where(target == 0)] = [0, 0, 0]\n",
    "conv_colors = [[216, 124, 18], [255, 255, 255], [216, 67, 82]]\n",
    "for i in range(1, num_classes):\n",
    "  target_img[np.where(target == i)] = conv_colors[i]\n",
    "\n",
    "ax[0].imshow(np.uint8(augmented_img))\n",
    "ax[1].imshow(np.uint8(target_img))\n",
    "\n",
    "plt.show()\n",
    "\n",
    "# STRANGE SOURCE IMAGES ARE DUE TO VGG PREPROCESS_INPUT FUNCTION"
   ]
  },
  {
   "cell_type": "code",
   "execution_count": null,
   "metadata": {
    "id": "553NrJXrFCZo"
   },
   "outputs": [],
   "source": [
    "def conv_block(inputs, filters, pool=True):\n",
    "    x = tf.keras.layers.Conv2D(filters, 3, padding=\"same\")(inputs)\n",
    "    x = tf.keras.layers.BatchNormalization()(x)\n",
    "    x = tf.keras.layers.Activation(\"relu\")(x)\n",
    "\n",
    "    x = tf.keras.layers.Conv2D(filters, 3, padding=\"same\")(x)\n",
    "    x = tf.keras.layers.BatchNormalization()(x)\n",
    "    x = tf.keras.layers.Activation(\"relu\")(x)\n",
    "\n",
    "    if pool == True:\n",
    "        p = tf.keras.layers.MaxPool2D((2, 2))(x)\n",
    "        return x, p\n",
    "    else:\n",
    "        return x\n",
    "\n",
    "def build_unet(shape, num_classes):\n",
    "    inputs = tf.keras.layers.Input(shape)\n",
    "\n",
    "    \"\"\" Encoder \"\"\"\n",
    "    x1, p1 = conv_block(inputs, 16, pool=True)\n",
    "    x2, p2 = conv_block(p1, 32, pool=True)\n",
    "    x3, p3 = conv_block(p2, 64, pool=True)\n",
    "    x4, p4 = conv_block(p3, 128, pool=True)\n",
    "\n",
    "    \"\"\" Bridge \"\"\"\n",
    "    b1 = conv_block(p4, 256, pool=False)\n",
    "\n",
    "    \"\"\" Decoder \"\"\"\n",
    "    u1 = tf.keras.layers.UpSampling2D((2, 2), interpolation=\"bilinear\")(b1)\n",
    "    c1 = tf.keras.layers.Concatenate()([u1, x4])\n",
    "    x5 = conv_block(c1, 128, pool=False)\n",
    "\n",
    "    u2 = tf.keras.layers.UpSampling2D((2, 2), interpolation=\"bilinear\")(x5)\n",
    "    c2 = tf.keras.layers.Concatenate()([u2, x3])\n",
    "    x6 = conv_block(c2, 64, pool=False)\n",
    "\n",
    "    u3 = tf.keras.layers.UpSampling2D((2, 2), interpolation=\"bilinear\")(x6)\n",
    "    c3 = tf.keras.layers.Concatenate()([u3, x2])\n",
    "    x7 = conv_block(c3, 32, pool=False)\n",
    "\n",
    "    u4 = tf.keras.layers.UpSampling2D((2, 2), interpolation=\"bilinear\")(x7)\n",
    "    c4 = tf.keras.layers.Concatenate()([u4, x1])\n",
    "    x8 = conv_block(c4, 16, pool=False)\n",
    "\n",
    "    \"\"\" Output layer \"\"\"\n",
    "    output = tf.keras.layers.Conv2D(num_classes, 1, padding=\"same\", activation=\"softmax\")(x8)\n",
    "\n",
    "    return tf.keras.Model(inputs, output)"
   ]
  },
  {
   "cell_type": "code",
   "execution_count": null,
   "metadata": {
    "id": "u1SjNYsBV4Wa"
   },
   "outputs": [],
   "source": [
    "def inception_block(inputs, filters):\r\n",
    "    x1 = tf.keras.layers.Conv2D(filters, kernel_size=(1, 1), strides=(1, 1), padding='same')(inputs)\r\n",
    "    # x1 = tf.keras.layers.BatchNormalization()(x1)\r\n",
    "    x1 = tf.keras.layers.Activation(\"relu\")(x1)\r\n",
    "\r\n",
    "    x3 = tf.keras.layers.Conv2D(filters, kernel_size=(3, 3), strides=(1, 1), padding='same')(inputs)\r\n",
    "    # x3 = tf.keras.layers.BatchNormalization()(x3)\r\n",
    "    x3 = tf.keras.layers.Activation(\"relu\")(x3)\r\n",
    "\r\n",
    "    x5 = tf.keras.layers.Conv2D(filters, kernel_size=(5, 5), strides=(1, 1), padding='same')(inputs)\r\n",
    "    # x3 = tf.keras.layers.BatchNormalization()(x3)\r\n",
    "    x5 = tf.keras.layers.Activation(\"relu\")(x5)\r\n",
    "\r\n",
    "    concat = tf.keras.layers.Concatenate()([x1, x3, x5])\r\n",
    "\r\n",
    "    x_reducing = tf.keras.layers.Conv2D(filters, kernel_size=(1, 1), strides=(1, 1), padding='same')(concat)\r\n",
    "\r\n",
    "    return x_reducing\r\n",
    "\r\n",
    "def build_inception_unet(shape, num_classes):\r\n",
    "    inputs = tf.keras.layers.Input(shape)\r\n",
    "\r\n",
    "    batch_norm = tf.keras.layers.BatchNormalization()(inputs)\r\n",
    "    \"\"\" Encoder \"\"\"\r\n",
    "    x1 = inception_block(batch_norm, 16)\r\n",
    "    # Dropout ?\r\n",
    "    p1 = tf.keras.layers.MaxPool2D((2, 2))(x1)\r\n",
    "    x2 = inception_block(p1, 32)\r\n",
    "    p2 = tf.keras.layers.MaxPool2D((2, 2))(x2)\r\n",
    "    x3 = inception_block(p2, 64)\r\n",
    "    p3 = tf.keras.layers.MaxPool2D((2, 2))(x3)\r\n",
    "    x4 = inception_block(p3, 128)\r\n",
    "    p4 = tf.keras.layers.MaxPool2D((2, 2))(x4)\r\n",
    "\r\n",
    "    \"\"\" Bridge \"\"\"\r\n",
    "    b1 = inception_block(p4, 256)\r\n",
    "\r\n",
    "    \"\"\" Decoder \"\"\"\r\n",
    "    u1 = tf.keras.layers.Conv2DTranspose(128, (1,1), strides=(2,2), padding='same')(b1)\r\n",
    "    c1 = tf.keras.layers.Concatenate()([u1, x4])\r\n",
    "    x5 = inception_block(c1, 128)\r\n",
    "\r\n",
    "    u2 = tf.keras.layers.Conv2DTranspose(64, (1,1), strides=(2,2), padding='same')(x5)\r\n",
    "    c2 = tf.keras.layers.Concatenate()([u2, x3])\r\n",
    "    x6 = inception_block(c2, 64)\r\n",
    "\r\n",
    "    u3 = tf.keras.layers.Conv2DTranspose(32, (1,1), strides=(2,2), padding='same')(x6)\r\n",
    "    c3 = tf.keras.layers.Concatenate()([u3, x2])\r\n",
    "    x7 = inception_block(c3, 32)\r\n",
    "\r\n",
    "    u4 = tf.keras.layers.Conv2DTranspose(16, (1,1), strides=(2,2), padding='same')(x7)\r\n",
    "    c4 = tf.keras.layers.Concatenate()([u4, x1])\r\n",
    "    x8 = inception_block(c4, 16)\r\n",
    "\r\n",
    "    \"\"\" Output layer \"\"\"\r\n",
    "    output = tf.keras.layers.Conv2D(num_classes, 1, padding=\"same\", activation=\"softmax\")(x8)\r\n",
    "\r\n",
    "    return tf.keras.Model(inputs, output)"
   ]
  },
  {
   "cell_type": "code",
   "execution_count": null,
   "metadata": {
    "id": "giRjDLQVspZP"
   },
   "outputs": [],
   "source": [
    "from tensorflow.keras.applications.xception import Xception\r\n",
    "\r\n",
    "# base_model.summary()\r\n",
    "\r\n",
    "def build_xception_unet(shape, num_classes, freeze = True): \r\n",
    "    \"\"\" Encoder \"\"\"\r\n",
    "    base_model = tf.keras.applications.Xception(include_top=False, weights='imagenet', input_shape=shape)\r\n",
    "    x1  = base_model.layers[3].output\r\n",
    "    x2 = base_model.layers[15].output\r\n",
    "    x3 = base_model.layers[25].output\r\n",
    "    x4 = base_model.layers[115].output\r\n",
    "    \r\n",
    "    if freeze:\r\n",
    "        freeze_until = 55\r\n",
    "        for layer in base_model.layers[:freeze_until]:\r\n",
    "            layer.trainable = False\r\n",
    "    \r\n",
    "    \"\"\" Bridge \"\"\"\r\n",
    "    \r\n",
    "    b1 = base_model.layers[-1].output  # Final layer in xception\r\n",
    "\r\n",
    "    \r\n",
    "    filters = 256\r\n",
    "    \"\"\" Decoder \"\"\"\r\n",
    "    # u1 = tf.keras.layers.Conv2DTranspose(512, (1,1), strides=(2,2), padding='same')(b1)\r\n",
    "    u1 = tf.keras.layers.UpSampling2D((2, 2), interpolation=\"bilinear\")(b1)\r\n",
    "    c1 = tf.keras.layers.Concatenate()([u1, x4])\r\n",
    "    x5 = conv_block(c1, filters, pool=False)\r\n",
    "    filters = filters / 2\r\n",
    "\r\n",
    "    u2 = tf.keras.layers.UpSampling2D((2, 2), interpolation=\"bilinear\")(x5)\r\n",
    "    c2 = tf.keras.layers.Concatenate()([u2, x3])\r\n",
    "    x6 = conv_block(c2, filters, pool=False)\r\n",
    "    filters = filters / 2\r\n",
    "\r\n",
    "    u3 = tf.keras.layers.UpSampling2D((2, 2), interpolation=\"bilinear\")(x6)\r\n",
    "    padded2 = tf.keras.layers.ZeroPadding2D(padding=((1, 0), (0, 1)))(x2)\r\n",
    "    c3 = tf.keras.layers.Concatenate()([u3, padded2])\r\n",
    "    x7 = conv_block(c3, filters, pool=False)\r\n",
    "    filters = filters / 2\r\n",
    "\r\n",
    "    u4 = tf.keras.layers.UpSampling2D((2, 2), interpolation=\"bilinear\")(x7)\r\n",
    "    padded1 = tf.keras.layers.ZeroPadding2D(padding=((1, 0), (0, 1)))(x1)\r\n",
    "    c4 = tf.keras.layers.Concatenate()([u4, padded1])\r\n",
    "    x8 = conv_block(c4, filters, pool=False)\r\n",
    "    filters = filters / 2\r\n",
    "\r\n",
    "    u5 = tf.keras.layers.UpSampling2D((2, 2), interpolation=\"bilinear\")(x8)\r\n",
    "    x9 = conv_block(u5, filters, pool=False)\r\n",
    "\r\n",
    "    \"\"\" Output layer \"\"\"\r\n",
    "    output = tf.keras.layers.Conv2D(num_classes, 1, padding=\"same\", activation=\"softmax\")(x9)\r\n",
    "\r\n",
    "    return tf.keras.Model(base_model.layers[0].input, output)"
   ]
  },
  {
   "cell_type": "markdown",
   "metadata": {
    "id": "JA1TGlOMnFJM"
   },
   "source": [
    "## Convolutional Neural Network (CNN)\n",
    "### Encoder-Decoder"
   ]
  },
  {
   "cell_type": "code",
   "execution_count": null,
   "metadata": {
    "id": "oFSGjQBow2Lm"
   },
   "outputs": [],
   "source": [
    "# Create Model\n",
    "# ------------\n",
    "\n",
    "def create_model(depth, start_f, num_classes,dynamic_input_shape):\n",
    "\n",
    "    model = tf.keras.Sequential()\n",
    "    \n",
    "    # Encoder\n",
    "    # -------\n",
    "    for i in range(depth):\n",
    "        \n",
    "        if i == 0:\n",
    "            if dynamic_input_shape:\n",
    "                input_shape = [None, None, 3]\n",
    "            else:\n",
    "                input_shape = [img_h, img_w, 3]\n",
    "        else:\n",
    "            input_shape=[None]\n",
    "        \n",
    "        model.add(tf.keras.layers.Conv2D(filters=start_f, \n",
    "                                         kernel_size=(3, 3),\n",
    "                                         strides=(1, 1),\n",
    "                                         padding='same',\n",
    "                                         input_shape=input_shape))\n",
    "        model.add(tf.keras.layers.ReLU())\n",
    "        model.add(tf.keras.layers.MaxPool2D(pool_size=(2, 2)))\n",
    "\n",
    "        start_f *= 2\n",
    "\n",
    "    # Bottleneck\n",
    "    model.add(tf.keras.layers.Conv2D(filters=start_f, kernel_size=(3, 3), strides=(1, 1), padding='same'))\n",
    "    model.add(tf.keras.layers.ReLU())\n",
    "    \n",
    "    start_f = start_f // 2\n",
    "        \n",
    "    # Decoder\n",
    "    # -------\n",
    "    for i in range(depth):\n",
    "        model.add(tf.keras.layers.UpSampling2D(2, interpolation='bilinear'))\n",
    "        model.add(tf.keras.layers.Conv2D(filters=start_f,\n",
    "                                         kernel_size=(3, 3),\n",
    "                                         strides=(1, 1),\n",
    "                                         padding='same'))\n",
    "        model.add(tf.keras.layers.ReLU())\n",
    "\n",
    "        start_f = start_f // 2\n",
    "\n",
    "    # Prediction Layer\n",
    "    # ----------------\n",
    "    model.add(tf.keras.layers.Conv2D(filters=num_classes,\n",
    "                                     kernel_size=(1, 1),\n",
    "                                     strides=(1, 1),\n",
    "                                     padding='same',\n",
    "                                     activation='softmax'))\n",
    "    \n",
    "    return model"
   ]
  },
  {
   "cell_type": "code",
   "execution_count": null,
   "metadata": {
    "colab": {
     "base_uri": "https://localhost:8080/"
    },
    "id": "yP3VZ5XCw7dL",
    "outputId": "a1cf5de8-35f9-46c6-818f-b302d3fb5df7"
   },
   "outputs": [
    {
     "name": "stdout",
     "output_type": "stream",
     "text": [
      "Downloading data from https://storage.googleapis.com/tensorflow/keras-applications/xception/xception_weights_tf_dim_ordering_tf_kernels_notop.h5\n",
      "83689472/83683744 [==============================] - 1s 0us/step\n",
      "Model: \"model\"\n",
      "__________________________________________________________________________________________________\n",
      "Layer (type)                    Output Shape         Param #     Connected to                     \n",
      "==================================================================================================\n",
      "input_1 (InputLayer)            [(None, 832, 832, 3) 0                                            \n",
      "__________________________________________________________________________________________________\n",
      "block1_conv1 (Conv2D)           (None, 415, 415, 32) 864         input_1[0][0]                    \n",
      "__________________________________________________________________________________________________\n",
      "block1_conv1_bn (BatchNormaliza (None, 415, 415, 32) 128         block1_conv1[0][0]               \n",
      "__________________________________________________________________________________________________\n",
      "block1_conv1_act (Activation)   (None, 415, 415, 32) 0           block1_conv1_bn[0][0]            \n",
      "__________________________________________________________________________________________________\n",
      "block1_conv2 (Conv2D)           (None, 413, 413, 64) 18432       block1_conv1_act[0][0]           \n",
      "__________________________________________________________________________________________________\n",
      "block1_conv2_bn (BatchNormaliza (None, 413, 413, 64) 256         block1_conv2[0][0]               \n",
      "__________________________________________________________________________________________________\n",
      "block1_conv2_act (Activation)   (None, 413, 413, 64) 0           block1_conv2_bn[0][0]            \n",
      "__________________________________________________________________________________________________\n",
      "block2_sepconv1 (SeparableConv2 (None, 413, 413, 128 8768        block1_conv2_act[0][0]           \n",
      "__________________________________________________________________________________________________\n",
      "block2_sepconv1_bn (BatchNormal (None, 413, 413, 128 512         block2_sepconv1[0][0]            \n",
      "__________________________________________________________________________________________________\n",
      "block2_sepconv2_act (Activation (None, 413, 413, 128 0           block2_sepconv1_bn[0][0]         \n",
      "__________________________________________________________________________________________________\n",
      "block2_sepconv2 (SeparableConv2 (None, 413, 413, 128 17536       block2_sepconv2_act[0][0]        \n",
      "__________________________________________________________________________________________________\n",
      "block2_sepconv2_bn (BatchNormal (None, 413, 413, 128 512         block2_sepconv2[0][0]            \n",
      "__________________________________________________________________________________________________\n",
      "conv2d (Conv2D)                 (None, 207, 207, 128 8192        block1_conv2_act[0][0]           \n",
      "__________________________________________________________________________________________________\n",
      "block2_pool (MaxPooling2D)      (None, 207, 207, 128 0           block2_sepconv2_bn[0][0]         \n",
      "__________________________________________________________________________________________________\n",
      "batch_normalization (BatchNorma (None, 207, 207, 128 512         conv2d[0][0]                     \n",
      "__________________________________________________________________________________________________\n",
      "add (Add)                       (None, 207, 207, 128 0           block2_pool[0][0]                \n",
      "                                                                 batch_normalization[0][0]        \n",
      "__________________________________________________________________________________________________\n",
      "block3_sepconv1_act (Activation (None, 207, 207, 128 0           add[0][0]                        \n",
      "__________________________________________________________________________________________________\n",
      "block3_sepconv1 (SeparableConv2 (None, 207, 207, 256 33920       block3_sepconv1_act[0][0]        \n",
      "__________________________________________________________________________________________________\n",
      "block3_sepconv1_bn (BatchNormal (None, 207, 207, 256 1024        block3_sepconv1[0][0]            \n",
      "__________________________________________________________________________________________________\n",
      "block3_sepconv2_act (Activation (None, 207, 207, 256 0           block3_sepconv1_bn[0][0]         \n",
      "__________________________________________________________________________________________________\n",
      "block3_sepconv2 (SeparableConv2 (None, 207, 207, 256 67840       block3_sepconv2_act[0][0]        \n",
      "__________________________________________________________________________________________________\n",
      "block3_sepconv2_bn (BatchNormal (None, 207, 207, 256 1024        block3_sepconv2[0][0]            \n",
      "__________________________________________________________________________________________________\n",
      "conv2d_1 (Conv2D)               (None, 104, 104, 256 32768       add[0][0]                        \n",
      "__________________________________________________________________________________________________\n",
      "block3_pool (MaxPooling2D)      (None, 104, 104, 256 0           block3_sepconv2_bn[0][0]         \n",
      "__________________________________________________________________________________________________\n",
      "batch_normalization_1 (BatchNor (None, 104, 104, 256 1024        conv2d_1[0][0]                   \n",
      "__________________________________________________________________________________________________\n",
      "add_1 (Add)                     (None, 104, 104, 256 0           block3_pool[0][0]                \n",
      "                                                                 batch_normalization_1[0][0]      \n",
      "__________________________________________________________________________________________________\n",
      "block4_sepconv1_act (Activation (None, 104, 104, 256 0           add_1[0][0]                      \n",
      "__________________________________________________________________________________________________\n",
      "block4_sepconv1 (SeparableConv2 (None, 104, 104, 728 188672      block4_sepconv1_act[0][0]        \n",
      "__________________________________________________________________________________________________\n",
      "block4_sepconv1_bn (BatchNormal (None, 104, 104, 728 2912        block4_sepconv1[0][0]            \n",
      "__________________________________________________________________________________________________\n",
      "block4_sepconv2_act (Activation (None, 104, 104, 728 0           block4_sepconv1_bn[0][0]         \n",
      "__________________________________________________________________________________________________\n",
      "block4_sepconv2 (SeparableConv2 (None, 104, 104, 728 536536      block4_sepconv2_act[0][0]        \n",
      "__________________________________________________________________________________________________\n",
      "block4_sepconv2_bn (BatchNormal (None, 104, 104, 728 2912        block4_sepconv2[0][0]            \n",
      "__________________________________________________________________________________________________\n",
      "conv2d_2 (Conv2D)               (None, 52, 52, 728)  186368      add_1[0][0]                      \n",
      "__________________________________________________________________________________________________\n",
      "block4_pool (MaxPooling2D)      (None, 52, 52, 728)  0           block4_sepconv2_bn[0][0]         \n",
      "__________________________________________________________________________________________________\n",
      "batch_normalization_2 (BatchNor (None, 52, 52, 728)  2912        conv2d_2[0][0]                   \n",
      "__________________________________________________________________________________________________\n",
      "add_2 (Add)                     (None, 52, 52, 728)  0           block4_pool[0][0]                \n",
      "                                                                 batch_normalization_2[0][0]      \n",
      "__________________________________________________________________________________________________\n",
      "block5_sepconv1_act (Activation (None, 52, 52, 728)  0           add_2[0][0]                      \n",
      "__________________________________________________________________________________________________\n",
      "block5_sepconv1 (SeparableConv2 (None, 52, 52, 728)  536536      block5_sepconv1_act[0][0]        \n",
      "__________________________________________________________________________________________________\n",
      "block5_sepconv1_bn (BatchNormal (None, 52, 52, 728)  2912        block5_sepconv1[0][0]            \n",
      "__________________________________________________________________________________________________\n",
      "block5_sepconv2_act (Activation (None, 52, 52, 728)  0           block5_sepconv1_bn[0][0]         \n",
      "__________________________________________________________________________________________________\n",
      "block5_sepconv2 (SeparableConv2 (None, 52, 52, 728)  536536      block5_sepconv2_act[0][0]        \n",
      "__________________________________________________________________________________________________\n",
      "block5_sepconv2_bn (BatchNormal (None, 52, 52, 728)  2912        block5_sepconv2[0][0]            \n",
      "__________________________________________________________________________________________________\n",
      "block5_sepconv3_act (Activation (None, 52, 52, 728)  0           block5_sepconv2_bn[0][0]         \n",
      "__________________________________________________________________________________________________\n",
      "block5_sepconv3 (SeparableConv2 (None, 52, 52, 728)  536536      block5_sepconv3_act[0][0]        \n",
      "__________________________________________________________________________________________________\n",
      "block5_sepconv3_bn (BatchNormal (None, 52, 52, 728)  2912        block5_sepconv3[0][0]            \n",
      "__________________________________________________________________________________________________\n",
      "add_3 (Add)                     (None, 52, 52, 728)  0           block5_sepconv3_bn[0][0]         \n",
      "                                                                 add_2[0][0]                      \n",
      "__________________________________________________________________________________________________\n",
      "block6_sepconv1_act (Activation (None, 52, 52, 728)  0           add_3[0][0]                      \n",
      "__________________________________________________________________________________________________\n",
      "block6_sepconv1 (SeparableConv2 (None, 52, 52, 728)  536536      block6_sepconv1_act[0][0]        \n",
      "__________________________________________________________________________________________________\n",
      "block6_sepconv1_bn (BatchNormal (None, 52, 52, 728)  2912        block6_sepconv1[0][0]            \n",
      "__________________________________________________________________________________________________\n",
      "block6_sepconv2_act (Activation (None, 52, 52, 728)  0           block6_sepconv1_bn[0][0]         \n",
      "__________________________________________________________________________________________________\n",
      "block6_sepconv2 (SeparableConv2 (None, 52, 52, 728)  536536      block6_sepconv2_act[0][0]        \n",
      "__________________________________________________________________________________________________\n",
      "block6_sepconv2_bn (BatchNormal (None, 52, 52, 728)  2912        block6_sepconv2[0][0]            \n",
      "__________________________________________________________________________________________________\n",
      "block6_sepconv3_act (Activation (None, 52, 52, 728)  0           block6_sepconv2_bn[0][0]         \n",
      "__________________________________________________________________________________________________\n",
      "block6_sepconv3 (SeparableConv2 (None, 52, 52, 728)  536536      block6_sepconv3_act[0][0]        \n",
      "__________________________________________________________________________________________________\n",
      "block6_sepconv3_bn (BatchNormal (None, 52, 52, 728)  2912        block6_sepconv3[0][0]            \n",
      "__________________________________________________________________________________________________\n",
      "add_4 (Add)                     (None, 52, 52, 728)  0           block6_sepconv3_bn[0][0]         \n",
      "                                                                 add_3[0][0]                      \n",
      "__________________________________________________________________________________________________\n",
      "block7_sepconv1_act (Activation (None, 52, 52, 728)  0           add_4[0][0]                      \n",
      "__________________________________________________________________________________________________\n",
      "block7_sepconv1 (SeparableConv2 (None, 52, 52, 728)  536536      block7_sepconv1_act[0][0]        \n",
      "__________________________________________________________________________________________________\n",
      "block7_sepconv1_bn (BatchNormal (None, 52, 52, 728)  2912        block7_sepconv1[0][0]            \n",
      "__________________________________________________________________________________________________\n",
      "block7_sepconv2_act (Activation (None, 52, 52, 728)  0           block7_sepconv1_bn[0][0]         \n",
      "__________________________________________________________________________________________________\n",
      "block7_sepconv2 (SeparableConv2 (None, 52, 52, 728)  536536      block7_sepconv2_act[0][0]        \n",
      "__________________________________________________________________________________________________\n",
      "block7_sepconv2_bn (BatchNormal (None, 52, 52, 728)  2912        block7_sepconv2[0][0]            \n",
      "__________________________________________________________________________________________________\n",
      "block7_sepconv3_act (Activation (None, 52, 52, 728)  0           block7_sepconv2_bn[0][0]         \n",
      "__________________________________________________________________________________________________\n",
      "block7_sepconv3 (SeparableConv2 (None, 52, 52, 728)  536536      block7_sepconv3_act[0][0]        \n",
      "__________________________________________________________________________________________________\n",
      "block7_sepconv3_bn (BatchNormal (None, 52, 52, 728)  2912        block7_sepconv3[0][0]            \n",
      "__________________________________________________________________________________________________\n",
      "add_5 (Add)                     (None, 52, 52, 728)  0           block7_sepconv3_bn[0][0]         \n",
      "                                                                 add_4[0][0]                      \n",
      "__________________________________________________________________________________________________\n",
      "block8_sepconv1_act (Activation (None, 52, 52, 728)  0           add_5[0][0]                      \n",
      "__________________________________________________________________________________________________\n",
      "block8_sepconv1 (SeparableConv2 (None, 52, 52, 728)  536536      block8_sepconv1_act[0][0]        \n",
      "__________________________________________________________________________________________________\n",
      "block8_sepconv1_bn (BatchNormal (None, 52, 52, 728)  2912        block8_sepconv1[0][0]            \n",
      "__________________________________________________________________________________________________\n",
      "block8_sepconv2_act (Activation (None, 52, 52, 728)  0           block8_sepconv1_bn[0][0]         \n",
      "__________________________________________________________________________________________________\n",
      "block8_sepconv2 (SeparableConv2 (None, 52, 52, 728)  536536      block8_sepconv2_act[0][0]        \n",
      "__________________________________________________________________________________________________\n",
      "block8_sepconv2_bn (BatchNormal (None, 52, 52, 728)  2912        block8_sepconv2[0][0]            \n",
      "__________________________________________________________________________________________________\n",
      "block8_sepconv3_act (Activation (None, 52, 52, 728)  0           block8_sepconv2_bn[0][0]         \n",
      "__________________________________________________________________________________________________\n",
      "block8_sepconv3 (SeparableConv2 (None, 52, 52, 728)  536536      block8_sepconv3_act[0][0]        \n",
      "__________________________________________________________________________________________________\n",
      "block8_sepconv3_bn (BatchNormal (None, 52, 52, 728)  2912        block8_sepconv3[0][0]            \n",
      "__________________________________________________________________________________________________\n",
      "add_6 (Add)                     (None, 52, 52, 728)  0           block8_sepconv3_bn[0][0]         \n",
      "                                                                 add_5[0][0]                      \n",
      "__________________________________________________________________________________________________\n",
      "block9_sepconv1_act (Activation (None, 52, 52, 728)  0           add_6[0][0]                      \n",
      "__________________________________________________________________________________________________\n",
      "block9_sepconv1 (SeparableConv2 (None, 52, 52, 728)  536536      block9_sepconv1_act[0][0]        \n",
      "__________________________________________________________________________________________________\n",
      "block9_sepconv1_bn (BatchNormal (None, 52, 52, 728)  2912        block9_sepconv1[0][0]            \n",
      "__________________________________________________________________________________________________\n",
      "block9_sepconv2_act (Activation (None, 52, 52, 728)  0           block9_sepconv1_bn[0][0]         \n",
      "__________________________________________________________________________________________________\n",
      "block9_sepconv2 (SeparableConv2 (None, 52, 52, 728)  536536      block9_sepconv2_act[0][0]        \n",
      "__________________________________________________________________________________________________\n",
      "block9_sepconv2_bn (BatchNormal (None, 52, 52, 728)  2912        block9_sepconv2[0][0]            \n",
      "__________________________________________________________________________________________________\n",
      "block9_sepconv3_act (Activation (None, 52, 52, 728)  0           block9_sepconv2_bn[0][0]         \n",
      "__________________________________________________________________________________________________\n",
      "block9_sepconv3 (SeparableConv2 (None, 52, 52, 728)  536536      block9_sepconv3_act[0][0]        \n",
      "__________________________________________________________________________________________________\n",
      "block9_sepconv3_bn (BatchNormal (None, 52, 52, 728)  2912        block9_sepconv3[0][0]            \n",
      "__________________________________________________________________________________________________\n",
      "add_7 (Add)                     (None, 52, 52, 728)  0           block9_sepconv3_bn[0][0]         \n",
      "                                                                 add_6[0][0]                      \n",
      "__________________________________________________________________________________________________\n",
      "block10_sepconv1_act (Activatio (None, 52, 52, 728)  0           add_7[0][0]                      \n",
      "__________________________________________________________________________________________________\n",
      "block10_sepconv1 (SeparableConv (None, 52, 52, 728)  536536      block10_sepconv1_act[0][0]       \n",
      "__________________________________________________________________________________________________\n",
      "block10_sepconv1_bn (BatchNorma (None, 52, 52, 728)  2912        block10_sepconv1[0][0]           \n",
      "__________________________________________________________________________________________________\n",
      "block10_sepconv2_act (Activatio (None, 52, 52, 728)  0           block10_sepconv1_bn[0][0]        \n",
      "__________________________________________________________________________________________________\n",
      "block10_sepconv2 (SeparableConv (None, 52, 52, 728)  536536      block10_sepconv2_act[0][0]       \n",
      "__________________________________________________________________________________________________\n",
      "block10_sepconv2_bn (BatchNorma (None, 52, 52, 728)  2912        block10_sepconv2[0][0]           \n",
      "__________________________________________________________________________________________________\n",
      "block10_sepconv3_act (Activatio (None, 52, 52, 728)  0           block10_sepconv2_bn[0][0]        \n",
      "__________________________________________________________________________________________________\n",
      "block10_sepconv3 (SeparableConv (None, 52, 52, 728)  536536      block10_sepconv3_act[0][0]       \n",
      "__________________________________________________________________________________________________\n",
      "block10_sepconv3_bn (BatchNorma (None, 52, 52, 728)  2912        block10_sepconv3[0][0]           \n",
      "__________________________________________________________________________________________________\n",
      "add_8 (Add)                     (None, 52, 52, 728)  0           block10_sepconv3_bn[0][0]        \n",
      "                                                                 add_7[0][0]                      \n",
      "__________________________________________________________________________________________________\n",
      "block11_sepconv1_act (Activatio (None, 52, 52, 728)  0           add_8[0][0]                      \n",
      "__________________________________________________________________________________________________\n",
      "block11_sepconv1 (SeparableConv (None, 52, 52, 728)  536536      block11_sepconv1_act[0][0]       \n",
      "__________________________________________________________________________________________________\n",
      "block11_sepconv1_bn (BatchNorma (None, 52, 52, 728)  2912        block11_sepconv1[0][0]           \n",
      "__________________________________________________________________________________________________\n",
      "block11_sepconv2_act (Activatio (None, 52, 52, 728)  0           block11_sepconv1_bn[0][0]        \n",
      "__________________________________________________________________________________________________\n",
      "block11_sepconv2 (SeparableConv (None, 52, 52, 728)  536536      block11_sepconv2_act[0][0]       \n",
      "__________________________________________________________________________________________________\n",
      "block11_sepconv2_bn (BatchNorma (None, 52, 52, 728)  2912        block11_sepconv2[0][0]           \n",
      "__________________________________________________________________________________________________\n",
      "block11_sepconv3_act (Activatio (None, 52, 52, 728)  0           block11_sepconv2_bn[0][0]        \n",
      "__________________________________________________________________________________________________\n",
      "block11_sepconv3 (SeparableConv (None, 52, 52, 728)  536536      block11_sepconv3_act[0][0]       \n",
      "__________________________________________________________________________________________________\n",
      "block11_sepconv3_bn (BatchNorma (None, 52, 52, 728)  2912        block11_sepconv3[0][0]           \n",
      "__________________________________________________________________________________________________\n",
      "add_9 (Add)                     (None, 52, 52, 728)  0           block11_sepconv3_bn[0][0]        \n",
      "                                                                 add_8[0][0]                      \n",
      "__________________________________________________________________________________________________\n",
      "block12_sepconv1_act (Activatio (None, 52, 52, 728)  0           add_9[0][0]                      \n",
      "__________________________________________________________________________________________________\n",
      "block12_sepconv1 (SeparableConv (None, 52, 52, 728)  536536      block12_sepconv1_act[0][0]       \n",
      "__________________________________________________________________________________________________\n",
      "block12_sepconv1_bn (BatchNorma (None, 52, 52, 728)  2912        block12_sepconv1[0][0]           \n",
      "__________________________________________________________________________________________________\n",
      "block12_sepconv2_act (Activatio (None, 52, 52, 728)  0           block12_sepconv1_bn[0][0]        \n",
      "__________________________________________________________________________________________________\n",
      "block12_sepconv2 (SeparableConv (None, 52, 52, 728)  536536      block12_sepconv2_act[0][0]       \n",
      "__________________________________________________________________________________________________\n",
      "block12_sepconv2_bn (BatchNorma (None, 52, 52, 728)  2912        block12_sepconv2[0][0]           \n",
      "__________________________________________________________________________________________________\n",
      "block12_sepconv3_act (Activatio (None, 52, 52, 728)  0           block12_sepconv2_bn[0][0]        \n",
      "__________________________________________________________________________________________________\n",
      "block12_sepconv3 (SeparableConv (None, 52, 52, 728)  536536      block12_sepconv3_act[0][0]       \n",
      "__________________________________________________________________________________________________\n",
      "block12_sepconv3_bn (BatchNorma (None, 52, 52, 728)  2912        block12_sepconv3[0][0]           \n",
      "__________________________________________________________________________________________________\n",
      "add_10 (Add)                    (None, 52, 52, 728)  0           block12_sepconv3_bn[0][0]        \n",
      "                                                                 add_9[0][0]                      \n",
      "__________________________________________________________________________________________________\n",
      "block13_sepconv1_act (Activatio (None, 52, 52, 728)  0           add_10[0][0]                     \n",
      "__________________________________________________________________________________________________\n",
      "block13_sepconv1 (SeparableConv (None, 52, 52, 728)  536536      block13_sepconv1_act[0][0]       \n",
      "__________________________________________________________________________________________________\n",
      "block13_sepconv1_bn (BatchNorma (None, 52, 52, 728)  2912        block13_sepconv1[0][0]           \n",
      "__________________________________________________________________________________________________\n",
      "block13_sepconv2_act (Activatio (None, 52, 52, 728)  0           block13_sepconv1_bn[0][0]        \n",
      "__________________________________________________________________________________________________\n",
      "block13_sepconv2 (SeparableConv (None, 52, 52, 1024) 752024      block13_sepconv2_act[0][0]       \n",
      "__________________________________________________________________________________________________\n",
      "block13_sepconv2_bn (BatchNorma (None, 52, 52, 1024) 4096        block13_sepconv2[0][0]           \n",
      "__________________________________________________________________________________________________\n",
      "conv2d_3 (Conv2D)               (None, 26, 26, 1024) 745472      add_10[0][0]                     \n",
      "__________________________________________________________________________________________________\n",
      "block13_pool (MaxPooling2D)     (None, 26, 26, 1024) 0           block13_sepconv2_bn[0][0]        \n",
      "__________________________________________________________________________________________________\n",
      "batch_normalization_3 (BatchNor (None, 26, 26, 1024) 4096        conv2d_3[0][0]                   \n",
      "__________________________________________________________________________________________________\n",
      "add_11 (Add)                    (None, 26, 26, 1024) 0           block13_pool[0][0]               \n",
      "                                                                 batch_normalization_3[0][0]      \n",
      "__________________________________________________________________________________________________\n",
      "block14_sepconv1 (SeparableConv (None, 26, 26, 1536) 1582080     add_11[0][0]                     \n",
      "__________________________________________________________________________________________________\n",
      "block14_sepconv1_bn (BatchNorma (None, 26, 26, 1536) 6144        block14_sepconv1[0][0]           \n",
      "__________________________________________________________________________________________________\n",
      "block14_sepconv1_act (Activatio (None, 26, 26, 1536) 0           block14_sepconv1_bn[0][0]        \n",
      "__________________________________________________________________________________________________\n",
      "block14_sepconv2 (SeparableConv (None, 26, 26, 2048) 3159552     block14_sepconv1_act[0][0]       \n",
      "__________________________________________________________________________________________________\n",
      "block14_sepconv2_bn (BatchNorma (None, 26, 26, 2048) 8192        block14_sepconv2[0][0]           \n",
      "__________________________________________________________________________________________________\n",
      "block14_sepconv2_act (Activatio (None, 26, 26, 2048) 0           block14_sepconv2_bn[0][0]        \n",
      "__________________________________________________________________________________________________\n",
      "up_sampling2d (UpSampling2D)    (None, 52, 52, 2048) 0           block14_sepconv2_act[0][0]       \n",
      "__________________________________________________________________________________________________\n",
      "concatenate (Concatenate)       (None, 52, 52, 2776) 0           up_sampling2d[0][0]              \n",
      "                                                                 add_10[0][0]                     \n",
      "__________________________________________________________________________________________________\n",
      "conv2d_4 (Conv2D)               (None, 52, 52, 256)  6396160     concatenate[0][0]                \n",
      "__________________________________________________________________________________________________\n",
      "batch_normalization_4 (BatchNor (None, 52, 52, 256)  1024        conv2d_4[0][0]                   \n",
      "__________________________________________________________________________________________________\n",
      "activation (Activation)         (None, 52, 52, 256)  0           batch_normalization_4[0][0]      \n",
      "__________________________________________________________________________________________________\n",
      "conv2d_5 (Conv2D)               (None, 52, 52, 256)  590080      activation[0][0]                 \n",
      "__________________________________________________________________________________________________\n",
      "batch_normalization_5 (BatchNor (None, 52, 52, 256)  1024        conv2d_5[0][0]                   \n",
      "__________________________________________________________________________________________________\n",
      "activation_1 (Activation)       (None, 52, 52, 256)  0           batch_normalization_5[0][0]      \n",
      "__________________________________________________________________________________________________\n",
      "up_sampling2d_1 (UpSampling2D)  (None, 104, 104, 256 0           activation_1[0][0]               \n",
      "__________________________________________________________________________________________________\n",
      "concatenate_1 (Concatenate)     (None, 104, 104, 512 0           up_sampling2d_1[0][0]            \n",
      "                                                                 add_1[0][0]                      \n",
      "__________________________________________________________________________________________________\n",
      "conv2d_6 (Conv2D)               (None, 104, 104, 128 589952      concatenate_1[0][0]              \n",
      "__________________________________________________________________________________________________\n",
      "batch_normalization_6 (BatchNor (None, 104, 104, 128 512         conv2d_6[0][0]                   \n",
      "__________________________________________________________________________________________________\n",
      "activation_2 (Activation)       (None, 104, 104, 128 0           batch_normalization_6[0][0]      \n",
      "__________________________________________________________________________________________________\n",
      "conv2d_7 (Conv2D)               (None, 104, 104, 128 147584      activation_2[0][0]               \n",
      "__________________________________________________________________________________________________\n",
      "batch_normalization_7 (BatchNor (None, 104, 104, 128 512         conv2d_7[0][0]                   \n",
      "__________________________________________________________________________________________________\n",
      "activation_3 (Activation)       (None, 104, 104, 128 0           batch_normalization_7[0][0]      \n",
      "__________________________________________________________________________________________________\n",
      "up_sampling2d_2 (UpSampling2D)  (None, 208, 208, 128 0           activation_3[0][0]               \n",
      "__________________________________________________________________________________________________\n",
      "zero_padding2d (ZeroPadding2D)  (None, 208, 208, 128 0           add[0][0]                        \n",
      "__________________________________________________________________________________________________\n",
      "concatenate_2 (Concatenate)     (None, 208, 208, 256 0           up_sampling2d_2[0][0]            \n",
      "                                                                 zero_padding2d[0][0]             \n",
      "__________________________________________________________________________________________________\n",
      "conv2d_8 (Conv2D)               (None, 208, 208, 64) 147520      concatenate_2[0][0]              \n",
      "__________________________________________________________________________________________________\n",
      "batch_normalization_8 (BatchNor (None, 208, 208, 64) 256         conv2d_8[0][0]                   \n",
      "__________________________________________________________________________________________________\n",
      "activation_4 (Activation)       (None, 208, 208, 64) 0           batch_normalization_8[0][0]      \n",
      "__________________________________________________________________________________________________\n",
      "conv2d_9 (Conv2D)               (None, 208, 208, 64) 36928       activation_4[0][0]               \n",
      "__________________________________________________________________________________________________\n",
      "batch_normalization_9 (BatchNor (None, 208, 208, 64) 256         conv2d_9[0][0]                   \n",
      "__________________________________________________________________________________________________\n",
      "activation_5 (Activation)       (None, 208, 208, 64) 0           batch_normalization_9[0][0]      \n",
      "__________________________________________________________________________________________________\n",
      "up_sampling2d_3 (UpSampling2D)  (None, 416, 416, 64) 0           activation_5[0][0]               \n",
      "__________________________________________________________________________________________________\n",
      "zero_padding2d_1 (ZeroPadding2D (None, 416, 416, 32) 0           block1_conv1_act[0][0]           \n",
      "__________________________________________________________________________________________________\n",
      "concatenate_3 (Concatenate)     (None, 416, 416, 96) 0           up_sampling2d_3[0][0]            \n",
      "                                                                 zero_padding2d_1[0][0]           \n",
      "__________________________________________________________________________________________________\n",
      "conv2d_10 (Conv2D)              (None, 416, 416, 32) 27680       concatenate_3[0][0]              \n",
      "__________________________________________________________________________________________________\n",
      "batch_normalization_10 (BatchNo (None, 416, 416, 32) 128         conv2d_10[0][0]                  \n",
      "__________________________________________________________________________________________________\n",
      "activation_6 (Activation)       (None, 416, 416, 32) 0           batch_normalization_10[0][0]     \n",
      "__________________________________________________________________________________________________\n",
      "conv2d_11 (Conv2D)              (None, 416, 416, 32) 9248        activation_6[0][0]               \n",
      "__________________________________________________________________________________________________\n",
      "batch_normalization_11 (BatchNo (None, 416, 416, 32) 128         conv2d_11[0][0]                  \n",
      "__________________________________________________________________________________________________\n",
      "activation_7 (Activation)       (None, 416, 416, 32) 0           batch_normalization_11[0][0]     \n",
      "__________________________________________________________________________________________________\n",
      "up_sampling2d_4 (UpSampling2D)  (None, 832, 832, 32) 0           activation_7[0][0]               \n",
      "__________________________________________________________________________________________________\n",
      "conv2d_12 (Conv2D)              (None, 832, 832, 16) 4624        up_sampling2d_4[0][0]            \n",
      "__________________________________________________________________________________________________\n",
      "batch_normalization_12 (BatchNo (None, 832, 832, 16) 64          conv2d_12[0][0]                  \n",
      "__________________________________________________________________________________________________\n",
      "activation_8 (Activation)       (None, 832, 832, 16) 0           batch_normalization_12[0][0]     \n",
      "__________________________________________________________________________________________________\n",
      "conv2d_13 (Conv2D)              (None, 832, 832, 16) 2320        activation_8[0][0]               \n",
      "__________________________________________________________________________________________________\n",
      "batch_normalization_13 (BatchNo (None, 832, 832, 16) 64          conv2d_13[0][0]                  \n",
      "__________________________________________________________________________________________________\n",
      "activation_9 (Activation)       (None, 832, 832, 16) 0           batch_normalization_13[0][0]     \n",
      "__________________________________________________________________________________________________\n",
      "conv2d_14 (Conv2D)              (None, 832, 832, 3)  51          activation_9[0][0]               \n",
      "==================================================================================================\n",
      "Total params: 28,817,595\n",
      "Trainable params: 24,426,371\n",
      "Non-trainable params: 4,391,224\n",
      "__________________________________________________________________________________________________\n"
     ]
    }
   ],
   "source": [
    "# model = create_model(depth=5, \n",
    "#                      start_f=32, \n",
    "#                      num_classes=num_classes,\n",
    "#                      dynamic_input_shape=False)\n",
    "# model = build_unet((img_h,img_w,3), num_classes)\n",
    "# model = build_inception_unet((img_h,img_w,3), num_classes)\n",
    "model = build_xception_unet((img_h,img_w,3), num_classes)\n",
    "# Visualize created model as a table\n",
    "model.summary()"
   ]
  },
  {
   "cell_type": "markdown",
   "metadata": {
    "id": "NGzh16WTnFJW"
   },
   "source": [
    "## Prepare the model for training"
   ]
  },
  {
   "cell_type": "code",
   "execution_count": null,
   "metadata": {
    "id": "MkOU6uYmiGui"
   },
   "outputs": [],
   "source": [
    "def weightedLoss(originalLossFunc, weightsList):\r\n",
    "\r\n",
    "    def lossFunc(true, pred):\r\n",
    "\r\n",
    "        axis = -1 #if channels last \r\n",
    "        #axis=  1 #if channels first\r\n",
    "\r\n",
    "\r\n",
    "        #argmax returns the index of the element with the greatest value\r\n",
    "        #done in the class axis, it returns the class index    \r\n",
    "        classSelectors = tf.argmax(true, axis=axis) \r\n",
    "            #if your loss is sparse, use only true as classSelectors\r\n",
    "\r\n",
    "        #considering weights are ordered by class, for each class\r\n",
    "        #true(1) if the class index is equal to the weight index   \r\n",
    "        classSelectors = tf.cast(classSelectors, tf.int32)\r\n",
    "        classSelectors = [tf.keras.backend.equal(i, classSelectors) for i in range(len(weightsList))]\r\n",
    "\r\n",
    "        #casting boolean to float for calculations  \r\n",
    "        #each tensor in the list contains 1 where ground true class is equal to its index \r\n",
    "        #if you sum all these, you will get a tensor full of ones. \r\n",
    "        #tmp = []\r\n",
    "        #for x in classSelectors:\r\n",
    "        #    tmp.append(tf.cast(x,tf.float32))\r\n",
    "        #classSelectors = tf.cast(classSelectors, tf.float32)\r\n",
    "        classSelectors = [tf.keras.backend.cast(x, tf.float32) for x in classSelectors]\r\n",
    "\r\n",
    "        #for each of the selections above, multiply their respective weight\r\n",
    "        weights = [sel * w for sel,w in zip(classSelectors, weightsList)] \r\n",
    "\r\n",
    "        #sums all the selections\r\n",
    "        #result is a tensor with the respective weight for each element in predictions\r\n",
    "        weightMultiplier = weights[0]\r\n",
    "        for i in range(1, len(weights)):\r\n",
    "            weightMultiplier = weightMultiplier + weights[i]\r\n",
    "\r\n",
    "\r\n",
    "        #make sure your originalLossFunc only collapses the class axis\r\n",
    "        #you need the other axes intact to multiply the weights tensor\r\n",
    "        loss = originalLossFunc(true,pred) \r\n",
    "        loss = loss * weightMultiplier\r\n",
    "\r\n",
    "        return loss\r\n",
    "    return lossFunc\r\n"
   ]
  },
  {
   "cell_type": "code",
   "execution_count": null,
   "metadata": {
    "id": "9MlmYGVMnFJW"
   },
   "outputs": [],
   "source": [
    "# Optimization params\n",
    "# -------------------\n",
    "\n",
    "# Loss\n",
    "# Sparse Categorical Crossentropy to use integers (mask) instead of one-hot encoded labels\n",
    "loss = tf.keras.losses.SparseCategoricalCrossentropy()\n",
    "# loss = weightedLoss(tf.keras.losses.SparseCategoricalCrossentropy(), [1,1,2])\n",
    "# learning rate\n",
    "lr = 1e-3\n",
    "#optimizer = tf.keras.optimizers.Adam(learning_rate=lr)\n",
    "optimizer = tf.keras.optimizers.RMSprop()\n",
    "# -------------------\n",
    "\n",
    "# Here we define the intersection over union for each class in the batch.\n",
    "# Then we compute the final iou as the mean over classes\n",
    "def meanIoU(y_true, y_pred):\n",
    "    # get predicted class from softmax\n",
    "    y_pred = tf.expand_dims(tf.argmax(y_pred, -1), -1)\n",
    "\n",
    "    per_class_iou = []\n",
    "\n",
    "    for i in range(1,num_classes): # exclude the background class 0\n",
    "      # Get prediction and target related to only a single class (i)\n",
    "      class_pred = tf.cast(tf.where(y_pred == i, 1, 0), tf.float32)\n",
    "      class_true = tf.cast(tf.where(y_true == i, 1, 0), tf.float32)\n",
    "      intersection = tf.reduce_sum(class_true * class_pred)\n",
    "      union = tf.reduce_sum(class_true) + tf.reduce_sum(class_pred) - intersection\n",
    "    \n",
    "      iou = (intersection + 1e-7) / (union + 1e-7)\n",
    "      per_class_iou.append(iou)\n",
    "\n",
    "    return tf.reduce_mean(per_class_iou)\n",
    "\n",
    "# Validation metrics\n",
    "# ------------------\n",
    "metrics = ['accuracy', meanIoU]\n",
    "# ------------------\n",
    "\n",
    "# Compile Model\n",
    "model.compile(optimizer=optimizer, loss=loss, metrics=metrics)"
   ]
  },
  {
   "cell_type": "markdown",
   "metadata": {
    "id": "PA6D_TBknFJZ"
   },
   "source": [
    "## Training with callbacks"
   ]
  },
  {
   "cell_type": "code",
   "execution_count": null,
   "metadata": {
    "colab": {
     "base_uri": "https://localhost:8080/"
    },
    "id": "3XiwaKZhnFJa",
    "outputId": "f32b3bd1-9ad3-48e2-b9b8-d1fd17d03dac",
    "scrolled": true
   },
   "outputs": [
    {
     "name": "stdout",
     "output_type": "stream",
     "text": [
      "Epoch 1/70\n",
      " 15/162 [=>............................] - ETA: 4:17 - loss: 1.1799 - accuracy: 0.5543 - meanIoU: 0.1608"
     ]
    }
   ],
   "source": [
    "import os\n",
    "from datetime import datetime\n",
    "\n",
    "cwd = os.getcwd()\n",
    "\n",
    "exps_dir = os.path.join(cwd, 'drive/My Drive/Keras4/', 'multiclass_segmentation_experiments')\n",
    "if not os.path.exists(exps_dir):\n",
    "    os.makedirs(exps_dir)\n",
    "\n",
    "now = datetime.now().strftime('%b%d_%H-%M-%S')\n",
    "\n",
    "model_name = 'CNN'\n",
    "\n",
    "exp_dir = os.path.join(exps_dir, model_name + '_' + str(now))\n",
    "if not os.path.exists(exp_dir):\n",
    "    os.makedirs(exp_dir)\n",
    "    \n",
    "callbacks = []\n",
    "\n",
    "# Model checkpoint\n",
    "# ----------------\n",
    "# ckpt_dir = os.path.join(exp_dir, 'ckpts')\n",
    "# if not os.path.exists(ckpt_dir):\n",
    "#     os.makedirs(ckpt_dir)\n",
    "\n",
    "# ckpt_callback = tf.keras.callbacks.ModelCheckpoint(filepath=os.path.join(ckpt_dir, 'cp_{epoch:02d}.ckpt'), \n",
    "#                                                    save_weights_only=True)  # False to save the model directly\n",
    "# callbacks.append(ckpt_callback)\n",
    "\n",
    "# Visualize Learning on Tensorboard\n",
    "# ---------------------------------\n",
    "tb_dir = os.path.join(exp_dir, 'tb_logs')\n",
    "if not os.path.exists(tb_dir):\n",
    "    os.makedirs(tb_dir)\n",
    "    \n",
    "# By default shows losses and metrics for both training and validation\n",
    "tb_callback = tf.keras.callbacks.TensorBoard(log_dir=tb_dir,\n",
    "                                             profile_batch=0,\n",
    "                                             histogram_freq=0)  # if 1 shows weights histograms\n",
    "callbacks.append(tb_callback)\n",
    "\n",
    "# Early Stopping\n",
    "# --------------\n",
    "early_stop = True\n",
    "if early_stop:\n",
    "    es_callback = tf.keras.callbacks.EarlyStopping(monitor='val_meanIoU', patience=3, mode=\"max\")\n",
    "    callbacks.append(es_callback)\n",
    "\n",
    "reduce_on_plateau = True\n",
    "if reduce_on_plateau:\n",
    "  reduce_lr = tf.keras.callbacks.ReduceLROnPlateau(monitor='val_loss', factor=0.2,\n",
    "                                                  patience=2, min_lr=0.001)\n",
    "  callbacks.append(reduce_lr)\n",
    "\n",
    "model.fit(x=train_dataset,\n",
    "          epochs=70,  #### set repeat in training dataset\n",
    "          steps_per_epoch=len(dataset),\n",
    "          validation_data=valid_dataset,\n",
    "          validation_steps=len(dataset_valid), \n",
    "          callbacks=callbacks)\n",
    "\n",
    "# How to visualize Tensorboard\n",
    "\n",
    "# 1. tensorboard --logdir EXPERIMENTS_DIR --port PORT     <- from terminal\n",
    "# 2. localhost:PORT   <- in your browser"
   ]
  },
  {
   "cell_type": "markdown",
   "metadata": {
    "id": "EZ1Yl-InnFJd"
   },
   "source": [
    "## Test model"
   ]
  },
  {
   "cell_type": "markdown",
   "metadata": {
    "id": "WuVw1q_NnFJh"
   },
   "source": [
    "## Compute prediction"
   ]
  },
  {
   "cell_type": "code",
   "execution_count": null,
   "metadata": {
    "id": "zo1JbCO5nFJh"
   },
   "outputs": [],
   "source": [
    "import time\n",
    "import matplotlib.pyplot as plt\n",
    "\n",
    "from PIL import Image\n",
    "\n",
    "%matplotlib inline"
   ]
  },
  {
   "cell_type": "code",
   "execution_count": null,
   "metadata": {
    "id": "FMUzvchLyloH"
   },
   "outputs": [],
   "source": [
    "def rle_encode(img):\n",
    "    '''\n",
    "    img: numpy array, 1 - foreground, 0 - background\n",
    "    Returns run length as string formatted\n",
    "    '''\n",
    "    pixels = img.flatten()\n",
    "    pixels = np.concatenate([[0], pixels, [0]])\n",
    "    runs = np.where(pixels[1:] != pixels[:-1])[0] + 1\n",
    "    runs[1::2] -= runs[::2]\n",
    "    return ' '.join(str(x) for x in runs)\n",
    "\n",
    "def rle_decode(rle, shape):\n",
    "    s = rle.split()\n",
    "    starts, lengths = [np.asarray(x, dtype=int) for x in (s[0:][::2], s[1:][::2])]\n",
    "    starts -= 1\n",
    "    ends = starts + lengths\n",
    "    img = np.zeros(shape[0]*shape[1], dtype=np.uint8)\n",
    "    for lo, hi in zip(starts, ends):\n",
    "        img[lo:hi] = 1\n",
    "    return img.reshape(shape)\n",
    "\n",
    "class TestDataset(tf.keras.utils.Sequence):\n",
    "\n",
    "  \"\"\"\n",
    "    CustomDataset inheriting from tf.keras.utils.Sequence.\n",
    "\n",
    "    3 main methods:\n",
    "      - __init__: save dataset params like directory, filenames..\n",
    "      - __len__: return the total number of samples in the dataset\n",
    "      - __getitem__: return a sample from the dataset\n",
    "\n",
    "    Note: \n",
    "      - the custom dataset return a single sample from the dataset. Then, we use \n",
    "        a tf.data.Dataset object to group samples into batches.\n",
    "      - in this case we have a different structure of the dataset in memory. \n",
    "        We have all the images in the same folder and the training and validation splits\n",
    "        are defined in text files.\n",
    "\n",
    "  \"\"\"\n",
    "  # orig_shape = (width, height)\n",
    "  def __init__(self, orig_dataset_dir, teams, crops, preprocessing_function=None, orig_shape=[256,256], backward_step = 20):\n",
    "    total = 0\n",
    "    for team in teams:\n",
    "      for crop in crops:\n",
    "        curr_dir = os.path.join(orig_dataset_dir, 'Test_Dev', team, crop, 'Images')\n",
    "        total += len(os.listdir(curr_dir))\n",
    "\n",
    "    print(orig_dataset_dir)\n",
    "    print(total)\n",
    "    self.length = total\n",
    "    self.orig_dataset_dir = orig_dataset_dir\n",
    "    self.teams = teams\n",
    "    self.crops = crops\n",
    "    self.preprocessing_function = preprocessing_function\n",
    "    self.orig_shape = orig_shape\n",
    "    self.backward_step = backward_step\n",
    "    # self.out_shape = out_shape\n",
    "\n",
    "  def __len__(self):\n",
    "    return self.length\n",
    "\n",
    "  def __getInfo__(self,index):\n",
    "    curr_index = 0\n",
    "    for team in self.teams:\n",
    "      for crop in self.crops:\n",
    "        curr_dir_files = os.path.join(self.orig_dataset_dir, 'Test_Dev', team, crop, 'Images')\n",
    "        # print(curr_dir_files)\n",
    "        for curr_file in os.listdir(curr_dir_files):\n",
    "          if (curr_index == index):\n",
    "            curr_team = team\n",
    "            curr_crop = crop\n",
    "            curr_filename = curr_file\n",
    "          curr_index += 1\n",
    "\n",
    "    if (curr_team == 'Bipbip'):\n",
    "      curr_out_shape = [1536,2048]\n",
    "    elif (curr_team == 'Roseau'):\n",
    "      curr_out_shape = [820,1227]\n",
    "    elif (curr_team == 'Pead'):\n",
    "      curr_out_shape = [2464,3280]\n",
    "    elif (curr_team == 'Weedelec'):\n",
    "      curr_out_shape = [3456,5184]\n",
    "\n",
    "    return curr_filename, curr_team, curr_crop, curr_out_shape\n",
    "\n",
    "  def __iter__(self):\n",
    "    \"\"\"Create a generator that iterate over the Sequence.\"\"\"\n",
    "    for item in (self[i] for i in range(len(self))):\n",
    "      # dir(item)\n",
    "      for j in range(len(item[0])):\n",
    "        yield item[0][j], item[1][j]\n",
    "\n",
    "  def __getoriginal__(self,index):\n",
    "    curr_index = 0\n",
    "    for team in self.teams:\n",
    "      for crop in self.crops:\n",
    "        curr_dir_files = os.path.join(self.orig_dataset_dir, 'Test_Dev', team, crop, 'Images')\n",
    "        # print(curr_dir_files)\n",
    "        for curr_file in os.listdir(curr_dir_files):\n",
    "          if (curr_index == index):\n",
    "            curr_team = team\n",
    "            curr_crop = crop\n",
    "            curr_filename = curr_file\n",
    "          curr_index += 1\n",
    "    \n",
    "    img = Image.open(os.path.join(self.orig_dataset_dir, 'Test_Dev', curr_team, curr_crop, 'Images', curr_filename))\n",
    "    img_arr = np.array(img)\n",
    "\n",
    "    return img\n",
    "\n",
    "  def __getitem__(self, index):\n",
    "    # Read Image\n",
    "    # print(self.orig_dataset_dir)\n",
    "    curr_index = 0\n",
    "    for team in self.teams:\n",
    "      for crop in self.crops:\n",
    "        curr_dir_files = os.path.join(self.orig_dataset_dir, 'Test_Dev', team, crop, 'Images')\n",
    "        # print(curr_dir_files)\n",
    "        for curr_file in os.listdir(curr_dir_files):\n",
    "          if (curr_index == index):\n",
    "            curr_team = team\n",
    "            curr_crop = crop\n",
    "            curr_filename = curr_file\n",
    "          curr_index += 1\n",
    "\n",
    "    # print(os.path.join(self.orig_dataset_dir, 'Test_Dev', curr_team, curr_crop, 'Images', curr_filename))\n",
    "    # curr_filename = self.subset_filenames[index]\n",
    "    img = Image.open(os.path.join(self.orig_dataset_dir, 'Test_Dev', curr_team, curr_crop, 'Images', curr_filename))\n",
    "\n",
    "    # Resize image and mask\n",
    "    # img = img.resize(self.orig_shape)\n",
    "    \n",
    "    img_arr = np.array(img)\n",
    "    # Shape as (height, width, depth = 1)\n",
    "    target_zero = np.zeros((self.orig_shape[1], self.orig_shape[0], 1))\n",
    "    \n",
    "    if self.preprocessing_function is not None:\n",
    "        img_arr = self.preprocessing_function(img_arr)\n",
    "    \n",
    "    img_arr = img_arr / 255\n",
    "\n",
    "    batch_img = []\n",
    "    batch_mask = []\n",
    "\n",
    "    curr_x = 0\n",
    "    curr_y = 0\n",
    "    source_width = img_arr.shape[1]\n",
    "    source_height = img_arr.shape[0]\n",
    "    out_width = self.orig_shape[1]\n",
    "    out_height = self.orig_shape[0]\n",
    "    # print(img_arr.shape)\n",
    "\n",
    "    while (curr_y < source_height):\n",
    "      curr_y = curr_y - self.backward_step\n",
    "      if (curr_y < 0):\n",
    "        curr_y = 0\n",
    "      if (curr_y + out_height > source_height):\n",
    "        curr_y = source_height - out_height\n",
    "      curr_x = 0\n",
    "      while (curr_x < source_width):\n",
    "        curr_x = curr_x - self.backward_step\n",
    "        if (curr_x < 0):\n",
    "          curr_x = 0\n",
    "        if (curr_x + out_width > source_width):\n",
    "          curr_x = source_width - out_width\n",
    "        curr_img_arr = img_arr[curr_y : curr_y+out_height, curr_x : curr_x+out_width]\n",
    "        batch_img.append(curr_img_arr)\n",
    "        batch_mask.append(np.float32(target_zero))\n",
    "        curr_x = curr_x + out_width\n",
    "\n",
    "      curr_y = curr_y + out_height\n",
    "\n",
    "    return batch_img, batch_mask\n",
    "\n",
    "  def __rebuildoriginal__(self, index, patch_predictions):\n",
    "    current_info = self.__getInfo__(index)\n",
    "    original_shape = current_info[3]\n",
    "    curr_x = self.backward_step\n",
    "    curr_y = 0\n",
    "    source_width = original_shape[1]\n",
    "    source_height = original_shape[0]\n",
    "    out_width = self.orig_shape[1]\n",
    "    out_height = self.orig_shape[0]\n",
    "    out_mask = np.zeros((source_height, source_width, num_classes))\n",
    "\n",
    "    # out_mask = (source_height, source_width, 3)\n",
    "    # print(out_mask.shape)\n",
    "    backward_y = self.backward_step\n",
    "    curr_index = 0\n",
    "    for patch_arr in patch_predictions:\n",
    "      # print(curr_index)\n",
    "      patch_arr = np.array(patch_arr)\n",
    "      prev_x_arrival = curr_x\n",
    "      curr_x = curr_x - self.backward_step\n",
    "      backward_x = self.backward_step\n",
    "      if (curr_x + out_width > source_width):\n",
    "        curr_x = source_width - out_width\n",
    "        backward_x = prev_x_arrival - curr_x\n",
    "\n",
    "      if (curr_x > 0):    # Overlap x regions copy highest class\n",
    "          for x in range(backward_x):\n",
    "            for y in range(out_height):\n",
    "              for j in range(num_classes):\n",
    "                tmp = (out_mask[curr_y + y, curr_x + x, j] + patch_arr[y, x, j]) / 2\n",
    "                out_mask[curr_y + y, curr_x + x, j] = tmp\n",
    "                # curr_pixel_prediction = out_mask[curr_y + y, curr_x + x]\n",
    "                # new_pixel_prediction = patch_arr[y,x]\n",
    "      else:\n",
    "        for x in range(self.backward_step):\n",
    "          for y in range(out_height):\n",
    "            for j in range(num_classes):\n",
    "              out_mask[curr_y + y, curr_x + x, j] = patch_arr[y, x, j]           # Copy backward_x region if x=0\n",
    "\n",
    "\n",
    "      if (curr_y > 0):    # Overlap y regions copy highest class\n",
    "          for y in range(backward_y):     \n",
    "            for x in range(out_width):\n",
    "              for j in range(num_classes):\n",
    "                tmp = (out_mask[curr_y + y, curr_x + x, j] + patch_arr[y, x, j]) / 2\n",
    "                out_mask[curr_y + y, curr_x + x, j] = tmp\n",
    "      else:\n",
    "        for y in range(self.backward_step):\n",
    "          for x in range(out_width):\n",
    "            for j in range(num_classes):\n",
    "              out_mask[curr_y + y, curr_x + x, j] = patch_arr[y, x, j]\n",
    "        # out_mask[:self.backward_step, curr_x : curr_x+out_width] = patch_arr[:self.backward_step, 0:out_width]  # Copy backward_y region if y=0\n",
    "\n",
    "      # Copy remaining area\n",
    "      for y in range(backward_y, out_height):\n",
    "          for x in range(backward_x, out_width):\n",
    "            for j in range(num_classes):\n",
    "              out_mask[curr_y + y, curr_x + x, j] = patch_arr[y, x, j]\n",
    "      # out_mask[curr_y + backward_y:, curr_x + backward_x:] = patch_arr[backward_y:, backward_x:]\n",
    "\n",
    "      curr_x = curr_x + out_width\n",
    "      if (curr_x == source_width):\n",
    "        curr_x = self.backward_step\n",
    "        prev_y_arrival = curr_y + out_height\n",
    "        curr_y = curr_y + out_height - self.backward_step\n",
    "        backward_y = self.backward_step\n",
    "        if (curr_y + out_height > source_height):\n",
    "          curr_y = source_height - out_height\n",
    "          backward_y = prev_y_arrival - curr_y\n",
    "      # print(curr_x)\n",
    "      curr_index += 1\n",
    "      # print(curr_y)\n",
    "    return out_mask    \n",
    "  "
   ]
  },
  {
   "cell_type": "code",
   "execution_count": null,
   "metadata": {
    "id": "96lQL2f994Pn"
   },
   "outputs": [],
   "source": [
    "orig_w = img_w       # 2048\n",
    "orig_h = img_h       # 1536\n",
    "dataset_test = TestDataset(orig_dataset_dir=original_dataset_dir, teams=['Bipbip','Pead','Roseau','Weedelec'], crops=['Haricot','Mais'], orig_shape=[orig_w,orig_h], backward_step=backstep)\n",
    "\n",
    "test_dataset = tf.data.Dataset.from_generator(lambda: dataset_test,\n",
    "                                               output_types=(tf.float32, tf.float32),\n",
    "                                               output_shapes=([orig_h, orig_w, 3], [orig_h, orig_w, 1]))\n",
    "test_dataset = test_dataset.batch(1)\n",
    "\n",
    "# test_dataset = test_dataset.repeat()\n"
   ]
  },
  {
   "cell_type": "code",
   "execution_count": null,
   "metadata": {
    "id": "7uLQBRSnszOQ"
   },
   "outputs": [],
   "source": [
    "from datetime import datetime\n",
    "import json\n",
    "\n",
    "curr_index = 0\n",
    "submission_dict = {}\n",
    "\n",
    "# dir(dataset_test)\n",
    "\n",
    "for i in range(len(dataset_test)):\n",
    "  print(curr_index)\n",
    "  item = dataset_test.__getitem__(i)\n",
    "  current_info = dataset_test.__getInfo__(i)\n",
    "  patch_sigmoids = []\n",
    "  for patch_arr in item[0]:\n",
    "    out_sigmoid = model.predict(x=tf.expand_dims(patch_arr, 0))\n",
    "    patch_sigmoids.append(out_sigmoid[0])\n",
    "\n",
    "  # print(len(patch_predictions))\n",
    "  # patch_predictions[0].shape\n",
    "  out_sigmoid_orig = dataset_test.__rebuildoriginal__(i, patch_sigmoids)\n",
    "  predicted_class_orig = tf.argmax(out_sigmoid_orig, -1)\n",
    "  # predicted_class_orig = predicted_class_orig[0, ...]\n",
    "  # image = image[0]\n",
    "  # out_sigmoid = model.predict(x=tf.expand_dims(image, 0))\n",
    "  # out_resized = tf.image.resize(out_sigmoid, current_info[3], method='nearest')  # (1, height, width, num_classes)\n",
    "  # predicted_class = tf.argmax(out_resized, -1)\n",
    "  # predicted_class = predicted_class[0, ...]\n",
    "  # predicted_class\n",
    "  # predict_resized = tf.image.resize(predicted_class, current_info[3], method='nearest')\n",
    "\n",
    "  print(predicted_class_orig.shape)\n",
    "\n",
    "  img_name = current_info[0][:-4]\n",
    "  submission_dict[img_name] = {}\n",
    "  submission_dict[img_name]['shape'] = [predicted_class_orig.shape[0],predicted_class_orig.shape[1]]\n",
    "  submission_dict[img_name]['team'] = current_info[1]\n",
    "  submission_dict[img_name]['crop'] = current_info[2]\n",
    "  submission_dict[img_name]['segmentation'] = {}\n",
    "\n",
    "  # RLE encoding\n",
    "  # crop\n",
    "  rle_encoded_crop = rle_encode(np.array(predicted_class_orig == 1))\n",
    "  # weed\n",
    "  rle_encoded_weed = rle_encode(np.array(predicted_class_orig == 2))\n",
    "\n",
    "  submission_dict[img_name]['segmentation']['crop'] = rle_encoded_crop\n",
    "  submission_dict[img_name]['segmentation']['weed'] = rle_encoded_weed\n",
    "\n",
    "  curr_index += 1\n",
    "\n",
    "now = datetime.now().strftime('%b%d_%H-%M-%S')\n",
    "with open(os.path.join(dest_dir,'Results','submission.json'), 'w') as f:\n",
    "  json.dump(submission_dict, f)"
   ]
  },
  {
   "cell_type": "code",
   "execution_count": null,
   "metadata": {
    "id": "Se38PJ2t0O0j"
   },
   "outputs": [],
   "source": [
    "index = 0"
   ]
  },
  {
   "cell_type": "code",
   "execution_count": null,
   "metadata": {
    "id": "M75UjH7xxS7J"
   },
   "outputs": [],
   "source": [
    "# iterator = iter(test_dataset)\n",
    "\n",
    "fig, ax = plt.subplots(1, 2, figsize=(18, 18))\n",
    "fig.show()\n",
    "\n",
    "image = dataset_test.__getoriginal__(index)\n",
    "# image = image * 255\n",
    "\n",
    "item = dataset_test.__getitem__(index)\n",
    "current_info = dataset_test.__getInfo__(index)\n",
    "patch_sigmoids = []\n",
    "for patch_arr in item[0]:\n",
    "  out_sigmoid = model.predict(x=tf.expand_dims(patch_arr, 0))\n",
    "  patch_sigmoids.append(out_sigmoid[0])\n",
    "\n",
    "\n",
    "out_sigmoid_orig = dataset_test.__rebuildoriginal__(i, patch_sigmoids)\n",
    "predicted_class_orig = tf.argmax(out_sigmoid_orig, -1)\n",
    "# predicted_class_orig = predicted_class_orig[0, ...]\n",
    "\n",
    "index += 1\n",
    "\n",
    "\n",
    "# out_sigmoid = model.predict(x=tf.expand_dims(image, 0))\n",
    "\n",
    "# Get predicted class as the index corresponding to the maximum value in the vector probability\n",
    "# predicted_class = tf.cast(out_sigmoid > score_th, tf.int32)\n",
    "# predicted_class = predicted_class[0, ..., 0]\n",
    "# predicted_class = tf.argmax(out_sigmoid, -1)\n",
    "\n",
    "# out_sigmoid.shape\n",
    "\n",
    "# predicted_class = predicted_class[0, ...]\n",
    "\n",
    "# Assign colors (just for visualization)\n",
    "# target_img = np.zeros([target.shape[0], target.shape[1], 3])\n",
    "prediction_img = np.zeros([predicted_class_orig.shape[0], predicted_class_orig.shape[1], 3])\n",
    "\n",
    "# target_img[np.where(target == 0)] = [0, 0, 0]\n",
    "# for i in range(1, 21):\n",
    "#   target_img[np.where(target == i)] = np.array(colors[i-1])[:3] * 255\n",
    "\n",
    "prediction_img[np.where(predicted_class_orig == 0)] = [0, 0, 0]\n",
    "for i in range(1, num_classes):\n",
    "  prediction_img[np.where(predicted_class_orig == i)] = conv_colors[i]\n",
    "\n",
    "ax[0].imshow(np.uint8(image))\n",
    "# ax[1].imshow(np.uint8(target_img))\n",
    "ax[1].imshow(np.uint8(prediction_img))\n",
    "\n",
    "fig.canvas.draw()\n",
    "time.sleep(1)"
   ]
  },
  {
   "cell_type": "code",
   "execution_count": null,
   "metadata": {
    "id": "dut15YpklGHk"
   },
   "outputs": [],
   "source": [
    "fig, ax = plt.subplots(1, 3, figsize=(18, 18))\r\n",
    "fig.show()\r\n",
    "\r\n",
    "image = dataset_valid.__getoriginal__(index)\r\n",
    "mask_img = dataset_valid.__getoriginalmask__(index)\r\n",
    "# image = image * 255\r\n",
    "\r\n",
    "item = dataset_valid.__getitem__(index)\r\n",
    "patch_sigmoids = []\r\n",
    "for patch_arr in item[0]:\r\n",
    "  out_sigmoid = model.predict(x=tf.expand_dims(patch_arr, 0))\r\n",
    "  patch_sigmoids.append(out_sigmoid[0])\r\n",
    "\r\n",
    "\r\n",
    "out_sigmoid_orig = dataset_test.__rebuildoriginal__(i, patch_sigmoids)\r\n",
    "predicted_class_orig = tf.argmax(out_sigmoid_orig, -1)\r\n",
    "# predicted_class_orig = predicted_class_orig[0, ...]\r\n",
    "\r\n",
    "index += 1\r\n",
    "\r\n",
    "\r\n",
    "# out_sigmoid = model.predict(x=tf.expand_dims(image, 0))\r\n",
    "\r\n",
    "# Get predicted class as the index corresponding to the maximum value in the vector probability\r\n",
    "# predicted_class = tf.cast(out_sigmoid > score_th, tf.int32)\r\n",
    "# predicted_class = predicted_class[0, ..., 0]\r\n",
    "# predicted_class = tf.argmax(out_sigmoid, -1)\r\n",
    "\r\n",
    "# out_sigmoid.shape\r\n",
    "\r\n",
    "# predicted_class = predicted_class[0, ...]\r\n",
    "\r\n",
    "# Assign colors (just for visualization)\r\n",
    "# target_img = np.zeros([target.shape[0], target.shape[1], 3])\r\n",
    "prediction_img = np.zeros([predicted_class_orig.shape[0], predicted_class_orig.shape[1], 3])\r\n",
    "\r\n",
    "# target_img[np.where(target == 0)] = [0, 0, 0]\r\n",
    "# for i in range(1, 21):\r\n",
    "#   target_img[np.where(target == i)] = np.array(colors[i-1])[:3] * 255\r\n",
    "\r\n",
    "prediction_img[np.where(predicted_class_orig == 0)] = [0, 0, 0]\r\n",
    "for i in range(1, num_classes):\r\n",
    "  prediction_img[np.where(predicted_class_orig == i)] = conv_colors[i]\r\n",
    "\r\n",
    "ax[0].imshow(np.uint8(image))\r\n",
    "ax[1].imshow(np.uint8(mask_img))\r\n",
    "ax[2].imshow(np.uint8(prediction_img))\r\n",
    "\r\n",
    "fig.canvas.draw()\r\n",
    "time.sleep(1)"
   ]
  },
  {
   "cell_type": "code",
   "execution_count": null,
   "metadata": {
    "id": "v7iOt1IqY4o5"
   },
   "outputs": [],
   "source": [
    "out_mask = np.zeros((200,300,3),dtype=int)\r\n",
    "out_mask.shape\r\n",
    "out_mask[0,0]\r\n",
    "len(out_mask[0,0])"
   ]
  }
 ],
 "metadata": {
  "accelerator": "GPU",
  "colab": {
   "collapsed_sections": [],
   "name": "Template_Segmentation_xce_freeze.ipynb",
   "provenance": []
  },
  "kernelspec": {
   "display_name": "Python 3",
   "language": "python",
   "name": "python3"
  },
  "language_info": {
   "codemirror_mode": {
    "name": "ipython",
    "version": 3
   },
   "file_extension": ".py",
   "mimetype": "text/x-python",
   "name": "python",
   "nbconvert_exporter": "python",
   "pygments_lexer": "ipython3",
   "version": "3.8.3"
  }
 },
 "nbformat": 4,
 "nbformat_minor": 4
}
