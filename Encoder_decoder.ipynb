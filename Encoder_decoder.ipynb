{
 "cells": [
  {
   "cell_type": "markdown",
   "metadata": {
    "id": "7025TjpS-bqo"
   },
   "source": [
    "## Encoder decoder Convolution Layers\n",
    "\n",
    "Classical encoder-decoder network."
   ]
  },
  {
   "cell_type": "code",
   "execution_count": 3,
   "metadata": {
    "executionInfo": {
     "elapsed": 1181,
     "status": "ok",
     "timestamp": 1608632814514,
     "user": {
      "displayName": "Irene Arroyo Delgado",
      "photoUrl": "https://lh3.googleusercontent.com/a-/AOh14GjE-g4v8K9YBYb5gwspoxjyt8F9k0xvUvG8NqP40qQ=s64",
      "userId": "16117914916042522232"
     },
     "user_tz": -60
    },
    "id": "I5FnwOggnFIl"
   },
   "outputs": [],
   "source": [
    "from IPython.core.interactiveshell import InteractiveShell\n",
    "InteractiveShell.ast_node_interactivity = \"all\""
   ]
  },
  {
   "cell_type": "code",
   "execution_count": 1,
   "metadata": {
    "executionInfo": {
     "elapsed": 2645,
     "status": "ok",
     "timestamp": 1608632812000,
     "user": {
      "displayName": "Irene Arroyo Delgado",
      "photoUrl": "https://lh3.googleusercontent.com/a-/AOh14GjE-g4v8K9YBYb5gwspoxjyt8F9k0xvUvG8NqP40qQ=s64",
      "userId": "16117914916042522232"
     },
     "user_tz": -60
    },
    "id": "tOBDSA9BnFIx"
   },
   "outputs": [],
   "source": [
    "import os\n",
    "\n",
    "# os.environ[\"CUDA_VISIBLE_DEVICES\"]=\"-1\" \n",
    "import tensorflow as tf\n",
    "import numpy as np\n",
    "\n",
    "# Set the seed for random operations. \n",
    "# This let our experiments to be reproducible. \n",
    "SEED = 1234\n",
    "tf.random.set_seed(SEED)  "
   ]
  },
  {
   "cell_type": "code",
   "execution_count": 4,
   "metadata": {
    "executionInfo": {
     "elapsed": 1151,
     "status": "ok",
     "timestamp": 1608632815636,
     "user": {
      "displayName": "Irene Arroyo Delgado",
      "photoUrl": "https://lh3.googleusercontent.com/a-/AOh14GjE-g4v8K9YBYb5gwspoxjyt8F9k0xvUvG8NqP40qQ=s64",
      "userId": "16117914916042522232"
     },
     "user_tz": -60
    },
    "id": "bns18Nm7oORk"
   },
   "outputs": [],
   "source": [
    "cwd = os.getcwd()"
   ]
  },
  {
   "cell_type": "code",
   "execution_count": 5,
   "metadata": {
    "colab": {
     "base_uri": "https://localhost:8080/"
    },
    "executionInfo": {
     "elapsed": 31385,
     "status": "ok",
     "timestamp": 1608632846516,
     "user": {
      "displayName": "Irene Arroyo Delgado",
      "photoUrl": "https://lh3.googleusercontent.com/a-/AOh14GjE-g4v8K9YBYb5gwspoxjyt8F9k0xvUvG8NqP40qQ=s64",
      "userId": "16117914916042522232"
     },
     "user_tz": -60
    },
    "id": "Z8bhsWQnnU-i",
    "outputId": "611f98ee-37c3-4088-da80-7cc4af37c9c8"
   },
   "outputs": [
    {
     "name": "stdout",
     "output_type": "stream",
     "text": [
      "Mounted at /content/drive\n"
     ]
    }
   ],
   "source": [
    "from google.colab import drive\n",
    "drive.mount('/content/drive')"
   ]
  },
  {
   "cell_type": "code",
   "execution_count": null,
   "metadata": {
    "id": "Uw-loJ73n0eS"
   },
   "outputs": [],
   "source": [
    "# !unzip '/content/drive/My Drive/Development_Dataset/Test_Dev/AllTest.zip'"
   ]
  },
  {
   "cell_type": "code",
   "execution_count": null,
   "metadata": {
    "id": "z3gCzJ2NP3Rl"
   },
   "outputs": [],
   "source": [
    "# !ls /content/VOCDataset/Images"
   ]
  },
  {
   "cell_type": "markdown",
   "metadata": {
    "id": "1nTvGxsY4f8W"
   },
   "source": [
    "# **Preparing data for training**\n",
    "1) Copying haricot and maize images from selected teams to a single folder. The structure should be \n",
    "\n",
    "```\n",
    "___/\n",
    "______ Challenge2            # Copy destionation dir\n",
    "_________ Training\n",
    "____________ Images\n",
    "____________ Masks\n",
    "____________ Splits\n",
    "_________ Results\n",
    "____________ submission.json\n",
    "...\n",
    "______ Development_dataset\n",
    "_________ Training\n",
    "____________ Bipbip\n",
    "_______________ Haricot\n",
    "__________________ Images\n",
    "__________________ Masks\n",
    "_______________ Mais\n",
    "____________ Roseau [...]\n",
    "_________ Test_Dev\n",
    "____________ Bipbip\n",
    "____________ Roseau [...]\n",
    "```\n",
    "\n"
   ]
  },
  {
   "cell_type": "code",
   "execution_count": 6,
   "metadata": {
    "colab": {
     "base_uri": "https://localhost:8080/",
     "height": 37
    },
    "executionInfo": {
     "elapsed": 4841,
     "status": "ok",
     "timestamp": 1608632851374,
     "user": {
      "displayName": "Irene Arroyo Delgado",
      "photoUrl": "https://lh3.googleusercontent.com/a-/AOh14GjE-g4v8K9YBYb5gwspoxjyt8F9k0xvUvG8NqP40qQ=s64",
      "userId": "16117914916042522232"
     },
     "user_tz": -60
    },
    "id": "o4CM5HnHuaIf",
    "outputId": "472846dc-5dc2-4a48-9b04-6f5ce450655f"
   },
   "outputs": [
    {
     "data": {
      "application/vnd.google.colaboratory.intrinsic+json": {
       "type": "string"
      },
      "text/plain": [
       "'/content/drive/My Drive/Challenge2/Training'"
      ]
     },
     "execution_count": 6,
     "metadata": {
      "tags": []
     },
     "output_type": "execute_result"
    }
   ],
   "source": [
    "import shutil\n",
    "\n",
    "# If you want to remove a team or a colture you have to delete all files of dest_train_img and dest_train_mask \n",
    "\n",
    "selected_teams = ['Bipbip'] # Selectable Bipbip, Pead, Roseau, Weedelec\n",
    "\n",
    "original_dataset_dir = '/content/drive/My Drive/Development_Dataset'\n",
    "orig_training_dir = os.path.join(original_dataset_dir, 'Training')\n",
    "\n",
    "dest_dir = '/content/drive/My Drive/Challenge2'\n",
    "dest_training_dir = os.path.join(dest_dir, 'Training')\n",
    "dest_training_dir\n",
    "\n",
    "if not os.path.exists(dest_training_dir):\n",
    "    os.makedirs(dest_training_dir)\n",
    "\n",
    "dest_train_img = os.path.join(dest_training_dir, 'Images')\n",
    "if not os.path.exists(dest_train_img):\n",
    "    os.makedirs(dest_train_img)\n",
    "\n",
    "dest_train_mask = os.path.join(dest_training_dir, 'Masks')\n",
    "if not os.path.exists(dest_train_mask):\n",
    "    os.makedirs(dest_train_mask)\n",
    "\n",
    "colture_types = ['Haricot', 'Mais'] # Selectable Haricot, Mais\n",
    "\n",
    "# Copying files from selected_teams into a single training folder, both Haricot and Maize\n",
    "for team in selected_teams:\n",
    "  curr_team_dir = os.path.join(orig_training_dir, team)\n",
    "  for colture in colture_types:\n",
    "    folder_types = ['Images', 'Masks']\n",
    "    for folder in folder_types:\n",
    "      current_dir = os.path.join(curr_team_dir,colture,folder)\n",
    "      current_dest_dir = os.path.join(dest_training_dir, folder)\n",
    "      src_files = os.listdir(current_dir)\n",
    "      for file_name in src_files:\n",
    "          full_file_name = os.path.join(current_dir, file_name)\n",
    "          if os.path.isfile(full_file_name):\n",
    "            if not os.path.exists(full_file_name):\n",
    "              shutil.copy(full_file_name, current_dest_dir)\n"
   ]
  },
  {
   "cell_type": "markdown",
   "metadata": {
    "id": "OzcRwV-848pW"
   },
   "source": [
    "2) Split training data into two subset training and validation set, creating the txt file in order to reuse function from Lattari's notebook"
   ]
  },
  {
   "cell_type": "code",
   "execution_count": 7,
   "metadata": {
    "colab": {
     "base_uri": "https://localhost:8080/"
    },
    "executionInfo": {
     "elapsed": 3042,
     "status": "ok",
     "timestamp": 1608632852167,
     "user": {
      "displayName": "Irene Arroyo Delgado",
      "photoUrl": "https://lh3.googleusercontent.com/a-/AOh14GjE-g4v8K9YBYb5gwspoxjyt8F9k0xvUvG8NqP40qQ=s64",
      "userId": "16117914916042522232"
     },
     "user_tz": -60
    },
    "id": "3hgTCYBW5VJW",
    "outputId": "46716f28-a9d4-41f4-aa47-f8e61e514f24"
   },
   "outputs": [
    {
     "data": {
      "text/plain": [
       "24"
      ]
     },
     "execution_count": 7,
     "metadata": {
      "tags": []
     },
     "output_type": "execute_result"
    },
    {
     "data": {
      "text/plain": [
       "24"
      ]
     },
     "execution_count": 7,
     "metadata": {
      "tags": []
     },
     "output_type": "execute_result"
    },
    {
     "data": {
      "text/plain": [
       "24"
      ]
     },
     "execution_count": 7,
     "metadata": {
      "tags": []
     },
     "output_type": "execute_result"
    },
    {
     "data": {
      "text/plain": [
       "24"
      ]
     },
     "execution_count": 7,
     "metadata": {
      "tags": []
     },
     "output_type": "execute_result"
    },
    {
     "data": {
      "text/plain": [
       "21"
      ]
     },
     "execution_count": 7,
     "metadata": {
      "tags": []
     },
     "output_type": "execute_result"
    },
    {
     "data": {
      "text/plain": [
       "21"
      ]
     },
     "execution_count": 7,
     "metadata": {
      "tags": []
     },
     "output_type": "execute_result"
    },
    {
     "data": {
      "text/plain": [
       "24"
      ]
     },
     "execution_count": 7,
     "metadata": {
      "tags": []
     },
     "output_type": "execute_result"
    },
    {
     "data": {
      "text/plain": [
       "24"
      ]
     },
     "execution_count": 7,
     "metadata": {
      "tags": []
     },
     "output_type": "execute_result"
    },
    {
     "data": {
      "text/plain": [
       "24"
      ]
     },
     "execution_count": 7,
     "metadata": {
      "tags": []
     },
     "output_type": "execute_result"
    },
    {
     "data": {
      "text/plain": [
       "24"
      ]
     },
     "execution_count": 7,
     "metadata": {
      "tags": []
     },
     "output_type": "execute_result"
    },
    {
     "data": {
      "text/plain": [
       "24"
      ]
     },
     "execution_count": 7,
     "metadata": {
      "tags": []
     },
     "output_type": "execute_result"
    },
    {
     "data": {
      "text/plain": [
       "21"
      ]
     },
     "execution_count": 7,
     "metadata": {
      "tags": []
     },
     "output_type": "execute_result"
    },
    {
     "data": {
      "text/plain": [
       "21"
      ]
     },
     "execution_count": 7,
     "metadata": {
      "tags": []
     },
     "output_type": "execute_result"
    },
    {
     "data": {
      "text/plain": [
       "24"
      ]
     },
     "execution_count": 7,
     "metadata": {
      "tags": []
     },
     "output_type": "execute_result"
    },
    {
     "data": {
      "text/plain": [
       "24"
      ]
     },
     "execution_count": 7,
     "metadata": {
      "tags": []
     },
     "output_type": "execute_result"
    },
    {
     "data": {
      "text/plain": [
       "21"
      ]
     },
     "execution_count": 7,
     "metadata": {
      "tags": []
     },
     "output_type": "execute_result"
    },
    {
     "data": {
      "text/plain": [
       "21"
      ]
     },
     "execution_count": 7,
     "metadata": {
      "tags": []
     },
     "output_type": "execute_result"
    },
    {
     "data": {
      "text/plain": [
       "24"
      ]
     },
     "execution_count": 7,
     "metadata": {
      "tags": []
     },
     "output_type": "execute_result"
    },
    {
     "data": {
      "text/plain": [
       "21"
      ]
     },
     "execution_count": 7,
     "metadata": {
      "tags": []
     },
     "output_type": "execute_result"
    },
    {
     "data": {
      "text/plain": [
       "21"
      ]
     },
     "execution_count": 7,
     "metadata": {
      "tags": []
     },
     "output_type": "execute_result"
    },
    {
     "data": {
      "text/plain": [
       "24"
      ]
     },
     "execution_count": 7,
     "metadata": {
      "tags": []
     },
     "output_type": "execute_result"
    },
    {
     "data": {
      "text/plain": [
       "21"
      ]
     },
     "execution_count": 7,
     "metadata": {
      "tags": []
     },
     "output_type": "execute_result"
    },
    {
     "data": {
      "text/plain": [
       "21"
      ]
     },
     "execution_count": 7,
     "metadata": {
      "tags": []
     },
     "output_type": "execute_result"
    },
    {
     "data": {
      "text/plain": [
       "21"
      ]
     },
     "execution_count": 7,
     "metadata": {
      "tags": []
     },
     "output_type": "execute_result"
    },
    {
     "data": {
      "text/plain": [
       "21"
      ]
     },
     "execution_count": 7,
     "metadata": {
      "tags": []
     },
     "output_type": "execute_result"
    },
    {
     "data": {
      "text/plain": [
       "24"
      ]
     },
     "execution_count": 7,
     "metadata": {
      "tags": []
     },
     "output_type": "execute_result"
    },
    {
     "data": {
      "text/plain": [
       "24"
      ]
     },
     "execution_count": 7,
     "metadata": {
      "tags": []
     },
     "output_type": "execute_result"
    },
    {
     "data": {
      "text/plain": [
       "21"
      ]
     },
     "execution_count": 7,
     "metadata": {
      "tags": []
     },
     "output_type": "execute_result"
    },
    {
     "data": {
      "text/plain": [
       "24"
      ]
     },
     "execution_count": 7,
     "metadata": {
      "tags": []
     },
     "output_type": "execute_result"
    },
    {
     "data": {
      "text/plain": [
       "21"
      ]
     },
     "execution_count": 7,
     "metadata": {
      "tags": []
     },
     "output_type": "execute_result"
    },
    {
     "data": {
      "text/plain": [
       "21"
      ]
     },
     "execution_count": 7,
     "metadata": {
      "tags": []
     },
     "output_type": "execute_result"
    },
    {
     "data": {
      "text/plain": [
       "24"
      ]
     },
     "execution_count": 7,
     "metadata": {
      "tags": []
     },
     "output_type": "execute_result"
    },
    {
     "data": {
      "text/plain": [
       "21"
      ]
     },
     "execution_count": 7,
     "metadata": {
      "tags": []
     },
     "output_type": "execute_result"
    },
    {
     "data": {
      "text/plain": [
       "21"
      ]
     },
     "execution_count": 7,
     "metadata": {
      "tags": []
     },
     "output_type": "execute_result"
    },
    {
     "data": {
      "text/plain": [
       "21"
      ]
     },
     "execution_count": 7,
     "metadata": {
      "tags": []
     },
     "output_type": "execute_result"
    },
    {
     "data": {
      "text/plain": [
       "24"
      ]
     },
     "execution_count": 7,
     "metadata": {
      "tags": []
     },
     "output_type": "execute_result"
    },
    {
     "data": {
      "text/plain": [
       "24"
      ]
     },
     "execution_count": 7,
     "metadata": {
      "tags": []
     },
     "output_type": "execute_result"
    },
    {
     "data": {
      "text/plain": [
       "24"
      ]
     },
     "execution_count": 7,
     "metadata": {
      "tags": []
     },
     "output_type": "execute_result"
    },
    {
     "data": {
      "text/plain": [
       "21"
      ]
     },
     "execution_count": 7,
     "metadata": {
      "tags": []
     },
     "output_type": "execute_result"
    },
    {
     "data": {
      "text/plain": [
       "21"
      ]
     },
     "execution_count": 7,
     "metadata": {
      "tags": []
     },
     "output_type": "execute_result"
    },
    {
     "data": {
      "text/plain": [
       "21"
      ]
     },
     "execution_count": 7,
     "metadata": {
      "tags": []
     },
     "output_type": "execute_result"
    },
    {
     "data": {
      "text/plain": [
       "21"
      ]
     },
     "execution_count": 7,
     "metadata": {
      "tags": []
     },
     "output_type": "execute_result"
    },
    {
     "data": {
      "text/plain": [
       "24"
      ]
     },
     "execution_count": 7,
     "metadata": {
      "tags": []
     },
     "output_type": "execute_result"
    },
    {
     "data": {
      "text/plain": [
       "21"
      ]
     },
     "execution_count": 7,
     "metadata": {
      "tags": []
     },
     "output_type": "execute_result"
    },
    {
     "data": {
      "text/plain": [
       "24"
      ]
     },
     "execution_count": 7,
     "metadata": {
      "tags": []
     },
     "output_type": "execute_result"
    },
    {
     "data": {
      "text/plain": [
       "21"
      ]
     },
     "execution_count": 7,
     "metadata": {
      "tags": []
     },
     "output_type": "execute_result"
    },
    {
     "data": {
      "text/plain": [
       "21"
      ]
     },
     "execution_count": 7,
     "metadata": {
      "tags": []
     },
     "output_type": "execute_result"
    },
    {
     "data": {
      "text/plain": [
       "21"
      ]
     },
     "execution_count": 7,
     "metadata": {
      "tags": []
     },
     "output_type": "execute_result"
    },
    {
     "data": {
      "text/plain": [
       "21"
      ]
     },
     "execution_count": 7,
     "metadata": {
      "tags": []
     },
     "output_type": "execute_result"
    },
    {
     "data": {
      "text/plain": [
       "21"
      ]
     },
     "execution_count": 7,
     "metadata": {
      "tags": []
     },
     "output_type": "execute_result"
    },
    {
     "data": {
      "text/plain": [
       "21"
      ]
     },
     "execution_count": 7,
     "metadata": {
      "tags": []
     },
     "output_type": "execute_result"
    },
    {
     "data": {
      "text/plain": [
       "24"
      ]
     },
     "execution_count": 7,
     "metadata": {
      "tags": []
     },
     "output_type": "execute_result"
    },
    {
     "data": {
      "text/plain": [
       "24"
      ]
     },
     "execution_count": 7,
     "metadata": {
      "tags": []
     },
     "output_type": "execute_result"
    },
    {
     "data": {
      "text/plain": [
       "24"
      ]
     },
     "execution_count": 7,
     "metadata": {
      "tags": []
     },
     "output_type": "execute_result"
    },
    {
     "data": {
      "text/plain": [
       "24"
      ]
     },
     "execution_count": 7,
     "metadata": {
      "tags": []
     },
     "output_type": "execute_result"
    },
    {
     "data": {
      "text/plain": [
       "21"
      ]
     },
     "execution_count": 7,
     "metadata": {
      "tags": []
     },
     "output_type": "execute_result"
    },
    {
     "data": {
      "text/plain": [
       "21"
      ]
     },
     "execution_count": 7,
     "metadata": {
      "tags": []
     },
     "output_type": "execute_result"
    },
    {
     "data": {
      "text/plain": [
       "21"
      ]
     },
     "execution_count": 7,
     "metadata": {
      "tags": []
     },
     "output_type": "execute_result"
    },
    {
     "data": {
      "text/plain": [
       "21"
      ]
     },
     "execution_count": 7,
     "metadata": {
      "tags": []
     },
     "output_type": "execute_result"
    },
    {
     "data": {
      "text/plain": [
       "21"
      ]
     },
     "execution_count": 7,
     "metadata": {
      "tags": []
     },
     "output_type": "execute_result"
    },
    {
     "data": {
      "text/plain": [
       "24"
      ]
     },
     "execution_count": 7,
     "metadata": {
      "tags": []
     },
     "output_type": "execute_result"
    },
    {
     "data": {
      "text/plain": [
       "24"
      ]
     },
     "execution_count": 7,
     "metadata": {
      "tags": []
     },
     "output_type": "execute_result"
    },
    {
     "data": {
      "text/plain": [
       "24"
      ]
     },
     "execution_count": 7,
     "metadata": {
      "tags": []
     },
     "output_type": "execute_result"
    },
    {
     "data": {
      "text/plain": [
       "24"
      ]
     },
     "execution_count": 7,
     "metadata": {
      "tags": []
     },
     "output_type": "execute_result"
    },
    {
     "data": {
      "text/plain": [
       "24"
      ]
     },
     "execution_count": 7,
     "metadata": {
      "tags": []
     },
     "output_type": "execute_result"
    },
    {
     "data": {
      "text/plain": [
       "21"
      ]
     },
     "execution_count": 7,
     "metadata": {
      "tags": []
     },
     "output_type": "execute_result"
    },
    {
     "data": {
      "text/plain": [
       "21"
      ]
     },
     "execution_count": 7,
     "metadata": {
      "tags": []
     },
     "output_type": "execute_result"
    },
    {
     "data": {
      "text/plain": [
       "21"
      ]
     },
     "execution_count": 7,
     "metadata": {
      "tags": []
     },
     "output_type": "execute_result"
    },
    {
     "data": {
      "text/plain": [
       "24"
      ]
     },
     "execution_count": 7,
     "metadata": {
      "tags": []
     },
     "output_type": "execute_result"
    },
    {
     "data": {
      "text/plain": [
       "21"
      ]
     },
     "execution_count": 7,
     "metadata": {
      "tags": []
     },
     "output_type": "execute_result"
    },
    {
     "data": {
      "text/plain": [
       "24"
      ]
     },
     "execution_count": 7,
     "metadata": {
      "tags": []
     },
     "output_type": "execute_result"
    },
    {
     "data": {
      "text/plain": [
       "21"
      ]
     },
     "execution_count": 7,
     "metadata": {
      "tags": []
     },
     "output_type": "execute_result"
    },
    {
     "data": {
      "text/plain": [
       "24"
      ]
     },
     "execution_count": 7,
     "metadata": {
      "tags": []
     },
     "output_type": "execute_result"
    },
    {
     "data": {
      "text/plain": [
       "21"
      ]
     },
     "execution_count": 7,
     "metadata": {
      "tags": []
     },
     "output_type": "execute_result"
    },
    {
     "data": {
      "text/plain": [
       "21"
      ]
     },
     "execution_count": 7,
     "metadata": {
      "tags": []
     },
     "output_type": "execute_result"
    },
    {
     "data": {
      "text/plain": [
       "21"
      ]
     },
     "execution_count": 7,
     "metadata": {
      "tags": []
     },
     "output_type": "execute_result"
    },
    {
     "data": {
      "text/plain": [
       "21"
      ]
     },
     "execution_count": 7,
     "metadata": {
      "tags": []
     },
     "output_type": "execute_result"
    },
    {
     "data": {
      "text/plain": [
       "24"
      ]
     },
     "execution_count": 7,
     "metadata": {
      "tags": []
     },
     "output_type": "execute_result"
    },
    {
     "data": {
      "text/plain": [
       "24"
      ]
     },
     "execution_count": 7,
     "metadata": {
      "tags": []
     },
     "output_type": "execute_result"
    },
    {
     "data": {
      "text/plain": [
       "24"
      ]
     },
     "execution_count": 7,
     "metadata": {
      "tags": []
     },
     "output_type": "execute_result"
    },
    {
     "data": {
      "text/plain": [
       "24"
      ]
     },
     "execution_count": 7,
     "metadata": {
      "tags": []
     },
     "output_type": "execute_result"
    },
    {
     "data": {
      "text/plain": [
       "24"
      ]
     },
     "execution_count": 7,
     "metadata": {
      "tags": []
     },
     "output_type": "execute_result"
    },
    {
     "data": {
      "text/plain": [
       "24"
      ]
     },
     "execution_count": 7,
     "metadata": {
      "tags": []
     },
     "output_type": "execute_result"
    },
    {
     "data": {
      "text/plain": [
       "24"
      ]
     },
     "execution_count": 7,
     "metadata": {
      "tags": []
     },
     "output_type": "execute_result"
    },
    {
     "data": {
      "text/plain": [
       "21"
      ]
     },
     "execution_count": 7,
     "metadata": {
      "tags": []
     },
     "output_type": "execute_result"
    },
    {
     "data": {
      "text/plain": [
       "24"
      ]
     },
     "execution_count": 7,
     "metadata": {
      "tags": []
     },
     "output_type": "execute_result"
    },
    {
     "data": {
      "text/plain": [
       "24"
      ]
     },
     "execution_count": 7,
     "metadata": {
      "tags": []
     },
     "output_type": "execute_result"
    },
    {
     "data": {
      "text/plain": [
       "21"
      ]
     },
     "execution_count": 7,
     "metadata": {
      "tags": []
     },
     "output_type": "execute_result"
    },
    {
     "data": {
      "text/plain": [
       "24"
      ]
     },
     "execution_count": 7,
     "metadata": {
      "tags": []
     },
     "output_type": "execute_result"
    },
    {
     "data": {
      "text/plain": [
       "21"
      ]
     },
     "execution_count": 7,
     "metadata": {
      "tags": []
     },
     "output_type": "execute_result"
    },
    {
     "data": {
      "text/plain": [
       "24"
      ]
     },
     "execution_count": 7,
     "metadata": {
      "tags": []
     },
     "output_type": "execute_result"
    },
    {
     "data": {
      "text/plain": [
       "21"
      ]
     },
     "execution_count": 7,
     "metadata": {
      "tags": []
     },
     "output_type": "execute_result"
    },
    {
     "data": {
      "text/plain": [
       "24"
      ]
     },
     "execution_count": 7,
     "metadata": {
      "tags": []
     },
     "output_type": "execute_result"
    },
    {
     "data": {
      "text/plain": [
       "24"
      ]
     },
     "execution_count": 7,
     "metadata": {
      "tags": []
     },
     "output_type": "execute_result"
    },
    {
     "data": {
      "text/plain": [
       "21"
      ]
     },
     "execution_count": 7,
     "metadata": {
      "tags": []
     },
     "output_type": "execute_result"
    },
    {
     "data": {
      "text/plain": [
       "24"
      ]
     },
     "execution_count": 7,
     "metadata": {
      "tags": []
     },
     "output_type": "execute_result"
    },
    {
     "data": {
      "text/plain": [
       "24"
      ]
     },
     "execution_count": 7,
     "metadata": {
      "tags": []
     },
     "output_type": "execute_result"
    },
    {
     "data": {
      "text/plain": [
       "24"
      ]
     },
     "execution_count": 7,
     "metadata": {
      "tags": []
     },
     "output_type": "execute_result"
    },
    {
     "data": {
      "text/plain": [
       "21"
      ]
     },
     "execution_count": 7,
     "metadata": {
      "tags": []
     },
     "output_type": "execute_result"
    },
    {
     "data": {
      "text/plain": [
       "21"
      ]
     },
     "execution_count": 7,
     "metadata": {
      "tags": []
     },
     "output_type": "execute_result"
    },
    {
     "data": {
      "text/plain": [
       "24"
      ]
     },
     "execution_count": 7,
     "metadata": {
      "tags": []
     },
     "output_type": "execute_result"
    },
    {
     "data": {
      "text/plain": [
       "24"
      ]
     },
     "execution_count": 7,
     "metadata": {
      "tags": []
     },
     "output_type": "execute_result"
    },
    {
     "data": {
      "text/plain": [
       "21"
      ]
     },
     "execution_count": 7,
     "metadata": {
      "tags": []
     },
     "output_type": "execute_result"
    },
    {
     "data": {
      "text/plain": [
       "24"
      ]
     },
     "execution_count": 7,
     "metadata": {
      "tags": []
     },
     "output_type": "execute_result"
    },
    {
     "data": {
      "text/plain": [
       "21"
      ]
     },
     "execution_count": 7,
     "metadata": {
      "tags": []
     },
     "output_type": "execute_result"
    },
    {
     "data": {
      "text/plain": [
       "21"
      ]
     },
     "execution_count": 7,
     "metadata": {
      "tags": []
     },
     "output_type": "execute_result"
    },
    {
     "data": {
      "text/plain": [
       "24"
      ]
     },
     "execution_count": 7,
     "metadata": {
      "tags": []
     },
     "output_type": "execute_result"
    },
    {
     "data": {
      "text/plain": [
       "21"
      ]
     },
     "execution_count": 7,
     "metadata": {
      "tags": []
     },
     "output_type": "execute_result"
    },
    {
     "data": {
      "text/plain": [
       "24"
      ]
     },
     "execution_count": 7,
     "metadata": {
      "tags": []
     },
     "output_type": "execute_result"
    },
    {
     "data": {
      "text/plain": [
       "24"
      ]
     },
     "execution_count": 7,
     "metadata": {
      "tags": []
     },
     "output_type": "execute_result"
    },
    {
     "data": {
      "text/plain": [
       "21"
      ]
     },
     "execution_count": 7,
     "metadata": {
      "tags": []
     },
     "output_type": "execute_result"
    },
    {
     "data": {
      "text/plain": [
       "21"
      ]
     },
     "execution_count": 7,
     "metadata": {
      "tags": []
     },
     "output_type": "execute_result"
    },
    {
     "data": {
      "text/plain": [
       "24"
      ]
     },
     "execution_count": 7,
     "metadata": {
      "tags": []
     },
     "output_type": "execute_result"
    },
    {
     "data": {
      "text/plain": [
       "21"
      ]
     },
     "execution_count": 7,
     "metadata": {
      "tags": []
     },
     "output_type": "execute_result"
    },
    {
     "data": {
      "text/plain": [
       "24"
      ]
     },
     "execution_count": 7,
     "metadata": {
      "tags": []
     },
     "output_type": "execute_result"
    },
    {
     "data": {
      "text/plain": [
       "24"
      ]
     },
     "execution_count": 7,
     "metadata": {
      "tags": []
     },
     "output_type": "execute_result"
    },
    {
     "data": {
      "text/plain": [
       "24"
      ]
     },
     "execution_count": 7,
     "metadata": {
      "tags": []
     },
     "output_type": "execute_result"
    },
    {
     "data": {
      "text/plain": [
       "24"
      ]
     },
     "execution_count": 7,
     "metadata": {
      "tags": []
     },
     "output_type": "execute_result"
    },
    {
     "data": {
      "text/plain": [
       "24"
      ]
     },
     "execution_count": 7,
     "metadata": {
      "tags": []
     },
     "output_type": "execute_result"
    },
    {
     "data": {
      "text/plain": [
       "24"
      ]
     },
     "execution_count": 7,
     "metadata": {
      "tags": []
     },
     "output_type": "execute_result"
    },
    {
     "data": {
      "text/plain": [
       "21"
      ]
     },
     "execution_count": 7,
     "metadata": {
      "tags": []
     },
     "output_type": "execute_result"
    },
    {
     "data": {
      "text/plain": [
       "21"
      ]
     },
     "execution_count": 7,
     "metadata": {
      "tags": []
     },
     "output_type": "execute_result"
    },
    {
     "data": {
      "text/plain": [
       "24"
      ]
     },
     "execution_count": 7,
     "metadata": {
      "tags": []
     },
     "output_type": "execute_result"
    },
    {
     "data": {
      "text/plain": [
       "21"
      ]
     },
     "execution_count": 7,
     "metadata": {
      "tags": []
     },
     "output_type": "execute_result"
    },
    {
     "data": {
      "text/plain": [
       "21"
      ]
     },
     "execution_count": 7,
     "metadata": {
      "tags": []
     },
     "output_type": "execute_result"
    },
    {
     "data": {
      "text/plain": [
       "24"
      ]
     },
     "execution_count": 7,
     "metadata": {
      "tags": []
     },
     "output_type": "execute_result"
    },
    {
     "data": {
      "text/plain": [
       "24"
      ]
     },
     "execution_count": 7,
     "metadata": {
      "tags": []
     },
     "output_type": "execute_result"
    },
    {
     "data": {
      "text/plain": [
       "24"
      ]
     },
     "execution_count": 7,
     "metadata": {
      "tags": []
     },
     "output_type": "execute_result"
    },
    {
     "data": {
      "text/plain": [
       "24"
      ]
     },
     "execution_count": 7,
     "metadata": {
      "tags": []
     },
     "output_type": "execute_result"
    },
    {
     "data": {
      "text/plain": [
       "24"
      ]
     },
     "execution_count": 7,
     "metadata": {
      "tags": []
     },
     "output_type": "execute_result"
    },
    {
     "data": {
      "text/plain": [
       "24"
      ]
     },
     "execution_count": 7,
     "metadata": {
      "tags": []
     },
     "output_type": "execute_result"
    },
    {
     "data": {
      "text/plain": [
       "21"
      ]
     },
     "execution_count": 7,
     "metadata": {
      "tags": []
     },
     "output_type": "execute_result"
    },
    {
     "data": {
      "text/plain": [
       "21"
      ]
     },
     "execution_count": 7,
     "metadata": {
      "tags": []
     },
     "output_type": "execute_result"
    },
    {
     "data": {
      "text/plain": [
       "24"
      ]
     },
     "execution_count": 7,
     "metadata": {
      "tags": []
     },
     "output_type": "execute_result"
    },
    {
     "data": {
      "text/plain": [
       "21"
      ]
     },
     "execution_count": 7,
     "metadata": {
      "tags": []
     },
     "output_type": "execute_result"
    },
    {
     "data": {
      "text/plain": [
       "21"
      ]
     },
     "execution_count": 7,
     "metadata": {
      "tags": []
     },
     "output_type": "execute_result"
    },
    {
     "data": {
      "text/plain": [
       "24"
      ]
     },
     "execution_count": 7,
     "metadata": {
      "tags": []
     },
     "output_type": "execute_result"
    },
    {
     "data": {
      "text/plain": [
       "24"
      ]
     },
     "execution_count": 7,
     "metadata": {
      "tags": []
     },
     "output_type": "execute_result"
    },
    {
     "data": {
      "text/plain": [
       "21"
      ]
     },
     "execution_count": 7,
     "metadata": {
      "tags": []
     },
     "output_type": "execute_result"
    },
    {
     "data": {
      "text/plain": [
       "21"
      ]
     },
     "execution_count": 7,
     "metadata": {
      "tags": []
     },
     "output_type": "execute_result"
    },
    {
     "data": {
      "text/plain": [
       "21"
      ]
     },
     "execution_count": 7,
     "metadata": {
      "tags": []
     },
     "output_type": "execute_result"
    },
    {
     "data": {
      "text/plain": [
       "24"
      ]
     },
     "execution_count": 7,
     "metadata": {
      "tags": []
     },
     "output_type": "execute_result"
    },
    {
     "data": {
      "text/plain": [
       "21"
      ]
     },
     "execution_count": 7,
     "metadata": {
      "tags": []
     },
     "output_type": "execute_result"
    },
    {
     "data": {
      "text/plain": [
       "24"
      ]
     },
     "execution_count": 7,
     "metadata": {
      "tags": []
     },
     "output_type": "execute_result"
    },
    {
     "data": {
      "text/plain": [
       "24"
      ]
     },
     "execution_count": 7,
     "metadata": {
      "tags": []
     },
     "output_type": "execute_result"
    },
    {
     "data": {
      "text/plain": [
       "24"
      ]
     },
     "execution_count": 7,
     "metadata": {
      "tags": []
     },
     "output_type": "execute_result"
    },
    {
     "data": {
      "text/plain": [
       "24"
      ]
     },
     "execution_count": 7,
     "metadata": {
      "tags": []
     },
     "output_type": "execute_result"
    },
    {
     "data": {
      "text/plain": [
       "21"
      ]
     },
     "execution_count": 7,
     "metadata": {
      "tags": []
     },
     "output_type": "execute_result"
    },
    {
     "data": {
      "text/plain": [
       "21"
      ]
     },
     "execution_count": 7,
     "metadata": {
      "tags": []
     },
     "output_type": "execute_result"
    },
    {
     "data": {
      "text/plain": [
       "24"
      ]
     },
     "execution_count": 7,
     "metadata": {
      "tags": []
     },
     "output_type": "execute_result"
    },
    {
     "data": {
      "text/plain": [
       "21"
      ]
     },
     "execution_count": 7,
     "metadata": {
      "tags": []
     },
     "output_type": "execute_result"
    },
    {
     "data": {
      "text/plain": [
       "21"
      ]
     },
     "execution_count": 7,
     "metadata": {
      "tags": []
     },
     "output_type": "execute_result"
    },
    {
     "data": {
      "text/plain": [
       "24"
      ]
     },
     "execution_count": 7,
     "metadata": {
      "tags": []
     },
     "output_type": "execute_result"
    },
    {
     "data": {
      "text/plain": [
       "21"
      ]
     },
     "execution_count": 7,
     "metadata": {
      "tags": []
     },
     "output_type": "execute_result"
    },
    {
     "data": {
      "text/plain": [
       "21"
      ]
     },
     "execution_count": 7,
     "metadata": {
      "tags": []
     },
     "output_type": "execute_result"
    },
    {
     "data": {
      "text/plain": [
       "24"
      ]
     },
     "execution_count": 7,
     "metadata": {
      "tags": []
     },
     "output_type": "execute_result"
    },
    {
     "data": {
      "text/plain": [
       "21"
      ]
     },
     "execution_count": 7,
     "metadata": {
      "tags": []
     },
     "output_type": "execute_result"
    },
    {
     "data": {
      "text/plain": [
       "21"
      ]
     },
     "execution_count": 7,
     "metadata": {
      "tags": []
     },
     "output_type": "execute_result"
    },
    {
     "data": {
      "text/plain": [
       "21"
      ]
     },
     "execution_count": 7,
     "metadata": {
      "tags": []
     },
     "output_type": "execute_result"
    },
    {
     "data": {
      "text/plain": [
       "21"
      ]
     },
     "execution_count": 7,
     "metadata": {
      "tags": []
     },
     "output_type": "execute_result"
    },
    {
     "data": {
      "text/plain": [
       "24"
      ]
     },
     "execution_count": 7,
     "metadata": {
      "tags": []
     },
     "output_type": "execute_result"
    },
    {
     "data": {
      "text/plain": [
       "21"
      ]
     },
     "execution_count": 7,
     "metadata": {
      "tags": []
     },
     "output_type": "execute_result"
    },
    {
     "data": {
      "text/plain": [
       "24"
      ]
     },
     "execution_count": 7,
     "metadata": {
      "tags": []
     },
     "output_type": "execute_result"
    },
    {
     "data": {
      "text/plain": [
       "21"
      ]
     },
     "execution_count": 7,
     "metadata": {
      "tags": []
     },
     "output_type": "execute_result"
    },
    {
     "data": {
      "text/plain": [
       "24"
      ]
     },
     "execution_count": 7,
     "metadata": {
      "tags": []
     },
     "output_type": "execute_result"
    },
    {
     "data": {
      "text/plain": [
       "21"
      ]
     },
     "execution_count": 7,
     "metadata": {
      "tags": []
     },
     "output_type": "execute_result"
    },
    {
     "data": {
      "text/plain": [
       "24"
      ]
     },
     "execution_count": 7,
     "metadata": {
      "tags": []
     },
     "output_type": "execute_result"
    },
    {
     "data": {
      "text/plain": [
       "21"
      ]
     },
     "execution_count": 7,
     "metadata": {
      "tags": []
     },
     "output_type": "execute_result"
    },
    {
     "data": {
      "text/plain": [
       "24"
      ]
     },
     "execution_count": 7,
     "metadata": {
      "tags": []
     },
     "output_type": "execute_result"
    },
    {
     "data": {
      "text/plain": [
       "24"
      ]
     },
     "execution_count": 7,
     "metadata": {
      "tags": []
     },
     "output_type": "execute_result"
    },
    {
     "data": {
      "text/plain": [
       "24"
      ]
     },
     "execution_count": 7,
     "metadata": {
      "tags": []
     },
     "output_type": "execute_result"
    },
    {
     "data": {
      "text/plain": [
       "21"
      ]
     },
     "execution_count": 7,
     "metadata": {
      "tags": []
     },
     "output_type": "execute_result"
    },
    {
     "data": {
      "text/plain": [
       "21"
      ]
     },
     "execution_count": 7,
     "metadata": {
      "tags": []
     },
     "output_type": "execute_result"
    },
    {
     "data": {
      "text/plain": [
       "21"
      ]
     },
     "execution_count": 7,
     "metadata": {
      "tags": []
     },
     "output_type": "execute_result"
    },
    {
     "data": {
      "text/plain": [
       "21"
      ]
     },
     "execution_count": 7,
     "metadata": {
      "tags": []
     },
     "output_type": "execute_result"
    },
    {
     "data": {
      "text/plain": [
       "24"
      ]
     },
     "execution_count": 7,
     "metadata": {
      "tags": []
     },
     "output_type": "execute_result"
    },
    {
     "data": {
      "text/plain": [
       "21"
      ]
     },
     "execution_count": 7,
     "metadata": {
      "tags": []
     },
     "output_type": "execute_result"
    },
    {
     "data": {
      "text/plain": [
       "24"
      ]
     },
     "execution_count": 7,
     "metadata": {
      "tags": []
     },
     "output_type": "execute_result"
    },
    {
     "data": {
      "text/plain": [
       "21"
      ]
     },
     "execution_count": 7,
     "metadata": {
      "tags": []
     },
     "output_type": "execute_result"
    },
    {
     "data": {
      "text/plain": [
       "21"
      ]
     },
     "execution_count": 7,
     "metadata": {
      "tags": []
     },
     "output_type": "execute_result"
    }
   ],
   "source": [
    "training_all_files = os.listdir(dest_train_img)\n",
    "np.random.shuffle(training_all_files)\n",
    "validation_split = 0.1\n",
    "\n",
    "train_files, val_files = np.split(training_all_files, [int(len(training_all_files)*(1-validation_split))])\n",
    "dest_split_dir = os.path.join(dest_training_dir, 'Splits')\n",
    "train_txt_file = os.path.join(dest_split_dir, 'train.txt')\n",
    "val_txt_file = os.path.join(dest_split_dir, 'val.txt')\n",
    "\n",
    "f = open(train_txt_file, \"w\")\n",
    "for single_file in train_files:\n",
    "  f.write(single_file[:-4] + '\\n')\n",
    "f.close()\n",
    "\n",
    "f = open(val_txt_file, \"w\")\n",
    "for single_file in val_files:\n",
    "  f.write(single_file[:-4] + '\\n')\n",
    "f.close()"
   ]
  },
  {
   "cell_type": "markdown",
   "metadata": {
    "id": "mH3lzlVqnFI2"
   },
   "source": [
    "# Example: Image Segmentation\n",
    "## Build segmentation"
   ]
  },
  {
   "cell_type": "code",
   "execution_count": 8,
   "metadata": {
    "executionInfo": {
     "elapsed": 1173,
     "status": "ok",
     "timestamp": 1608632852167,
     "user": {
      "displayName": "Irene Arroyo Delgado",
      "photoUrl": "https://lh3.googleusercontent.com/a-/AOh14GjE-g4v8K9YBYb5gwspoxjyt8F9k0xvUvG8NqP40qQ=s64",
      "userId": "16117914916042522232"
     },
     "user_tz": -60
    },
    "id": "4N88wG50nFI3"
   },
   "outputs": [],
   "source": [
    "# ImageDataGenerator\n",
    "# ------------------\n",
    "\n",
    "from tensorflow.keras.preprocessing.image import ImageDataGenerator\n",
    "\n",
    "apply_data_augmentation = True\n",
    "\n",
    "# Create training ImageDataGenerator object\n",
    "# We need two different generators for images and corresponding masks\n",
    "if apply_data_augmentation:\n",
    "    img_data_gen = ImageDataGenerator(rotation_range=10,\n",
    "                                      width_shift_range=10,\n",
    "                                      height_shift_range=10,\n",
    "                                      zoom_range=0.3,\n",
    "                                      horizontal_flip=True,\n",
    "                                      vertical_flip=True,\n",
    "                                      fill_mode='reflect')\n",
    "    mask_data_gen = ImageDataGenerator(rotation_range=10,\n",
    "                                       width_shift_range=10,\n",
    "                                       height_shift_range=10,\n",
    "                                       zoom_range=0.3,\n",
    "                                       horizontal_flip=True,\n",
    "                                       vertical_flip=True,\n",
    "                                       fill_mode='reflect')"
   ]
  },
  {
   "cell_type": "code",
   "execution_count": 9,
   "metadata": {
    "executionInfo": {
     "elapsed": 719,
     "status": "ok",
     "timestamp": 1608632853509,
     "user": {
      "displayName": "Irene Arroyo Delgado",
      "photoUrl": "https://lh3.googleusercontent.com/a-/AOh14GjE-g4v8K9YBYb5gwspoxjyt8F9k0xvUvG8NqP40qQ=s64",
      "userId": "16117914916042522232"
     },
     "user_tz": -60
    },
    "id": "hsieZk4aKhm6"
   },
   "outputs": [],
   "source": [
    "from PIL import Image\n",
    "\n",
    "def read_rgb_mask(img_path, out_shape):\n",
    "    '''\n",
    "    img_path: path to the mask file\n",
    "    Returns the numpy array containing target values\n",
    "    '''\n",
    "\n",
    "    mask_img = Image.open(img_path)\n",
    "    if (out_shape is not None):\n",
    "      mask_img = mask_img.resize(out_shape)\n",
    "    mask_arr = np.array(mask_img)\n",
    "\n",
    "    new_mask_arr = np.zeros(mask_arr.shape[:2], dtype=mask_arr.dtype)\n",
    "\n",
    "    # Use RGB dictionary in 'RGBtoTarget.txt' to convert RGB to target\n",
    "    new_mask_arr[np.where(np.all(mask_arr == [254, 124, 18], axis=-1))] = 0 #background\n",
    "    new_mask_arr[np.where(np.all(mask_arr == [255, 255, 255], axis=-1))] = 1 #crop\n",
    "    new_mask_arr[np.where(np.all(mask_arr == [216, 67, 82], axis=-1))] = 2 #weed\n",
    "\n",
    "    return new_mask_arr\n",
    "\n",
    "class CustomDataset(tf.keras.utils.Sequence):\n",
    "\n",
    "  \"\"\"\n",
    "    CustomDataset inheriting from tf.keras.utils.Sequence.\n",
    "\n",
    "    3 main methods:\n",
    "      - __init__: save dataset params like directory, filenames..\n",
    "      - __len__: return the total number of samples in the dataset\n",
    "      - __getitem__: return a sample from the dataset\n",
    "\n",
    "    Note: \n",
    "      - the custom dataset return a single sample from the dataset. Then, we use \n",
    "        a tf.data.Dataset object to group samples into batches.\n",
    "      - in this case we have a different structure of the dataset in memory. \n",
    "        We have all the images in the same folder and the training and validation splits\n",
    "        are defined in text files.\n",
    "\n",
    "  \"\"\"\n",
    "\n",
    "  def __init__(self, dataset_dir, which_subset, img_generator=None, mask_generator=None, \n",
    "               preprocessing_function=None, out_shape=[256, 256], backward_step = 20):\n",
    "    if which_subset == 'training':\n",
    "      subset_file = os.path.join(dataset_dir, 'Splits', 'train.txt')\n",
    "    elif which_subset == 'validation':\n",
    "      subset_file = os.path.join(dataset_dir, 'Splits', 'val.txt')\n",
    "    \n",
    "    with open(subset_file, 'r') as f:\n",
    "      lines = f.readlines()\n",
    "    \n",
    "    subset_filenames = []\n",
    "    for line in lines:\n",
    "      subset_filenames.append(line.strip()) \n",
    "\n",
    "    self.which_subset = which_subset\n",
    "    self.dataset_dir = dataset_dir\n",
    "    self.subset_filenames = subset_filenames\n",
    "    self.img_generator = img_generator\n",
    "    self.mask_generator = mask_generator\n",
    "    self.preprocessing_function = preprocessing_function\n",
    "    self.out_shape = out_shape\n",
    "    self.backward_step = backward_step\n",
    "\n",
    "  def __len__(self):\n",
    "    return len(self.subset_filenames)\n",
    "\n",
    "  def __iter__(self):\n",
    "    \"\"\"Create a generator that iterate over the Sequence.\"\"\"\n",
    "    for item in (self[i] for i in range(len(self))):\n",
    "      # dir(item)\n",
    "      for j in range(len(item[0])):\n",
    "        yield item[0][j], item[1][j]\n",
    "\n",
    "  def __getitem__(self, index):\n",
    "    # Read Image\n",
    "    curr_filename = self.subset_filenames[index]\n",
    "    img = Image.open(os.path.join(self.dataset_dir, 'Images', curr_filename + '.jpg'))\n",
    "\n",
    "    # Resize image and mask\n",
    "    # img = img.resize(self.out_shape)\n",
    "    \n",
    "    img_arr = np.array(img)\n",
    "    mask_arr = read_rgb_mask(os.path.join(self.dataset_dir, 'Masks', curr_filename + '.png'), None)\n",
    "    # img_arr.shape()\n",
    "    # mask_arr.shape()\n",
    "\n",
    "    # in this dataset 255 mask label is assigned to an additional class, which corresponds \n",
    "    # to the contours of the objects. We remove it for simplicity.\n",
    "    mask_arr[mask_arr == 255] = 0  \n",
    "\n",
    "    mask_arr = np.expand_dims(mask_arr, -1)\n",
    "\n",
    "    if self.which_subset == 'training':\n",
    "      if self.img_generator is not None and self.mask_generator is not None:\n",
    "        # Perform data augmentation\n",
    "        # We can get a random transformation from the ImageDataGenerator using get_random_transform\n",
    "        # and we can apply it to the image using apply_transform\n",
    "        img_t = self.img_generator.get_random_transform(img_arr.shape, seed=SEED)\n",
    "        mask_t = self.mask_generator.get_random_transform(mask_arr.shape, seed=SEED)\n",
    "        img_arr = self.img_generator.apply_transform(img_arr, img_t)\n",
    "        # ImageDataGenerator use bilinear interpolation for augmenting the images.\n",
    "        # Thus, when applied to the masks it will output 'interpolated classes', which\n",
    "        # is an unwanted behaviour. As a trick, we can transform each class mask \n",
    "        # separately and then we can cast to integer values (as in the binary segmentation notebook).\n",
    "        # Finally, we merge the augmented binary masks to obtain the final segmentation mask.\n",
    "        out_mask = np.zeros_like(mask_arr)\n",
    "        for c in np.unique(mask_arr):\n",
    "          if c > 0:\n",
    "            curr_class_arr = np.float32(mask_arr == c)\n",
    "            curr_class_arr = self.mask_generator.apply_transform(curr_class_arr, mask_t)\n",
    "            # from [0, 1] to {0, 1}\n",
    "            curr_class_arr = np.uint8(curr_class_arr)\n",
    "            # recover original class\n",
    "            curr_class_arr = curr_class_arr * c \n",
    "            out_mask += curr_class_arr\n",
    "    else:\n",
    "      out_mask = mask_arr\n",
    "    \n",
    "    if self.preprocessing_function is not None:\n",
    "        img_arr = self.preprocessing_function(img_arr)\n",
    "    \n",
    "    img_arr = img_arr / 255\n",
    "\n",
    "    batch_img = []\n",
    "    batch_mask = []\n",
    "\n",
    "    curr_x = 0\n",
    "    curr_y = 0\n",
    "    source_width = img_arr.shape[1]\n",
    "    source_height = img_arr.shape[0]\n",
    "    out_width = self.out_shape[1]\n",
    "    out_height = self.out_shape[0]\n",
    "    # print(img_arr.shape)\n",
    "\n",
    "    while (curr_y < source_height):\n",
    "      curr_y = curr_y - self.backward_step\n",
    "      if (curr_y < 0):\n",
    "        curr_y = 0\n",
    "      if (curr_y + out_height > source_height):\n",
    "        curr_y = source_height - out_height\n",
    "      curr_x = 0\n",
    "      while (curr_x < source_width):\n",
    "        curr_x = curr_x - self.backward_step\n",
    "        if (curr_x < 0):\n",
    "          curr_x = 0\n",
    "        if (curr_x + out_width > source_width):\n",
    "          curr_x = source_width - out_width\n",
    "        curr_img_arr = img_arr[curr_y : curr_y+out_height, curr_x : curr_x+out_width]\n",
    "        curr_out_mask = out_mask[curr_y : curr_y+out_height, curr_x : curr_x+out_width]\n",
    "        # print(curr_img_arr.shape)\n",
    "        batch_img.append(curr_img_arr)\n",
    "        batch_mask.append(np.float32(curr_out_mask))\n",
    "        curr_x = curr_x + out_width\n",
    "        # yield curr_img_arr, curr_out_mask\n",
    "      curr_y = curr_y + out_height\n",
    "\n",
    "    return batch_img, batch_mask"
   ]
  },
  {
   "cell_type": "code",
   "execution_count": 10,
   "metadata": {
    "executionInfo": {
     "elapsed": 872,
     "status": "ok",
     "timestamp": 1608632858713,
     "user": {
      "displayName": "Irene Arroyo Delgado",
      "photoUrl": "https://lh3.googleusercontent.com/a-/AOh14GjE-g4v8K9YBYb5gwspoxjyt8F9k0xvUvG8NqP40qQ=s64",
      "userId": "16117914916042522232"
     },
     "user_tz": -60
    },
    "id": "TyrdiIh_PWjB"
   },
   "outputs": [],
   "source": [
    "from tensorflow.keras.applications.vgg16 import preprocess_input \n",
    "\n",
    "# Bipbip original size 2048 x 1536 [4:3]\n",
    "# Pead original size 3280 x 2464 [4:3]\n",
    "# Roseau original size 1227 x 820 [3:2]\n",
    "# Bipbip original size 5184 x 3456 [3:2]\n",
    "img_h = 704\n",
    "img_w = 704\n",
    "num_classes = 3\n",
    "\n",
    "\n",
    "dataset = CustomDataset(dest_training_dir, 'training', \n",
    "                        img_generator=img_data_gen, mask_generator=mask_data_gen,\n",
    "                        preprocessing_function=None, out_shape=[img_w,img_h])\n",
    "dataset_valid = CustomDataset(dest_training_dir, 'validation', \n",
    "                              preprocessing_function=None, out_shape=[img_w,img_h])\n"
   ]
  },
  {
   "cell_type": "code",
   "execution_count": 11,
   "metadata": {
    "executionInfo": {
     "elapsed": 7064,
     "status": "ok",
     "timestamp": 1608632866826,
     "user": {
      "displayName": "Irene Arroyo Delgado",
      "photoUrl": "https://lh3.googleusercontent.com/a-/AOh14GjE-g4v8K9YBYb5gwspoxjyt8F9k0xvUvG8NqP40qQ=s64",
      "userId": "16117914916042522232"
     },
     "user_tz": -60
    },
    "id": "usz5SKPeQrOE"
   },
   "outputs": [],
   "source": [
    "batch_size = 15\n",
    "\n",
    "train_dataset = tf.data.Dataset.from_generator(lambda: dataset,\n",
    "                                               output_types=(tf.float32, tf.float32),\n",
    "                                               output_shapes=([img_h, img_w, 3], [img_h, img_w, 1]))\n",
    "\n",
    "train_dataset = train_dataset.batch(batch_size)\n",
    "\n",
    "train_dataset = train_dataset.repeat()\n",
    "\n",
    "valid_dataset = tf.data.Dataset.from_generator(lambda: dataset_valid,\n",
    "                                               output_types=(tf.float32, tf.float32),\n",
    "                                               output_shapes=([img_h, img_w, 3], [img_h, img_w, 1]))\n",
    "valid_dataset = valid_dataset.batch(batch_size)\n",
    "\n",
    "valid_dataset = valid_dataset.repeat()"
   ]
  },
  {
   "cell_type": "code",
   "execution_count": 12,
   "metadata": {
    "executionInfo": {
     "elapsed": 3734,
     "status": "ok",
     "timestamp": 1608632866828,
     "user": {
      "displayName": "Irene Arroyo Delgado",
      "photoUrl": "https://lh3.googleusercontent.com/a-/AOh14GjE-g4v8K9YBYb5gwspoxjyt8F9k0xvUvG8NqP40qQ=s64",
      "userId": "16117914916042522232"
     },
     "user_tz": -60
    },
    "id": "HOBabUbmnFJE"
   },
   "outputs": [],
   "source": [
    "# Let's test data generator\n",
    "# -------------------------\n",
    "import time\n",
    "from matplotlib import cm\n",
    "import matplotlib.pyplot as plt\n",
    "\n",
    "%matplotlib inline\n",
    "\n",
    "# Assign a color to each class\n",
    "evenly_spaced_interval = np.linspace(0, 1, 20)\n",
    "colors = [cm.rainbow(x) for x in evenly_spaced_interval]\n",
    "\n",
    "iterator = iter(valid_dataset)"
   ]
  },
  {
   "cell_type": "code",
   "execution_count": 13,
   "metadata": {
    "colab": {
     "base_uri": "https://localhost:8080/",
     "height": 238
    },
    "executionInfo": {
     "elapsed": 3712,
     "status": "ok",
     "timestamp": 1608632873564,
     "user": {
      "displayName": "Irene Arroyo Delgado",
      "photoUrl": "https://lh3.googleusercontent.com/a-/AOh14GjE-g4v8K9YBYb5gwspoxjyt8F9k0xvUvG8NqP40qQ=s64",
      "userId": "16117914916042522232"
     },
     "user_tz": -60
    },
    "id": "9eunbPwWqPnB",
    "outputId": "89a9587e-8239-439e-ce11-e2dad4b26bed"
   },
   "outputs": [
    {
     "name": "stdout",
     "output_type": "stream",
     "text": [
      "[0. 1. 2.]\n"
     ]
    },
    {
     "data": {
      "text/plain": [
       "<matplotlib.image.AxesImage at 0x7f29c0392748>"
      ]
     },
     "execution_count": 13,
     "metadata": {
      "tags": []
     },
     "output_type": "execute_result"
    },
    {
     "data": {
      "text/plain": [
       "<matplotlib.image.AxesImage at 0x7f29c0446470>"
      ]
     },
     "execution_count": 13,
     "metadata": {
      "tags": []
     },
     "output_type": "execute_result"
    },
    {
     "data": {
      "image/png": "[encoded data removed]",
      "text/plain": [
       "<Figure size 432x288 with 2 Axes>"
      ]
     },
     "metadata": {
      "needs_background": "light",
      "tags": []
     },
     "output_type": "display_data"
    }
   ],
   "source": [
    "fig, ax = plt.subplots(1, 2)\n",
    "augmented_img, target = next(iterator)\n",
    "augmented_img = augmented_img[0]   # First element\n",
    "augmented_img = augmented_img  # denormalize\n",
    "augmented_img = augmented_img * 255\n",
    "target = np.array(target[0, ..., 0])   # First element (squeezing channel dimension)\n",
    "\n",
    "print(np.unique(target))\n",
    "\n",
    "target_img = np.zeros([target.shape[0], target.shape[1], 3])\n",
    "\n",
    "target_img[np.where(target == 0)] = [0, 0, 0]\n",
    "conv_colors = [[254, 124, 18], [255, 255, 255], [216, 67, 82]]\n",
    "for i in range(1, num_classes):\n",
    "  target_img[np.where(target == i)] = conv_colors[i]\n",
    "\n",
    "ax[0].imshow(np.uint8(augmented_img))\n",
    "ax[1].imshow(np.uint8(target_img))\n",
    "\n",
    "plt.show()\n",
    "\n",
    "# STRANGE SOURCE IMAGES ARE DUE TO VGG PREPROCESS_INPUT FUNCTION"
   ]
  },
  {
   "cell_type": "markdown",
   "metadata": {
    "id": "JA1TGlOMnFJM"
   },
   "source": [
    "\n",
    "# Encoder-Decoder\n",
    "\n",
    "Classical encoder-decoder network"
   ]
  },
  {
   "cell_type": "code",
   "execution_count": 14,
   "metadata": {
    "executionInfo": {
     "elapsed": 1053,
     "status": "ok",
     "timestamp": 1608632873974,
     "user": {
      "displayName": "Irene Arroyo Delgado",
      "photoUrl": "https://lh3.googleusercontent.com/a-/AOh14GjE-g4v8K9YBYb5gwspoxjyt8F9k0xvUvG8NqP40qQ=s64",
      "userId": "16117914916042522232"
     },
     "user_tz": -60
    },
    "id": "oFSGjQBow2Lm"
   },
   "outputs": [],
   "source": [
    "# Create Model\n",
    "# ------------\n",
    "\n",
    "def create_model(depth, start_f, num_classes,dynamic_input_shape):\n",
    "\n",
    "    model = tf.keras.Sequential()\n",
    "    \n",
    "    # Encoder\n",
    "    # -------\n",
    "    for i in range(depth):\n",
    "        \n",
    "        if i == 0:\n",
    "            if dynamic_input_shape:\n",
    "                input_shape = [None, None, 3]\n",
    "            else:\n",
    "                input_shape = [img_h, img_w, 3]\n",
    "        else:\n",
    "            input_shape=[None]\n",
    "        \n",
    "        model.add(tf.keras.layers.Conv2D(filters=start_f, \n",
    "                                         kernel_size=(3, 3),\n",
    "                                         strides=(1, 1),\n",
    "                                         padding='same',\n",
    "                                         input_shape=input_shape))\n",
    "        model.add(tf.keras.layers.ReLU())\n",
    "        model.add(tf.keras.layers.MaxPool2D(pool_size=(2, 2)))\n",
    "\n",
    "        start_f *= 2\n",
    "\n",
    "    # Bottleneck\n",
    "    model.add(tf.keras.layers.Conv2D(filters=start_f, kernel_size=(3, 3), strides=(1, 1), padding='same'))\n",
    "    model.add(tf.keras.layers.ReLU())\n",
    "    \n",
    "    start_f = start_f // 2\n",
    "        \n",
    "    # Decoder\n",
    "    # -------\n",
    "    for i in range(depth):\n",
    "        model.add(tf.keras.layers.UpSampling2D(2, interpolation='bilinear'))\n",
    "        model.add(tf.keras.layers.Conv2D(filters=start_f,\n",
    "                                         kernel_size=(3, 3),\n",
    "                                         strides=(1, 1),\n",
    "                                         padding='same'))\n",
    "        model.add(tf.keras.layers.ReLU())\n",
    "\n",
    "        start_f = start_f // 2\n",
    "\n",
    "    # Prediction Layer\n",
    "    # ----------------\n",
    "    model.add(tf.keras.layers.Conv2D(filters=num_classes,\n",
    "                                     kernel_size=(1, 1),\n",
    "                                     strides=(1, 1),\n",
    "                                     padding='same',\n",
    "                                     activation='softmax'))\n",
    "    \n",
    "    return model"
   ]
  },
  {
   "cell_type": "code",
   "execution_count": 15,
   "metadata": {
    "colab": {
     "base_uri": "https://localhost:8080/"
    },
    "executionInfo": {
     "elapsed": 1123,
     "status": "ok",
     "timestamp": 1608632897418,
     "user": {
      "displayName": "Irene Arroyo Delgado",
      "photoUrl": "https://lh3.googleusercontent.com/a-/AOh14GjE-g4v8K9YBYb5gwspoxjyt8F9k0xvUvG8NqP40qQ=s64",
      "userId": "16117914916042522232"
     },
     "user_tz": -60
    },
    "id": "yP3VZ5XCw7dL",
    "outputId": "a6f09cd8-45b9-4d4a-d535-5e63139dd90f"
   },
   "outputs": [
    {
     "name": "stdout",
     "output_type": "stream",
     "text": [
      "Model: \"sequential\"\n",
      "_________________________________________________________________\n",
      "Layer (type)                 Output Shape              Param #   \n",
      "=================================================================\n",
      "conv2d (Conv2D)              (None, 704, 704, 16)      448       \n",
      "_________________________________________________________________\n",
      "re_lu (ReLU)                 (None, 704, 704, 16)      0         \n",
      "_________________________________________________________________\n",
      "max_pooling2d (MaxPooling2D) (None, 352, 352, 16)      0         \n",
      "_________________________________________________________________\n",
      "conv2d_1 (Conv2D)            (None, 352, 352, 32)      4640      \n",
      "_________________________________________________________________\n",
      "re_lu_1 (ReLU)               (None, 352, 352, 32)      0         \n",
      "_________________________________________________________________\n",
      "max_pooling2d_1 (MaxPooling2 (None, 176, 176, 32)      0         \n",
      "_________________________________________________________________\n",
      "conv2d_2 (Conv2D)            (None, 176, 176, 64)      18496     \n",
      "_________________________________________________________________\n",
      "re_lu_2 (ReLU)               (None, 176, 176, 64)      0         \n",
      "_________________________________________________________________\n",
      "max_pooling2d_2 (MaxPooling2 (None, 88, 88, 64)        0         \n",
      "_________________________________________________________________\n",
      "conv2d_3 (Conv2D)            (None, 88, 88, 128)       73856     \n",
      "_________________________________________________________________\n",
      "re_lu_3 (ReLU)               (None, 88, 88, 128)       0         \n",
      "_________________________________________________________________\n",
      "max_pooling2d_3 (MaxPooling2 (None, 44, 44, 128)       0         \n",
      "_________________________________________________________________\n",
      "conv2d_4 (Conv2D)            (None, 44, 44, 256)       295168    \n",
      "_________________________________________________________________\n",
      "re_lu_4 (ReLU)               (None, 44, 44, 256)       0         \n",
      "_________________________________________________________________\n",
      "max_pooling2d_4 (MaxPooling2 (None, 22, 22, 256)       0         \n",
      "_________________________________________________________________\n",
      "conv2d_5 (Conv2D)            (None, 22, 22, 512)       1180160   \n",
      "_________________________________________________________________\n",
      "re_lu_5 (ReLU)               (None, 22, 22, 512)       0         \n",
      "_________________________________________________________________\n",
      "up_sampling2d (UpSampling2D) (None, 44, 44, 512)       0         \n",
      "_________________________________________________________________\n",
      "conv2d_6 (Conv2D)            (None, 44, 44, 256)       1179904   \n",
      "_________________________________________________________________\n",
      "re_lu_6 (ReLU)               (None, 44, 44, 256)       0         \n",
      "_________________________________________________________________\n",
      "up_sampling2d_1 (UpSampling2 (None, 88, 88, 256)       0         \n",
      "_________________________________________________________________\n",
      "conv2d_7 (Conv2D)            (None, 88, 88, 128)       295040    \n",
      "_________________________________________________________________\n",
      "re_lu_7 (ReLU)               (None, 88, 88, 128)       0         \n",
      "_________________________________________________________________\n",
      "up_sampling2d_2 (UpSampling2 (None, 176, 176, 128)     0         \n",
      "_________________________________________________________________\n",
      "conv2d_8 (Conv2D)            (None, 176, 176, 64)      73792     \n",
      "_________________________________________________________________\n",
      "re_lu_8 (ReLU)               (None, 176, 176, 64)      0         \n",
      "_________________________________________________________________\n",
      "up_sampling2d_3 (UpSampling2 (None, 352, 352, 64)      0         \n",
      "_________________________________________________________________\n",
      "conv2d_9 (Conv2D)            (None, 352, 352, 32)      18464     \n",
      "_________________________________________________________________\n",
      "re_lu_9 (ReLU)               (None, 352, 352, 32)      0         \n",
      "_________________________________________________________________\n",
      "up_sampling2d_4 (UpSampling2 (None, 704, 704, 32)      0         \n",
      "_________________________________________________________________\n",
      "conv2d_10 (Conv2D)           (None, 704, 704, 16)      4624      \n",
      "_________________________________________________________________\n",
      "re_lu_10 (ReLU)              (None, 704, 704, 16)      0         \n",
      "_________________________________________________________________\n",
      "conv2d_11 (Conv2D)           (None, 704, 704, 3)       51        \n",
      "=================================================================\n",
      "Total params: 3,144,643\n",
      "Trainable params: 3,144,643\n",
      "Non-trainable params: 0\n",
      "_________________________________________________________________\n"
     ]
    }
   ],
   "source": [
    "model = create_model(depth=5, \n",
    "                     start_f=16, \n",
    "                     num_classes=num_classes,\n",
    "                     dynamic_input_shape=False)\n",
    "\n",
    "# Visualize created model as a table\n",
    "model.summary()"
   ]
  },
  {
   "cell_type": "markdown",
   "metadata": {
    "id": "NGzh16WTnFJW"
   },
   "source": [
    "## Prepare the model for training"
   ]
  },
  {
   "cell_type": "code",
   "execution_count": 16,
   "metadata": {
    "executionInfo": {
     "elapsed": 635,
     "status": "ok",
     "timestamp": 1608632903203,
     "user": {
      "displayName": "Irene Arroyo Delgado",
      "photoUrl": "https://lh3.googleusercontent.com/a-/AOh14GjE-g4v8K9YBYb5gwspoxjyt8F9k0xvUvG8NqP40qQ=s64",
      "userId": "16117914916042522232"
     },
     "user_tz": -60
    },
    "id": "9MlmYGVMnFJW"
   },
   "outputs": [],
   "source": [
    "# Optimization params\n",
    "# -------------------\n",
    "\n",
    "# Loss\n",
    "# Sparse Categorical Crossentropy to use integers (mask) instead of one-hot encoded labels\n",
    "loss = tf.keras.losses.SparseCategoricalCrossentropy() \n",
    "# learning rate\n",
    "lr = 1e-4\n",
    "optimizer = tf.keras.optimizers.Adam(learning_rate=lr)\n",
    "# -------------------\n",
    "\n",
    "# Here we define the intersection over union for each class in the batch.\n",
    "# Then we compute the final iou as the mean over classes\n",
    "def meanIoU(y_true, y_pred):\n",
    "    # get predicted class from softmax\n",
    "    y_pred = tf.expand_dims(tf.argmax(y_pred, -1), -1)\n",
    "\n",
    "    per_class_iou = []\n",
    "\n",
    "    for i in range(1,num_classes): # exclude the background class 0\n",
    "      # Get prediction and target related to only a single class (i)\n",
    "      class_pred = tf.cast(tf.where(y_pred == i, 1, 0), tf.float32)\n",
    "      class_true = tf.cast(tf.where(y_true == i, 1, 0), tf.float32)\n",
    "      intersection = tf.reduce_sum(class_true * class_pred)\n",
    "      union = tf.reduce_sum(class_true) + tf.reduce_sum(class_pred) - intersection\n",
    "    \n",
    "      iou = (intersection + 1e-7) / (union + 1e-7)\n",
    "      per_class_iou.append(iou)\n",
    "\n",
    "    return tf.reduce_mean(per_class_iou)\n",
    "\n",
    "# Validation metrics\n",
    "# ------------------\n",
    "metrics = ['accuracy', meanIoU]\n",
    "# ------------------\n",
    "\n",
    "# Compile Model\n",
    "model.compile(optimizer=optimizer, loss=loss, metrics=metrics)"
   ]
  },
  {
   "cell_type": "markdown",
   "metadata": {
    "id": "PA6D_TBknFJZ"
   },
   "source": [
    "## Training with callbacks"
   ]
  },
  {
   "cell_type": "code",
   "execution_count": null,
   "metadata": {
    "colab": {
     "base_uri": "https://localhost:8080/"
    },
    "id": "3XiwaKZhnFJa",
    "outputId": "c36976fe-9dee-4aec-fb04-332df7a2c0d9",
    "scrolled": true
   },
   "outputs": [
    {
     "name": "stdout",
     "output_type": "stream",
     "text": [
      "Epoch 1/70\n",
      "116/162 [====================>.........] - ETA: 3:05 - loss: 0.6727 - accuracy: 0.7316 - meanIoU: 0.0034"
     ]
    }
   ],
   "source": [
    "import os\n",
    "from datetime import datetime\n",
    "\n",
    "cwd = os.getcwd()\n",
    "\n",
    "exps_dir = os.path.join(cwd, 'drive/My Drive/Keras4/', 'multiclass_segmentation_experiments')\n",
    "if not os.path.exists(exps_dir):\n",
    "    os.makedirs(exps_dir)\n",
    "\n",
    "now = datetime.now().strftime('%b%d_%H-%M-%S')\n",
    "\n",
    "model_name = 'CNN'\n",
    "\n",
    "exp_dir = os.path.join(exps_dir, model_name + '_' + str(now))\n",
    "if not os.path.exists(exp_dir):\n",
    "    os.makedirs(exp_dir)\n",
    "    \n",
    "callbacks = []\n",
    "\n",
    "# Model checkpoint\n",
    "# ----------------\n",
    "# ckpt_dir = os.path.join(exp_dir, 'ckpts')\n",
    "# if not os.path.exists(ckpt_dir):\n",
    "#     os.makedirs(ckpt_dir)\n",
    "\n",
    "# ckpt_callback = tf.keras.callbacks.ModelCheckpoint(filepath=os.path.join(ckpt_dir, 'cp_{epoch:02d}.ckpt'), \n",
    "#                                                    save_weights_only=True)  # False to save the model directly\n",
    "# callbacks.append(ckpt_callback)\n",
    "\n",
    "# Visualize Learning on Tensorboard\n",
    "# ---------------------------------\n",
    "tb_dir = os.path.join(exp_dir, 'tb_logs')\n",
    "if not os.path.exists(tb_dir):\n",
    "    os.makedirs(tb_dir)\n",
    "    \n",
    "# By default shows losses and metrics for both training and validation\n",
    "tb_callback = tf.keras.callbacks.TensorBoard(log_dir=tb_dir,\n",
    "                                             profile_batch=0,\n",
    "                                             histogram_freq=0)  # if 1 shows weights histograms\n",
    "callbacks.append(tb_callback)\n",
    "\n",
    "# Early Stopping\n",
    "# --------------\n",
    "early_stop = True\n",
    "if early_stop:\n",
    "    es_callback = tf.keras.callbacks.EarlyStopping(monitor='val_meanIoU', patience=3, mode=\"max\")\n",
    "    callbacks.append(es_callback)\n",
    "\n",
    "\n",
    "model.fit(x=train_dataset,\n",
    "          epochs=70,  #### set repeat in training dataset\n",
    "          steps_per_epoch=len(dataset),\n",
    "          validation_data=valid_dataset,\n",
    "          validation_steps=len(dataset_valid), \n",
    "          callbacks=callbacks)\n"
   ]
  },
  {
   "cell_type": "markdown",
   "metadata": {
    "id": "EZ1Yl-InnFJd"
   },
   "source": [
    "## Test model"
   ]
  },
  {
   "cell_type": "markdown",
   "metadata": {
    "id": "WuVw1q_NnFJh"
   },
   "source": [
    "## Compute prediction"
   ]
  },
  {
   "cell_type": "code",
   "execution_count": null,
   "metadata": {
    "id": "zo1JbCO5nFJh"
   },
   "outputs": [],
   "source": [
    "import time\n",
    "import matplotlib.pyplot as plt\n",
    "\n",
    "from PIL import Image\n",
    "\n",
    "%matplotlib inline"
   ]
  },
  {
   "cell_type": "code",
   "execution_count": null,
   "metadata": {
    "id": "FMUzvchLyloH"
   },
   "outputs": [],
   "source": [
    "def rle_encode(img):\n",
    "    '''\n",
    "    img: numpy array, 1 - foreground, 0 - background\n",
    "    Returns run length as string formatted\n",
    "    '''\n",
    "    pixels = img.flatten()\n",
    "    pixels = np.concatenate([[0], pixels, [0]])\n",
    "    runs = np.where(pixels[1:] != pixels[:-1])[0] + 1\n",
    "    runs[1::2] -= runs[::2]\n",
    "    return ' '.join(str(x) for x in runs)\n",
    "\n",
    "def rle_decode(rle, shape):\n",
    "    s = rle.split()\n",
    "    starts, lengths = [np.asarray(x, dtype=int) for x in (s[0:][::2], s[1:][::2])]\n",
    "    starts -= 1\n",
    "    ends = starts + lengths\n",
    "    img = np.zeros(shape[0]*shape[1], dtype=np.uint8)\n",
    "    for lo, hi in zip(starts, ends):\n",
    "        img[lo:hi] = 1\n",
    "    return img.reshape(shape)\n",
    "\n",
    "class TestDataset(tf.keras.utils.Sequence):\n",
    "\n",
    "  \"\"\"\n",
    "    CustomDataset inheriting from tf.keras.utils.Sequence.\n",
    "\n",
    "    3 main methods:\n",
    "      - __init__: save dataset params like directory, filenames..\n",
    "      - __len__: return the total number of samples in the dataset\n",
    "      - __getitem__: return a sample from the dataset\n",
    "\n",
    "    Note: \n",
    "      - the custom dataset return a single sample from the dataset. Then, we use \n",
    "        a tf.data.Dataset object to group samples into batches.\n",
    "      - in this case we have a different structure of the dataset in memory. \n",
    "        We have all the images in the same folder and the training and validation splits\n",
    "        are defined in text files.\n",
    "\n",
    "  \"\"\"\n",
    "  # orig_shape = (width, height)\n",
    "  def __init__(self, orig_dataset_dir, teams, crops, preprocessing_function=None, orig_shape=[256,256], backward_step = 20):\n",
    "    total = 0\n",
    "    for team in teams:\n",
    "      for crop in crops:\n",
    "        curr_dir = os.path.join(orig_dataset_dir, 'Test_Dev', team, crop, 'Images')\n",
    "        total += len(os.listdir(curr_dir))\n",
    "\n",
    "    print(orig_dataset_dir)\n",
    "    print(total)\n",
    "    self.length = total\n",
    "    self.orig_dataset_dir = orig_dataset_dir\n",
    "    self.teams = teams\n",
    "    self.crops = crops\n",
    "    self.preprocessing_function = preprocessing_function\n",
    "    self.orig_shape = orig_shape\n",
    "    self.backward_step = backward_step\n",
    "    # self.out_shape = out_shape\n",
    "\n",
    "  def __len__(self):\n",
    "    return self.length\n",
    "\n",
    "  def __getInfo__(self,index):\n",
    "    curr_index = 0\n",
    "    for team in self.teams:\n",
    "      for crop in self.crops:\n",
    "        curr_dir_files = os.path.join(self.orig_dataset_dir, 'Test_Dev', team, crop, 'Images')\n",
    "        # print(curr_dir_files)\n",
    "        for curr_file in os.listdir(curr_dir_files):\n",
    "          if (curr_index == index):\n",
    "            curr_team = team\n",
    "            curr_crop = crop\n",
    "            curr_filename = curr_file\n",
    "          curr_index += 1\n",
    "\n",
    "    if (curr_team == 'Bipbip'):\n",
    "      curr_out_shape = [1536,2048]\n",
    "    elif (curr_team == 'Roseau'):\n",
    "      curr_out_shape = [820,1227]\n",
    "    elif (curr_team == 'Pead'):\n",
    "      curr_out_shape = [2464,3280]\n",
    "    elif (curr_team == 'Weedelec'):\n",
    "      curr_out_shape = [3456,5184]\n",
    "\n",
    "    return curr_filename, curr_team, curr_crop, curr_out_shape\n",
    "\n",
    "  def __iter__(self):\n",
    "    \"\"\"Create a generator that iterate over the Sequence.\"\"\"\n",
    "    for item in (self[i] for i in range(len(self))):\n",
    "      # dir(item)\n",
    "      for j in range(len(item[0])):\n",
    "        yield item[0][j], item[1][j]\n",
    "\n",
    "  def __getoriginal__(self,index):\n",
    "    curr_index = 0\n",
    "    for team in self.teams:\n",
    "      for crop in self.crops:\n",
    "        curr_dir_files = os.path.join(self.orig_dataset_dir, 'Test_Dev', team, crop, 'Images')\n",
    "        # print(curr_dir_files)\n",
    "        for curr_file in os.listdir(curr_dir_files):\n",
    "          if (curr_index == index):\n",
    "            curr_team = team\n",
    "            curr_crop = crop\n",
    "            curr_filename = curr_file\n",
    "          curr_index += 1\n",
    "    \n",
    "    img = Image.open(os.path.join(self.orig_dataset_dir, 'Test_Dev', curr_team, curr_crop, 'Images', curr_filename))\n",
    "    img_arr = np.array(img)\n",
    "\n",
    "    return img\n",
    "\n",
    "  def __getitem__(self, index):\n",
    "    # Read Image\n",
    "    # print(self.orig_dataset_dir)\n",
    "    curr_index = 0\n",
    "    for team in self.teams:\n",
    "      for crop in self.crops:\n",
    "        curr_dir_files = os.path.join(self.orig_dataset_dir, 'Test_Dev', team, crop, 'Images')\n",
    "        # print(curr_dir_files)\n",
    "        for curr_file in os.listdir(curr_dir_files):\n",
    "          if (curr_index == index):\n",
    "            curr_team = team\n",
    "            curr_crop = crop\n",
    "            curr_filename = curr_file\n",
    "          curr_index += 1\n",
    "\n",
    "    # print(os.path.join(self.orig_dataset_dir, 'Test_Dev', curr_team, curr_crop, 'Images', curr_filename))\n",
    "    # curr_filename = self.subset_filenames[index]\n",
    "    img = Image.open(os.path.join(self.orig_dataset_dir, 'Test_Dev', curr_team, curr_crop, 'Images', curr_filename))\n",
    "\n",
    "    # Resize image and mask\n",
    "    # img = img.resize(self.orig_shape)\n",
    "    \n",
    "    img_arr = np.array(img)\n",
    "    # Shape as (height, width, depth = 1)\n",
    "    target_zero = np.zeros((self.orig_shape[1], self.orig_shape[0], 1))\n",
    "    \n",
    "    if self.preprocessing_function is not None:\n",
    "        img_arr = self.preprocessing_function(img_arr)\n",
    "    \n",
    "    img_arr = img_arr / 255\n",
    "\n",
    "    batch_img = []\n",
    "    batch_mask = []\n",
    "\n",
    "    curr_x = 0\n",
    "    curr_y = 0\n",
    "    source_width = img_arr.shape[1]\n",
    "    source_height = img_arr.shape[0]\n",
    "    out_width = self.orig_shape[1]\n",
    "    out_height = self.orig_shape[0]\n",
    "    # print(img_arr.shape)\n",
    "\n",
    "    while (curr_y < source_height):\n",
    "      curr_y = curr_y - self.backward_step\n",
    "      if (curr_y < 0):\n",
    "        curr_y = 0\n",
    "      if (curr_y + out_height > source_height):\n",
    "        curr_y = source_height - out_height\n",
    "      curr_x = 0\n",
    "      while (curr_x < source_width):\n",
    "        curr_x = curr_x - self.backward_step\n",
    "        if (curr_x < 0):\n",
    "          curr_x = 0\n",
    "        if (curr_x + out_width > source_width):\n",
    "          curr_x = source_width - out_width\n",
    "        curr_img_arr = img_arr[curr_y : curr_y+out_height, curr_x : curr_x+out_width]\n",
    "        batch_img.append(curr_img_arr)\n",
    "        batch_mask.append(np.float32(target_zero))\n",
    "        curr_x = curr_x + out_width\n",
    "\n",
    "      curr_y = curr_y + out_height\n",
    "\n",
    "    return batch_img, batch_mask\n",
    "\n",
    "  def __rebuildoriginal__(self, index, patch_predictions):\n",
    "    current_info = self.__getInfo__(index)\n",
    "    original_shape = current_info[3]\n",
    "    curr_x = self.backward_step\n",
    "    curr_y = 0\n",
    "    source_width = original_shape[1]\n",
    "    source_height = original_shape[0]\n",
    "    out_width = self.orig_shape[1]\n",
    "    out_height = self.orig_shape[0]\n",
    "    out_mask = np.zeros((source_height, source_width),dtype=int)\n",
    "\n",
    "    # out_mask = (source_height, source_width, 3)\n",
    "    # print(img_arr.shape)\n",
    "    backward_y = self.backward_step\n",
    "    curr_index = 0\n",
    "    for patch_arr in patch_predictions:\n",
    "      # print(curr_index)\n",
    "      patch_arr = np.array(patch_arr)\n",
    "      prev_x_arrival = curr_x\n",
    "      curr_x = curr_x - self.backward_step\n",
    "      backward_x = self.backward_step\n",
    "      if (curr_x + out_width > source_width):\n",
    "        curr_x = source_width - out_width\n",
    "        backward_x = prev_x_arrival - curr_x\n",
    "\n",
    "      if (curr_x > 0):    # Overlap x regions copy highest class\n",
    "          for x in range(backward_x):\n",
    "            for y in range(out_height):\n",
    "              curr_pixel_prediction = out_mask[curr_y + y, curr_x + x]\n",
    "              new_pixel_prediction = patch_arr[y,x]\n",
    "              if (new_pixel_prediction != curr_pixel_prediction):\n",
    "                if (new_pixel_prediction == 1):  # If it's crop then maintain that\n",
    "                  out_mask[curr_y + y, curr_x + x] = new_pixel_prediction\n",
    "                elif ((new_pixel_prediction == 2) & (curr_pixel_prediction != 1)):\n",
    "                  out_mask[curr_y + y, curr_x + x] = new_pixel_prediction\n",
    "      else:\n",
    "        for x in range(self.backward_step):\n",
    "          for y in range(out_height):\n",
    "            out_mask[curr_y + y, curr_x + x] = patch_arr[y, x]           # Copy backward_x region if x=0\n",
    "\n",
    "\n",
    "      if (curr_y > 0):    # Overlap y regions copy highest class\n",
    "          for y in range(backward_y):     \n",
    "            for x in range(out_width):\n",
    "              curr_pixel_prediction = out_mask[curr_y + y, curr_x + x]\n",
    "              new_pixel_prediction = patch_arr[y,x]\n",
    "              if (new_pixel_prediction != curr_pixel_prediction):\n",
    "                if (new_pixel_prediction == 1):  # If it's crop then maintain that\n",
    "                  out_mask[curr_y + y, curr_x + x] = new_pixel_prediction\n",
    "                elif (new_pixel_prediction == 2 & curr_pixel_prediction != 1):\n",
    "                  out_mask[curr_y + y, curr_x + x] = new_pixel_prediction\n",
    "      else:\n",
    "        for y in range(self.backward_step):\n",
    "          for x in range(out_width):\n",
    "            out_mask[curr_y + y, curr_x + x] = patch_arr[y, x]\n",
    "        # out_mask[:self.backward_step, curr_x : curr_x+out_width] = patch_arr[:self.backward_step, 0:out_width]  # Copy backward_y region if y=0\n",
    "\n",
    "      # Copy remaining area\n",
    "      for y in range(backward_y, out_height):\n",
    "          for x in range(backward_x, out_width):\n",
    "            out_mask[curr_y + y, curr_x + x] = patch_arr[y, x]\n",
    "      # out_mask[curr_y + backward_y:, curr_x + backward_x:] = patch_arr[backward_y:, backward_x:]\n",
    "\n",
    "      curr_x = curr_x + out_width\n",
    "      if (curr_x == source_width):\n",
    "        curr_x = self.backward_step\n",
    "        prev_y_arrival = curr_y + out_height\n",
    "        curr_y = curr_y + out_height - self.backward_step\n",
    "        backward_y = self.backward_step\n",
    "        if (curr_y + out_height > source_height):\n",
    "          curr_y = source_height - out_height\n",
    "          backward_y = prev_y_arrival - curr_y\n",
    "      # print(curr_x)\n",
    "      curr_index += 1\n",
    "      # print(curr_y)\n",
    "    return out_mask    \n",
    "  "
   ]
  },
  {
   "cell_type": "code",
   "execution_count": null,
   "metadata": {
    "colab": {
     "base_uri": "https://localhost:8080/"
    },
    "executionInfo": {
     "elapsed": 5051,
     "status": "ok",
     "timestamp": 1607788100785,
     "user": {
      "displayName": "Irene Arroyo Delgado",
      "photoUrl": "https://lh3.googleusercontent.com/a-/AOh14GjE-g4v8K9YBYb5gwspoxjyt8F9k0xvUvG8NqP40qQ=s64",
      "userId": "16117914916042522232"
     },
     "user_tz": -60
    },
    "id": "96lQL2f994Pn",
    "outputId": "f6d00c5c-d2fa-4f58-c005-056b212bf12b"
   },
   "outputs": [
    {
     "name": "stdout",
     "output_type": "stream",
     "text": [
      "/content/drive/My Drive/Development_Dataset\n",
      "120\n"
     ]
    }
   ],
   "source": [
    "orig_w = img_w       # 2048\n",
    "orig_h = img_h       # 1536\n",
    "dataset_test = TestDataset(orig_dataset_dir=original_dataset_dir, teams=['Bipbip','Pead','Roseau','Weedelec'], crops=['Haricot','Mais'], orig_shape=[orig_w,orig_h], backward_step=20)\n",
    "\n",
    "test_dataset = tf.data.Dataset.from_generator(lambda: dataset_test,\n",
    "                                               output_types=(tf.float32, tf.float32),\n",
    "                                               output_shapes=([orig_h, orig_w, 3], [orig_h, orig_w, 1]))\n",
    "test_dataset = test_dataset.batch(1)\n",
    "\n",
    "# test_dataset = test_dataset.repeat()\n"
   ]
  },
  {
   "cell_type": "code",
   "execution_count": null,
   "metadata": {
    "colab": {
     "base_uri": "https://localhost:8080/"
    },
    "executionInfo": {
     "elapsed": 650095,
     "status": "ok",
     "timestamp": 1607788750883,
     "user": {
      "displayName": "Irene Arroyo Delgado",
      "photoUrl": "https://lh3.googleusercontent.com/a-/AOh14GjE-g4v8K9YBYb5gwspoxjyt8F9k0xvUvG8NqP40qQ=s64",
      "userId": "16117914916042522232"
     },
     "user_tz": -60
    },
    "id": "7uLQBRSnszOQ",
    "outputId": "fff4c24d-bd9d-4b69-f0b0-2d1b1c0d9b9f"
   },
   "outputs": [
    {
     "name": "stdout",
     "output_type": "stream",
     "text": [
      "0\n",
      "(1536, 2048)\n",
      "1\n",
      "(1536, 2048)\n",
      "2\n",
      "(1536, 2048)\n",
      "3\n",
      "(1536, 2048)\n",
      "4\n",
      "(1536, 2048)\n",
      "5\n",
      "(1536, 2048)\n",
      "6\n",
      "(1536, 2048)\n",
      "7\n",
      "(1536, 2048)\n",
      "8\n",
      "(1536, 2048)\n",
      "9\n",
      "(1536, 2048)\n",
      "10\n",
      "(1536, 2048)\n",
      "11\n",
      "(1536, 2048)\n",
      "12\n",
      "(1536, 2048)\n",
      "13\n",
      "(1536, 2048)\n",
      "14\n",
      "(1536, 2048)\n",
      "15\n",
      "(1536, 2048)\n",
      "16\n",
      "(1536, 2048)\n",
      "17\n",
      "(1536, 2048)\n",
      "18\n",
      "(1536, 2048)\n",
      "19\n",
      "(1536, 2048)\n",
      "20\n",
      "(1536, 2048)\n",
      "21\n",
      "(1536, 2048)\n",
      "22\n",
      "(1536, 2048)\n",
      "23\n",
      "(1536, 2048)\n",
      "24\n",
      "(1536, 2048)\n",
      "25\n",
      "(1536, 2048)\n",
      "26\n",
      "(1536, 2048)\n",
      "27\n",
      "(1536, 2048)\n",
      "28\n",
      "(1536, 2048)\n",
      "29\n",
      "(1536, 2048)\n",
      "30\n",
      "(2464, 3280)\n",
      "31\n",
      "(2464, 3280)\n",
      "32\n",
      "(2464, 3280)\n",
      "33\n",
      "(2464, 3280)\n",
      "34\n",
      "(2464, 3280)\n",
      "35\n",
      "(2464, 3280)\n",
      "36\n",
      "(2464, 3280)\n",
      "37\n",
      "(2464, 3280)\n",
      "38\n",
      "(2464, 3280)\n",
      "39\n",
      "(2464, 3280)\n",
      "40\n",
      "(2464, 3280)\n",
      "41\n",
      "(2464, 3280)\n",
      "42\n",
      "(2464, 3280)\n",
      "43\n",
      "(2464, 3280)\n",
      "44\n",
      "(2464, 3280)\n",
      "45\n",
      "(2464, 3280)\n",
      "46\n",
      "(2464, 3280)\n",
      "47\n",
      "(2464, 3280)\n",
      "48\n",
      "(2464, 3280)\n",
      "49\n",
      "(2464, 3280)\n",
      "50\n",
      "(2464, 3280)\n",
      "51\n",
      "(2464, 3280)\n",
      "52\n",
      "(2464, 3280)\n",
      "53\n",
      "(2464, 3280)\n",
      "54\n",
      "(2464, 3280)\n",
      "55\n",
      "(2464, 3280)\n",
      "56\n",
      "(2464, 3280)\n",
      "57\n",
      "(2464, 3280)\n",
      "58\n",
      "(2464, 3280)\n",
      "59\n",
      "(2464, 3280)\n",
      "60\n",
      "(820, 1227)\n",
      "61\n",
      "(820, 1227)\n",
      "62\n",
      "(820, 1227)\n",
      "63\n",
      "(820, 1227)\n",
      "64\n",
      "(820, 1227)\n",
      "65\n",
      "(820, 1227)\n",
      "66\n",
      "(820, 1227)\n",
      "67\n",
      "(820, 1227)\n",
      "68\n",
      "(820, 1227)\n",
      "69\n",
      "(820, 1227)\n",
      "70\n",
      "(820, 1227)\n",
      "71\n",
      "(820, 1227)\n",
      "72\n",
      "(820, 1227)\n",
      "73\n",
      "(820, 1227)\n",
      "74\n",
      "(820, 1227)\n",
      "75\n",
      "(820, 1227)\n",
      "76\n",
      "(820, 1227)\n",
      "77\n",
      "(820, 1227)\n",
      "78\n",
      "(820, 1227)\n",
      "79\n",
      "(820, 1227)\n",
      "80\n",
      "(820, 1227)\n",
      "81\n",
      "(820, 1227)\n",
      "82\n",
      "(820, 1227)\n",
      "83\n",
      "(820, 1227)\n",
      "84\n",
      "(820, 1227)\n",
      "85\n",
      "(820, 1227)\n",
      "86\n",
      "(820, 1227)\n",
      "87\n",
      "(820, 1227)\n",
      "88\n",
      "(820, 1227)\n",
      "89\n",
      "(820, 1227)\n",
      "90\n",
      "(3456, 5184)\n",
      "91\n",
      "(3456, 5184)\n",
      "92\n",
      "(3456, 5184)\n",
      "93\n",
      "(3456, 5184)\n",
      "94\n",
      "(3456, 5184)\n",
      "95\n",
      "(3456, 5184)\n",
      "96\n",
      "(3456, 5184)\n",
      "97\n",
      "(3456, 5184)\n",
      "98\n",
      "(3456, 5184)\n",
      "99\n",
      "(3456, 5184)\n",
      "100\n",
      "(3456, 5184)\n",
      "101\n",
      "(3456, 5184)\n",
      "102\n",
      "(3456, 5184)\n",
      "103\n",
      "(3456, 5184)\n",
      "104\n",
      "(3456, 5184)\n",
      "105\n",
      "(3456, 5184)\n",
      "106\n",
      "(3456, 5184)\n",
      "107\n",
      "(3456, 5184)\n",
      "108\n",
      "(3456, 5184)\n",
      "109\n",
      "(3456, 5184)\n",
      "110\n",
      "(3456, 5184)\n",
      "111\n",
      "(3456, 5184)\n",
      "112\n",
      "(3456, 5184)\n",
      "113\n",
      "(3456, 5184)\n",
      "114\n",
      "(3456, 5184)\n",
      "115\n",
      "(3456, 5184)\n",
      "116\n",
      "(3456, 5184)\n",
      "117\n",
      "(3456, 5184)\n",
      "118\n",
      "(3456, 5184)\n",
      "119\n",
      "(3456, 5184)\n"
     ]
    }
   ],
   "source": [
    "from datetime import datetime\n",
    "import json\n",
    "\n",
    "curr_index = 0\n",
    "submission_dict = {}\n",
    "\n",
    "# dir(dataset_test)\n",
    "\n",
    "for i in range(len(dataset_test)):\n",
    "  print(curr_index)\n",
    "  item = dataset_test.__getitem__(i)\n",
    "  current_info = dataset_test.__getInfo__(i)\n",
    "  patch_predictions = []\n",
    "  for patch_arr in item[0]:\n",
    "    out_sigmoid = model.predict(x=tf.expand_dims(patch_arr, 0))\n",
    "    predicted_class = tf.argmax(out_sigmoid, -1)\n",
    "    predicted_class = predicted_class[0, ...]\n",
    "    patch_predictions.append(predicted_class)\n",
    "\n",
    "  # print(len(patch_predictions))\n",
    "  # patch_predictions[0].shape\n",
    "  predicted_class_orig = dataset_test.__rebuildoriginal__(i, patch_predictions)\n",
    "  # image = image[0]\n",
    "  # out_sigmoid = model.predict(x=tf.expand_dims(image, 0))\n",
    "  # out_resized = tf.image.resize(out_sigmoid, current_info[3], method='nearest')  # (1, height, width, num_classes)\n",
    "  # predicted_class = tf.argmax(out_resized, -1)\n",
    "  # predicted_class = predicted_class[0, ...]\n",
    "  # predicted_class\n",
    "  # predict_resized = tf.image.resize(predicted_class, current_info[3], method='nearest')\n",
    "\n",
    "  print(predicted_class_orig.shape)\n",
    "\n",
    "  img_name = current_info[0][:-4]\n",
    "  submission_dict[img_name] = {}\n",
    "  submission_dict[img_name]['shape'] = [predicted_class_orig.shape[0],predicted_class_orig.shape[1]]\n",
    "  submission_dict[img_name]['team'] = current_info[1]\n",
    "  submission_dict[img_name]['crop'] = current_info[2]\n",
    "  submission_dict[img_name]['segmentation'] = {}\n",
    "\n",
    "  # RLE encoding\n",
    "  # crop\n",
    "  rle_encoded_crop = rle_encode(np.array(predicted_class_orig == 1))\n",
    "  # weed\n",
    "  rle_encoded_weed = rle_encode(np.array(predicted_class_orig == 2))\n",
    "\n",
    "  submission_dict[img_name]['segmentation']['crop'] = rle_encoded_crop\n",
    "  submission_dict[img_name]['segmentation']['weed'] = rle_encoded_weed\n",
    "\n",
    "  curr_index += 1\n",
    "\n",
    "now = datetime.now().strftime('%b%d_%H-%M-%S')\n",
    "with open(os.path.join(dest_dir,'Results','submission.json'), 'w') as f:\n",
    "  json.dump(submission_dict, f)"
   ]
  },
  {
   "cell_type": "code",
   "execution_count": null,
   "metadata": {
    "id": "Se38PJ2t0O0j"
   },
   "outputs": [],
   "source": [
    "index = 0"
   ]
  },
  {
   "cell_type": "code",
   "execution_count": null,
   "metadata": {
    "colab": {
     "base_uri": "https://localhost:8080/",
     "height": 241
    },
    "executionInfo": {
     "elapsed": 6474,
     "status": "ok",
     "timestamp": 1607789782105,
     "user": {
      "displayName": "Irene Arroyo Delgado",
      "photoUrl": "https://lh3.googleusercontent.com/a-/AOh14GjE-g4v8K9YBYb5gwspoxjyt8F9k0xvUvG8NqP40qQ=s64",
      "userId": "16117914916042522232"
     },
     "user_tz": -60
    },
    "id": "M75UjH7xxS7J",
    "outputId": "6b14652c-5a88-415c-b178-11d7a75735fe"
   },
   "outputs": [
    {
     "data": {
      "text/plain": [
       "(1, 512, 512, 3)"
      ]
     },
     "execution_count": 41,
     "metadata": {
      "tags": []
     },
     "output_type": "execute_result"
    },
    {
     "data": {
      "text/plain": [
       "<matplotlib.image.AxesImage at 0x7ff914238be0>"
      ]
     },
     "execution_count": 41,
     "metadata": {
      "tags": []
     },
     "output_type": "execute_result"
    },
    {
     "data": {
      "text/plain": [
       "<matplotlib.image.AxesImage at 0x7ff914417f28>"
      ]
     },
     "execution_count": 41,
     "metadata": {
      "tags": []
     },
     "output_type": "execute_result"
    },
    {
     "data": {
      "image/png": "[encoded data removed]",
      "text/plain": [
       "<Figure size 576x576 with 2 Axes>"
      ]
     },
     "metadata": {
      "needs_background": "light",
      "tags": []
     },
     "output_type": "display_data"
    }
   ],
   "source": [
    "# iterator = iter(test_dataset)\n",
    "\n",
    "fig, ax = plt.subplots(1, 2, figsize=(8, 8))\n",
    "fig.show()\n",
    "\n",
    "image = dataset_test.__getoriginal__(index)\n",
    "# image = image * 255\n",
    "\n",
    "item = dataset_test.__getitem__(index)\n",
    "current_info = dataset_test.__getInfo__(index)\n",
    "patch_predictions = []\n",
    "for patch_arr in item[0]:\n",
    "  out_sigmoid = model.predict(x=tf.expand_dims(patch_arr, 0))\n",
    "  predicted_class = tf.argmax(out_sigmoid, -1)\n",
    "  predicted_class = predicted_class[0, ...]\n",
    "  patch_predictions.append(predicted_class)\n",
    "\n",
    "predicted_class_orig = dataset_test.__rebuildoriginal__(index, patch_predictions)\n",
    "index += 1\n",
    "\n",
    "\n",
    "# out_sigmoid = model.predict(x=tf.expand_dims(image, 0))\n",
    "\n",
    "# Get predicted class as the index corresponding to the maximum value in the vector probability\n",
    "# predicted_class = tf.cast(out_sigmoid > score_th, tf.int32)\n",
    "# predicted_class = predicted_class[0, ..., 0]\n",
    "# predicted_class = tf.argmax(out_sigmoid, -1)\n",
    "\n",
    "out_sigmoid.shape\n",
    "\n",
    "# predicted_class = predicted_class[0, ...]\n",
    "\n",
    "# Assign colors (just for visualization)\n",
    "\n",
    "prediction_img = np.zeros([predicted_class_orig.shape[0], predicted_class_orig.shape[1], 3])\n",
    "\n",
    "\n",
    "\n",
    "prediction_img[np.where(predicted_class_orig == 0)] = [0, 0, 0]\n",
    "for i in range(1, num_classes):\n",
    "  prediction_img[np.where(predicted_class_orig == i)] = conv_colors[i]\n",
    "\n",
    "ax[0].imshow(np.uint8(image))\n",
    "# ax[1].imshow(np.uint8(target_img))\n",
    "ax[1].imshow(np.uint8(prediction_img))\n",
    "\n",
    "fig.canvas.draw()\n",
    "time.sleep(1)"
   ]
  },
  {
   "cell_type": "markdown",
   "metadata": {
    "id": "BV-lF1w4-Z5s"
   },
   "source": []
  }
 ],
 "metadata": {
  "accelerator": "GPU",
  "colab": {
   "collapsed_sections": [],
   "name": "Segmentation_Tiling.ipynb",
   "provenance": []
  },
  "kernelspec": {
   "display_name": "Python 3",
   "language": "python",
   "name": "python3"
  },
  "language_info": {
   "codemirror_mode": {
    "name": "ipython",
    "version": 3
   },
   "file_extension": ".py",
   "mimetype": "text/x-python",
   "name": "python",
   "nbconvert_exporter": "python",
   "pygments_lexer": "ipython3",
   "version": "3.8.3"
  }
 },
 "nbformat": 4,
 "nbformat_minor": 4
}
